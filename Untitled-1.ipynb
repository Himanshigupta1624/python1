{
 "cells": [
  {
   "cell_type": "code",
   "execution_count": 1,
   "id": "f21c3b57",
   "metadata": {},
   "outputs": [
    {
     "name": "stdout",
     "output_type": "stream",
     "text": [
      "10\n",
      "<class 'decimal.Decimal'>\n"
     ]
    }
   ],
   "source": [
    "import decimal\n",
    "integer=10\n",
    "print(decimal.Decimal(integer))\n",
    "print(type(decimal.Decimal(integer)))"
   ]
  },
  {
   "cell_type": "code",
   "execution_count": 2,
   "id": "f3a7ce3e",
   "metadata": {},
   "outputs": [
    {
     "name": "stdout",
     "output_type": "stream",
     "text": [
      "12345\n",
      "<class 'decimal.Decimal'>\n"
     ]
    }
   ],
   "source": [
    "import decimal\n",
    "string='12345'\n",
    "print(decimal.Decimal(string))\n",
    "print(type(decimal.Decimal(string)))"
   ]
  },
  {
   "cell_type": "code",
   "execution_count": 3,
   "id": "c186228e",
   "metadata": {},
   "outputs": [
    {
     "name": "stdout",
     "output_type": "stream",
     "text": [
      "nohtyP\n"
     ]
    }
   ],
   "source": [
    "string=\"Python\"\n",
    "print(string[::-1])"
   ]
  },
  {
   "cell_type": "code",
   "execution_count": 4,
   "id": "533724fd",
   "metadata": {},
   "outputs": [
    {
     "name": "stdout",
     "output_type": "stream",
     "text": [
      "3\n"
     ]
    }
   ],
   "source": [
    "vowel=[\"a\",\"e\",\"i\",\"o\",\"u\"]\n",
    "word=\"Programming\"\n",
    "count=0\n",
    "for char in word:\n",
    "    if char in vowel:\n",
    "        count+=1\n",
    "print(count)        "
   ]
  },
  {
   "cell_type": "code",
   "execution_count": 5,
   "id": "9a1d5799",
   "metadata": {},
   "outputs": [
    {
     "name": "stdout",
     "output_type": "stream",
     "text": [
      "8\n"
     ]
    }
   ],
   "source": [
    "vowel=[\"a\",\"e\",\"i\",\"o\",\"u\"]\n",
    "word=\"Programming\"\n",
    "count=0\n",
    "for char in word:\n",
    "    if char not  in vowel:\n",
    "        count+=1\n",
    "print(count)"
   ]
  },
  {
   "cell_type": "code",
   "execution_count": 6,
   "id": "757a1807",
   "metadata": {},
   "outputs": [
    {
     "name": "stdout",
     "output_type": "stream",
     "text": [
      "2\n"
     ]
    }
   ],
   "source": [
    "word=\"programming\"\n",
    "character=\"g\"\n",
    "count=0\n",
    "for i in word:\n",
    "    if i==character:\n",
    "        count+=1\n",
    "        \n",
    "print(count)        "
   ]
  },
  {
   "cell_type": "code",
   "execution_count": 13,
   "id": "4d85a61c",
   "metadata": {},
   "outputs": [
    {
     "name": "stdout",
     "output_type": "stream",
     "text": [
      "0\n",
      "1\n",
      "1\n",
      "2\n",
      "3\n",
      "5\n",
      "8\n",
      "13\n",
      "21\n",
      "34\n"
     ]
    }
   ],
   "source": [
    "def fib(n):\n",
    "    if n<=1:\n",
    "        return n\n",
    "    else:\n",
    "        return (fib(n-1)+ fib(n-2))\n",
    "n=10    \n",
    "for i in range(n):  \n",
    "    print(fib(i))"
   ]
  },
  {
   "cell_type": "code",
   "execution_count": 14,
   "id": "eac1a677",
   "metadata": {},
   "outputs": [
    {
     "name": "stdout",
     "output_type": "stream",
     "text": [
      "96\n"
     ]
    }
   ],
   "source": [
    "number_list=[12,34,55,45,96]\n",
    "n=max(number_list)\n",
    "print(n)"
   ]
  },
  {
   "cell_type": "code",
   "execution_count": 15,
   "id": "31a95c55",
   "metadata": {},
   "outputs": [
    {
     "name": "stdout",
     "output_type": "stream",
     "text": [
      "96\n"
     ]
    }
   ],
   "source": [
    "number_list=[12,34,55,45,96]\n",
    "max=number_list[0]\n",
    "for num in number_list:\n",
    "    if num>max:\n",
    "        max=num\n",
    "print(max)        "
   ]
  },
  {
   "cell_type": "code",
   "execution_count": 16,
   "id": "4fed6323",
   "metadata": {},
   "outputs": [
    {
     "name": "stdout",
     "output_type": "stream",
     "text": [
      "12\n"
     ]
    }
   ],
   "source": [
    "number_list=[12,34,55,45,96]\n",
    "min=number_list[0]\n",
    "for num in number_list:\n",
    "    if num<min:\n",
    "        min=num\n",
    "print(min)"
   ]
  },
  {
   "cell_type": "code",
   "execution_count": 22,
   "id": "60aac0d2",
   "metadata": {},
   "outputs": [
    {
     "name": "stdout",
     "output_type": "stream",
     "text": [
      "55\n"
     ]
    }
   ],
   "source": [
    "number_list=[12,34,55,45,96]\n",
    "middleelement=(len(number_list))//2\n",
    "print(number_list[middleelement])"
   ]
  },
  {
   "cell_type": "code",
   "execution_count": 23,
   "id": "af43f536",
   "metadata": {},
   "outputs": [
    {
     "name": "stdout",
     "output_type": "stream",
     "text": [
      "[5, 7, 9]\n"
     ]
    }
   ],
   "source": [
    "list1=[1,2,3]\n",
    "list2=[4,5,6]\n",
    "res_list=[]\n",
    "for i in range(0,len(list1)):\n",
    "    res_list.append(list1[i]+list2[i])\n",
    "print(res_list)   \n",
    "# adding two list elements together "
   ]
  },
  {
   "cell_type": "code",
   "execution_count": 24,
   "id": "bc506874",
   "metadata": {},
   "outputs": [
    {
     "name": "stdout",
     "output_type": "stream",
     "text": [
      "True\n"
     ]
    }
   ],
   "source": [
    "str1=\"Listen\"\n",
    "str2=\"Silent\"\n",
    "str1=str1.replace(\" \",\"\").upper()\n",
    "str2=str2.replace(\" \",\"\").upper()\n",
    "if sorted(str1)==sorted(str2):\n",
    "    print(True)\n",
    "else:\n",
    "    print(False)    "
   ]
  },
  {
   "cell_type": "code",
   "execution_count": 25,
   "id": "110ffe76",
   "metadata": {},
   "outputs": [
    {
     "name": "stdout",
     "output_type": "stream",
     "text": [
      "True\n"
     ]
    }
   ],
   "source": [
    "str1=\"kayak\".lower()\n",
    "if str1==str1[::-1]:\n",
    "    print (\"True\")\n",
    "else:\n",
    "    print(\"False\")    \n",
    "    "
   ]
  },
  {
   "cell_type": "code",
   "execution_count": 26,
   "id": "9af950f3",
   "metadata": {},
   "outputs": [
    {
     "name": "stdout",
     "output_type": "stream",
     "text": [
      "5\n"
     ]
    }
   ],
   "source": [
    "string=\"p r o g r amming\"\n",
    "print(string.count(\" \"))"
   ]
  },
  {
   "cell_type": "code",
   "execution_count": 30,
   "id": "e8f1d51b",
   "metadata": {},
   "outputs": [
    {
     "name": "stdout",
     "output_type": "stream",
     "text": [
      "5\n"
     ]
    }
   ],
   "source": [
    "def count_sp_char(string):\n",
    "    sp_char=\"!@#$%^&*()<>?/{}[].,;~:\"\n",
    "    count=0\n",
    "    for i in string:\n",
    "        if i in sp_char:\n",
    "            count+=1\n",
    "    return count\n",
    "text='Hello ! How are you? #sp! 123&'\n",
    "result=count_sp_char(text)\n",
    "print(result)        "
   ]
  },
  {
   "cell_type": "code",
   "execution_count": 31,
   "id": "16789dda",
   "metadata": {},
   "outputs": [
    {
     "name": "stdout",
     "output_type": "stream",
     "text": [
      "CODE\n"
     ]
    }
   ],
   "source": [
    "string='C O D E'\n",
    "string2=\"\".join(char for char in string if char!=\" \")\n",
    "print (string2)"
   ]
  },
  {
   "cell_type": "code",
   "execution_count": 32,
   "id": "b8ff093f",
   "metadata": {},
   "outputs": [
    {
     "name": "stdout",
     "output_type": "stream",
     "text": [
      "CODE\n"
     ]
    }
   ],
   "source": [
    "string='C O D E'\n",
    "string2= string.replace(\" \",\"\")\n",
    "print (string2)"
   ]
  },
  {
   "cell_type": "code",
   "execution_count": 35,
   "id": "c250839c",
   "metadata": {},
   "outputs": [
    {
     "name": "stdout",
     "output_type": "stream",
     "text": [
      "     *\n",
      "    ***\n",
      "   *****\n",
      "  *******\n",
      " *********\n"
     ]
    }
   ],
   "source": [
    "def pyramid(n):\n",
    "    for i in range(n):\n",
    "        for j in range(i,n):\n",
    "            print(\" \",end=\"\")\n",
    "        for j in range(i+1):\n",
    "            print(\"*\",end=\"\")\n",
    "        for j in range(i):\n",
    "            print(\"*\",end=\"\")\n",
    "        print(\"\")\n",
    "pyramid(5)                    "
   ]
  },
  {
   "cell_type": "code",
   "execution_count": 37,
   "id": "39c72a33",
   "metadata": {},
   "outputs": [
    {
     "name": "stdout",
     "output_type": "stream",
     "text": [
      "    *\n",
      "   ***\n",
      "  *****\n",
      " *******\n",
      "*********\n"
     ]
    }
   ],
   "source": [
    "def pyramid(rows):\n",
    "    for i in range(1,rows+1):\n",
    "        for j in range(rows-i):\n",
    "            print(\" \",end=\"\")\n",
    "        for k in range(2*i-1):\n",
    "            print(\"*\",end=\"\")\n",
    "        print()    \n",
    "pyramid(5)                "
   ]
  },
  {
   "cell_type": "code",
   "execution_count": 38,
   "id": "1855c5e3",
   "metadata": {},
   "outputs": [
    {
     "name": "stdout",
     "output_type": "stream",
     "text": [
      "['is', 'python', 'nice']\n"
     ]
    }
   ],
   "source": [
    "from random import shuffle\n",
    "lst=[\"python\",\"is\",\"nice\"]\n",
    "shuffle(lst)\n",
    "print(lst)"
   ]
  },
  {
   "cell_type": "code",
   "execution_count": 1,
   "id": "00e48bca",
   "metadata": {},
   "outputs": [
    {
     "name": "stdout",
     "output_type": "stream",
     "text": [
      "2 3 5 7 11 13 17 19 23 29 "
     ]
    }
   ],
   "source": [
    "def isprime(num):\n",
    "    for i in range(2,num):\n",
    "        if num%i==0:\n",
    "            return False\n",
    "    return True \n",
    "def prime_generator(n):\n",
    "    num=2\n",
    "    while n:\n",
    "        if isprime(num):\n",
    "            yield num\n",
    "            n-=1\n",
    "        num+=1\n",
    "x=int(input(\"Enter no. of prime numbers required\"))\n",
    "it=prime_generator(x)\n",
    "for e in it :\n",
    "    print(e,end=\" \")                   "
   ]
  },
  {
   "cell_type": "code",
   "execution_count": null,
   "id": "45ae395b",
   "metadata": {},
   "outputs": [],
   "source": []
  }
 ],
 "metadata": {
  "kernelspec": {
   "display_name": ".venv",
   "language": "python",
   "name": "python3"
  },
  "language_info": {
   "codemirror_mode": {
    "name": "ipython",
    "version": 3
   },
   "file_extension": ".py",
   "mimetype": "text/x-python",
   "name": "python",
   "nbconvert_exporter": "python",
   "pygments_lexer": "ipython3",
   "version": "3.11.5"
  }
 },
 "nbformat": 4,
 "nbformat_minor": 5
}
