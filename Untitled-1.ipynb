{
 "cells": [
  {
   "cell_type": "code",
   "execution_count": 1,
   "id": "f21c3b57",
   "metadata": {},
   "outputs": [
    {
     "name": "stdout",
     "output_type": "stream",
     "text": [
      "10\n",
      "<class 'decimal.Decimal'>\n"
     ]
    }
   ],
   "source": [
    "import decimal\n",
    "integer=10\n",
    "print(decimal.Decimal(integer))\n",
    "print(type(decimal.Decimal(integer)))"
   ]
  },
  {
   "cell_type": "code",
   "execution_count": 2,
   "id": "f3a7ce3e",
   "metadata": {},
   "outputs": [
    {
     "name": "stdout",
     "output_type": "stream",
     "text": [
      "12345\n",
      "<class 'decimal.Decimal'>\n"
     ]
    }
   ],
   "source": [
    "import decimal\n",
    "string='12345'\n",
    "print(decimal.Decimal(string))\n",
    "print(type(decimal.Decimal(string)))"
   ]
  },
  {
   "cell_type": "code",
   "execution_count": 3,
   "id": "c186228e",
   "metadata": {},
   "outputs": [
    {
     "name": "stdout",
     "output_type": "stream",
     "text": [
      "nohtyP\n"
     ]
    }
   ],
   "source": [
    "string=\"Python\"\n",
    "print(string[::-1])"
   ]
  },
  {
   "cell_type": "code",
   "execution_count": 4,
   "id": "533724fd",
   "metadata": {},
   "outputs": [
    {
     "name": "stdout",
     "output_type": "stream",
     "text": [
      "3\n"
     ]
    }
   ],
   "source": [
    "vowel=[\"a\",\"e\",\"i\",\"o\",\"u\"]\n",
    "word=\"Programming\"\n",
    "count=0\n",
    "for char in word:\n",
    "    if char in vowel:\n",
    "        count+=1\n",
    "print(count)        "
   ]
  },
  {
   "cell_type": "code",
   "execution_count": 5,
   "id": "9a1d5799",
   "metadata": {},
   "outputs": [
    {
     "name": "stdout",
     "output_type": "stream",
     "text": [
      "8\n"
     ]
    }
   ],
   "source": [
    "vowel=[\"a\",\"e\",\"i\",\"o\",\"u\"]\n",
    "word=\"Programming\"\n",
    "count=0\n",
    "for char in word:\n",
    "    if char not  in vowel:\n",
    "        count+=1\n",
    "print(count)"
   ]
  },
  {
   "cell_type": "code",
   "execution_count": 6,
   "id": "757a1807",
   "metadata": {},
   "outputs": [
    {
     "name": "stdout",
     "output_type": "stream",
     "text": [
      "2\n"
     ]
    }
   ],
   "source": [
    "word=\"programming\"\n",
    "character=\"g\"\n",
    "count=0\n",
    "for i in word:\n",
    "    if i==character:\n",
    "        count+=1\n",
    "        \n",
    "print(count)        "
   ]
  },
  {
   "cell_type": "code",
   "execution_count": 13,
   "id": "4d85a61c",
   "metadata": {},
   "outputs": [
    {
     "name": "stdout",
     "output_type": "stream",
     "text": [
      "0\n",
      "1\n",
      "1\n",
      "2\n",
      "3\n",
      "5\n",
      "8\n",
      "13\n",
      "21\n",
      "34\n"
     ]
    }
   ],
   "source": [
    "def fib(n):\n",
    "    if n<=1:\n",
    "        return n\n",
    "    else:\n",
    "        return (fib(n-1)+ fib(n-2))\n",
    "n=10    \n",
    "for i in range(n):  \n",
    "    print(fib(i))"
   ]
  },
  {
   "cell_type": "code",
   "execution_count": 14,
   "id": "eac1a677",
   "metadata": {},
   "outputs": [
    {
     "name": "stdout",
     "output_type": "stream",
     "text": [
      "96\n"
     ]
    }
   ],
   "source": [
    "number_list=[12,34,55,45,96]\n",
    "n=max(number_list)\n",
    "print(n)"
   ]
  },
  {
   "cell_type": "code",
   "execution_count": 15,
   "id": "31a95c55",
   "metadata": {},
   "outputs": [
    {
     "name": "stdout",
     "output_type": "stream",
     "text": [
      "96\n"
     ]
    }
   ],
   "source": [
    "number_list=[12,34,55,45,96]\n",
    "max=number_list[0]\n",
    "for num in number_list:\n",
    "    if num>max:\n",
    "        max=num\n",
    "print(max)        "
   ]
  },
  {
   "cell_type": "code",
   "execution_count": 16,
   "id": "4fed6323",
   "metadata": {},
   "outputs": [
    {
     "name": "stdout",
     "output_type": "stream",
     "text": [
      "12\n"
     ]
    }
   ],
   "source": [
    "number_list=[12,34,55,45,96]\n",
    "min=number_list[0]\n",
    "for num in number_list:\n",
    "    if num<min:\n",
    "        min=num\n",
    "print(min)"
   ]
  },
  {
   "cell_type": "code",
   "execution_count": 22,
   "id": "60aac0d2",
   "metadata": {},
   "outputs": [
    {
     "name": "stdout",
     "output_type": "stream",
     "text": [
      "55\n"
     ]
    }
   ],
   "source": [
    "number_list=[12,34,55,45,96]\n",
    "middleelement=(len(number_list))//2\n",
    "print(number_list[middleelement])"
   ]
  },
  {
   "cell_type": "code",
   "execution_count": 23,
   "id": "af43f536",
   "metadata": {},
   "outputs": [
    {
     "name": "stdout",
     "output_type": "stream",
     "text": [
      "[5, 7, 9]\n"
     ]
    }
   ],
   "source": [
    "list1=[1,2,3]\n",
    "list2=[4,5,6]\n",
    "res_list=[]\n",
    "for i in range(0,len(list1)):\n",
    "    res_list.append(list1[i]+list2[i])\n",
    "print(res_list)   \n",
    "# adding two list elements together "
   ]
  },
  {
   "cell_type": "code",
   "execution_count": 24,
   "id": "bc506874",
   "metadata": {},
   "outputs": [
    {
     "name": "stdout",
     "output_type": "stream",
     "text": [
      "True\n"
     ]
    }
   ],
   "source": [
    "str1=\"Listen\"\n",
    "str2=\"Silent\"\n",
    "str1=str1.replace(\" \",\"\").upper()\n",
    "str2=str2.replace(\" \",\"\").upper()\n",
    "if sorted(str1)==sorted(str2):\n",
    "    print(True)\n",
    "else:\n",
    "    print(False)    "
   ]
  },
  {
   "cell_type": "code",
   "execution_count": 25,
   "id": "110ffe76",
   "metadata": {},
   "outputs": [
    {
     "name": "stdout",
     "output_type": "stream",
     "text": [
      "True\n"
     ]
    }
   ],
   "source": [
    "str1=\"kayak\".lower()\n",
    "if str1==str1[::-1]:\n",
    "    print (\"True\")\n",
    "else:\n",
    "    print(\"False\")    \n",
    "    "
   ]
  },
  {
   "cell_type": "code",
   "execution_count": 26,
   "id": "9af950f3",
   "metadata": {},
   "outputs": [
    {
     "name": "stdout",
     "output_type": "stream",
     "text": [
      "5\n"
     ]
    }
   ],
   "source": [
    "string=\"p r o g r amming\"\n",
    "print(string.count(\" \"))"
   ]
  },
  {
   "cell_type": "code",
   "execution_count": 30,
   "id": "e8f1d51b",
   "metadata": {},
   "outputs": [
    {
     "name": "stdout",
     "output_type": "stream",
     "text": [
      "5\n"
     ]
    }
   ],
   "source": [
    "def count_sp_char(string):\n",
    "    sp_char=\"!@#$%^&*()<>?/{}[].,;~:\"\n",
    "    count=0\n",
    "    for i in string:\n",
    "        if i in sp_char:\n",
    "            count+=1\n",
    "    return count\n",
    "text='Hello ! How are you? #sp! 123&'\n",
    "result=count_sp_char(text)\n",
    "print(result)        "
   ]
  },
  {
   "cell_type": "code",
   "execution_count": 31,
   "id": "16789dda",
   "metadata": {},
   "outputs": [
    {
     "name": "stdout",
     "output_type": "stream",
     "text": [
      "CODE\n"
     ]
    }
   ],
   "source": [
    "string='C O D E'\n",
    "string2=\"\".join(char for char in string if char!=\" \")\n",
    "print (string2)"
   ]
  },
  {
   "cell_type": "code",
   "execution_count": 32,
   "id": "b8ff093f",
   "metadata": {},
   "outputs": [
    {
     "name": "stdout",
     "output_type": "stream",
     "text": [
      "CODE\n"
     ]
    }
   ],
   "source": [
    "string='C O D E'\n",
    "string2= string.replace(\" \",\"\")\n",
    "print (string2)"
   ]
  },
  {
   "cell_type": "code",
   "execution_count": 35,
   "id": "c250839c",
   "metadata": {},
   "outputs": [
    {
     "name": "stdout",
     "output_type": "stream",
     "text": [
      "     *\n",
      "    ***\n",
      "   *****\n",
      "  *******\n",
      " *********\n"
     ]
    }
   ],
   "source": [
    "def pyramid(n):\n",
    "    for i in range(n):\n",
    "        for j in range(i,n):\n",
    "            print(\" \",end=\"\")\n",
    "        for j in range(i+1):\n",
    "            print(\"*\",end=\"\")\n",
    "        for j in range(i):\n",
    "            print(\"*\",end=\"\")\n",
    "        print(\"\")\n",
    "pyramid(5)                    "
   ]
  },
  {
   "cell_type": "code",
   "execution_count": 1,
   "id": "39c72a33",
   "metadata": {},
   "outputs": [
    {
     "name": "stdout",
     "output_type": "stream",
     "text": [
      "    *    \n",
      "   ***   \n",
      "  *****  \n",
      " ******* \n",
      "*********\n"
     ]
    }
   ],
   "source": [
    "def pyramid(rows):\n",
    "    for i in range(1,rows+1):\n",
    "        for j in range(rows-i):\n",
    "            print(\" \",end=\"\")\n",
    "        for k in range(2*i-1):\n",
    "            print(\"*\",end=\"\")\n",
    "        for j in range(rows-i):\n",
    "            print(\" \",end=\"\")    \n",
    "        print()    \n",
    "pyramid(5)                "
   ]
  },
  {
   "cell_type": "code",
   "execution_count": 7,
   "id": "d75fc99b",
   "metadata": {},
   "outputs": [
    {
     "name": "stdout",
     "output_type": "stream",
     "text": [
      " *********\n",
      "  *******\n",
      "   *****\n",
      "    ***\n",
      "     *\n"
     ]
    }
   ],
   "source": [
    "def pyramid(rows):\n",
    "    for i in range(1,rows+1):\n",
    "        for j in range(i):\n",
    "            print(\" \",end=\"\")\n",
    "        for k in range(2*(rows-i)+1):\n",
    "            print(\"*\",end=\"\")\n",
    "        print()    \n",
    "pyramid(5)"
   ]
  },
  {
   "cell_type": "code",
   "execution_count": 1,
   "id": "3cc5428f",
   "metadata": {},
   "outputs": [
    {
     "name": "stdout",
     "output_type": "stream",
     "text": [
      "     *\n",
      "    ***\n",
      "   *****\n",
      "  *******\n",
      " *********\n",
      "***********\n",
      " *********\n",
      "  *******\n",
      "   *****\n",
      "    ***\n",
      "     *\n"
     ]
    }
   ],
   "source": [
    "def starArrowPattern(n: int) -> None:\n",
    "    # Upper part (1 to n)\n",
    "    for i in range(1, n + 1):\n",
    "        # Print spaces\n",
    "        for j in range(n - i):\n",
    "            print(\" \", end=\"\")\n",
    "        # Print stars\n",
    "        for k in range(2 * i - 1):\n",
    "            print(\"*\", end=\"\")\n",
    "        print()\n",
    "\n",
    "    # Lower part (n-1 to 1)\n",
    "    for i in range(n - 1, 0, -1):\n",
    "        # Print spaces\n",
    "        for j in range(n - i):\n",
    "            print(\" \", end=\"\")\n",
    "        # Print stars\n",
    "        for k in range(2 * i - 1):\n",
    "            print(\"*\", end=\"\")\n",
    "        print()\n",
    "\n",
    "# Example usage\n",
    "starArrowPattern(6)\n"
   ]
  },
  {
   "cell_type": "code",
   "execution_count": 8,
   "id": "21735c85",
   "metadata": {},
   "outputs": [
    {
     "name": "stdout",
     "output_type": "stream",
     "text": [
      "    *    \n",
      "   ***   \n",
      "  *****  \n",
      " ******* \n",
      "*********\n",
      "*********\n",
      " ******* \n",
      "  *****  \n",
      "   ***   \n",
      "    *    \n"
     ]
    }
   ],
   "source": [
    "def nStarDiamond(n: int) -> None:\n",
    "    for i in range(1, n + 1):\n",
    "        # Print spaces\n",
    "        for j in range(n - i):\n",
    "            print(\" \", end=\"\")\n",
    "        # Print stars\n",
    "        for k in range(2 * i - 1):\n",
    "            print(\"*\", end=\"\")\n",
    "        for j in range(n - i):\n",
    "            print(\" \", end=\"\")    \n",
    "        print()\n",
    "\n",
    "    # Lower part (n-1 to 1)\n",
    "    for i in range(n , 0, -1):\n",
    "        # Print spaces\n",
    "        for j in range(n - i):\n",
    "            print(\" \", end=\"\")\n",
    "        # Print stars\n",
    "        for k in range(2 * i - 1):\n",
    "            print(\"*\", end=\"\")\n",
    "        for j in range(n - i):\n",
    "            print(\" \", end=\"\")    \n",
    "        print()\n",
    "nStarDiamond(5)        "
   ]
  },
  {
   "cell_type": "code",
   "execution_count": 15,
   "id": "6a9c700b",
   "metadata": {},
   "outputs": [
    {
     "name": "stdout",
     "output_type": "stream",
     "text": [
      "*\n",
      "**\n",
      "***\n",
      "****\n",
      "*****\n",
      "****\n",
      "***\n",
      "**\n",
      "*\n"
     ]
    }
   ],
   "source": [
    "def rows(n):\n",
    "    for i in range(1,n+1):\n",
    "        for j in range(i):\n",
    "            print(\"*\",end=\"\")\n",
    "        print() \n",
    "    for i in range(n-1,0,-1)  :\n",
    "        for j in range(i):\n",
    "            print(\"*\",end=\"\")  \n",
    "        print()      \n",
    "rows(5)         \n",
    "            "
   ]
  },
  {
   "cell_type": "code",
   "execution_count": null,
   "id": "6f4c3e0d",
   "metadata": {},
   "outputs": [
    {
     "name": "stdout",
     "output_type": "stream",
     "text": [
      "1 \n",
      "0 1 \n",
      "1 0 1 \n",
      "0 1 0 1 \n"
     ]
    }
   ],
   "source": [
    "def rows(n):\n",
    "    for i in range(1,n+1):\n",
    "        start=1 if i%2!=0 else 0\n",
    "        for j in range(i):\n",
    "            print(start,end=\" \")\n",
    "            start=1-start#flip between 1's and 0's\n",
    "        print()\n",
    "rows(4)            "
   ]
  },
  {
   "cell_type": "code",
   "execution_count": 36,
   "id": "2b9720fc",
   "metadata": {},
   "outputs": [
    {
     "name": "stdout",
     "output_type": "stream",
     "text": [
      "1       1 \n",
      "1 2     2 1 \n",
      "1 2 3   3 2 1 \n",
      "1 2 3 4 4 3 2 1 \n"
     ]
    }
   ],
   "source": [
    "def rows(n):\n",
    "    for i in range(1,n+1):\n",
    "        for j in range(1,i+1):\n",
    "            print(j,end=\" \")\n",
    "        for k in range(2*(n-i)):\n",
    "            print(\" \",end=\"\")\n",
    "        for j in range(i,0,-1):\n",
    "            print(j,end=\" \")\n",
    "        print()\n",
    "rows(4)                "
   ]
  },
  {
   "cell_type": "code",
   "execution_count": 35,
   "id": "2ebec1f7",
   "metadata": {},
   "outputs": [
    {
     "name": "stdout",
     "output_type": "stream",
     "text": [
      "1 \n",
      "2 3 \n",
      "4 5 6 \n",
      "7 8 9 10 \n"
     ]
    }
   ],
   "source": [
    "def rows(n):\n",
    "    num=1\n",
    "    for i in range(1,n+1):\n",
    "       for j in range(1,i+1):\n",
    "           print(num,end=\" \")\n",
    "           num+=1\n",
    "       print()  \n",
    "rows(4)         "
   ]
  },
  {
   "cell_type": "code",
   "execution_count": 40,
   "id": "56197bae",
   "metadata": {},
   "outputs": [
    {
     "name": "stdout",
     "output_type": "stream",
     "text": [
      "A \n",
      "A B \n",
      "A B C \n"
     ]
    }
   ],
   "source": [
    "def rows(n):\n",
    "    \n",
    "    for i in range(1,n+1):\n",
    "       for j in range(i):\n",
    "           print(chr(65+j),end=\" \")\n",
    "           \n",
    "       print()  \n",
    "rows(3)"
   ]
  },
  {
   "cell_type": "code",
   "execution_count": 3,
   "id": "d478bea7",
   "metadata": {},
   "outputs": [
    {
     "name": "stdout",
     "output_type": "stream",
     "text": [
      "A B C D E \n",
      "A B C D \n",
      "A B C \n",
      "A B \n",
      "A \n",
      "\n"
     ]
    }
   ],
   "source": [
    "def rows(n):\n",
    "    for i in range(n+1):\n",
    "        for j in range(n-i):\n",
    "            print(chr(65+j),end=\" \")\n",
    "        print()\n",
    "rows(5)            "
   ]
  },
  {
   "cell_type": "code",
   "execution_count": 53,
   "id": "07d20ebe",
   "metadata": {},
   "outputs": [
    {
     "name": "stdout",
     "output_type": "stream",
     "text": [
      "A \n",
      "B B \n",
      "C C C \n",
      "D D D D \n",
      "E E E E E \n"
     ]
    }
   ],
   "source": [
    "def rows(n):\n",
    "    for i in range(n):\n",
    "        for j in range(i+1):\n",
    "            print(chr(65+i),end=\" \")\n",
    "        print()\n",
    "rows(5)"
   ]
  },
  {
   "cell_type": "code",
   "execution_count": null,
   "id": "65ec35c3",
   "metadata": {},
   "outputs": [
    {
     "name": "stdout",
     "output_type": "stream",
     "text": [
      "   A     \n",
      "  A B A    \n",
      " A B C B A   \n",
      "A B C D C B A  \n"
     ]
    }
   ],
   "source": [
    "def rows(n):\n",
    "    for i in range(n):\n",
    "        for j in range(n-i-1):\n",
    "            print(\" \",end=\"\")\n",
    "        for j in range(i+1):\n",
    "            print(chr(65+j),end=\" \")\n",
    "        for j in range(i - 1, -1, -1):\n",
    "            print(chr(65 + j), end=\" \")    \n",
    "        for j in range(n-i-1):\n",
    "            print(\" \",end=\"\")    \n",
    "        print()\n",
    "rows(4)                "
   ]
  },
  {
   "cell_type": "code",
   "execution_count": 77,
   "id": "954ab8b0",
   "metadata": {},
   "outputs": [
    {
     "name": "stdout",
     "output_type": "stream",
     "text": [
      "E \n",
      "E D \n",
      "E D C \n",
      "E D C B \n",
      "E D C B A \n"
     ]
    }
   ],
   "source": [
    "def reverse_alpha_triangle(n):\n",
    "    start_char = chr(65 + n - 1 )\n",
    "    for i in range(n):\n",
    "          # Start from 'E', 'D', ..., 'A'\n",
    "        for j in range(i + 1):\n",
    "            print(chr(ord(start_char) - j), end=\" \")\n",
    "        print()\n",
    "\n",
    "reverse_alpha_triangle(5)           "
   ]
  },
  {
   "cell_type": "code",
   "execution_count": 8,
   "id": "6f374139",
   "metadata": {},
   "outputs": [
    {
     "name": "stdout",
     "output_type": "stream",
     "text": [
      "E \n",
      "D E \n",
      "C D E \n",
      "B C D E \n",
      "A B C D E \n"
     ]
    }
   ],
   "source": [
    "def print18(n):\n",
    "    for i in range(n):\n",
    "        for ch in range(ord('E') - i, ord('E') + 1):\n",
    "            print(chr(ch), end=\" \")\n",
    "        print()\n",
    "print18(5)        "
   ]
  },
  {
   "cell_type": "code",
   "execution_count": 46,
   "id": "0bbc8299",
   "metadata": {},
   "outputs": [
    {
     "name": "stdout",
     "output_type": "stream",
     "text": [
      "******\n",
      "**  **\n",
      "*    *\n",
      "*    *\n",
      "**  **\n",
      "******\n"
     ]
    }
   ],
   "source": [
    "def rows(n):\n",
    "    spaces = 0\n",
    "    for i in range(n, 0, -1):\n",
    "        # Left stars\n",
    "        for j in range(i):\n",
    "            print(\"*\", end=\"\")\n",
    "        # Middle spaces\n",
    "        for j in range(spaces):\n",
    "            print(\" \", end=\"\")\n",
    "        # Right stars\n",
    "        for j in range(i):\n",
    "            print(\"*\", end=\"\")\n",
    "        print()\n",
    "        spaces += 2\n",
    "    \n",
    "    # Bottom part - increasing stars\n",
    "    spaces = 2*n - 2\n",
    "    for i in range(1, n+1):\n",
    "        # Left stars\n",
    "        for j in range(i):\n",
    "            print(\"*\", end=\"\")\n",
    "        # Middle spaces\n",
    "        for j in range(spaces):\n",
    "            print(\" \", end=\"\")\n",
    "        # Right stars\n",
    "        for j in range(i):\n",
    "            print(\"*\", end=\"\")\n",
    "        print()\n",
    "        spaces -= 2\n",
    "    \n",
    "    # print()       \n",
    "rows(3)                 "
   ]
  },
  {
   "cell_type": "code",
   "execution_count": 48,
   "id": "9bbfe5e8",
   "metadata": {},
   "outputs": [
    {
     "name": "stdout",
     "output_type": "stream",
     "text": [
      "*                 * \n",
      "* *             * * \n",
      "* * *         * * * \n",
      "* * * *     * * * * \n",
      "* * * * * * * * * * \n",
      "* * * * * * * * * * \n",
      "* * * *     * * * * \n",
      "* * *         * * * \n",
      "* *             * * \n",
      "*                 * \n"
     ]
    }
   ],
   "source": [
    "def rows(n):\n",
    "    spaces = 2*n - 2\n",
    "    for i in range(1, n+1):\n",
    "        # Left stars\n",
    "        for j in range(i):\n",
    "            print(\"*\", end=\" \")\n",
    "        # Middle spaces\n",
    "        for j in range(spaces):\n",
    "            print(\" \", end=\" \")\n",
    "        # Right stars\n",
    "        for j in range(i):\n",
    "            print(\"*\", end=\" \")\n",
    "        print()\n",
    "        spaces -= 2\n",
    "    spaces = 0\n",
    "    for i in range(n, 0, -1):\n",
    "        # Left stars\n",
    "        for j in range(i):\n",
    "            print(\"*\", end=\" \")\n",
    "        # Middle spaces\n",
    "        for j in range(spaces):\n",
    "            print(\" \", end=\" \")\n",
    "        # Right stars\n",
    "        for j in range(i):\n",
    "            print(\"*\", end=\" \")\n",
    "        print()\n",
    "        spaces += 2\n",
    "rows(5)            \n",
    "    \n",
    "    "
   ]
  },
  {
   "cell_type": "code",
   "execution_count": null,
   "id": "4613ef15",
   "metadata": {},
   "outputs": [
    {
     "name": "stdout",
     "output_type": "stream",
     "text": [
      "* * * * \n",
      "*     * \n",
      "*     * \n",
      "* * * * \n"
     ]
    }
   ],
   "source": [
    "def rows(n):\n",
    "    for i in range(n):\n",
    "        for j in range(n):\n",
    "            if i==0 or i==n-1 or j==0 or j==n-1:#boundaries \n",
    "                print(\"*\",end=\" \")\n",
    "            else:\n",
    "                print(\" \",end=\" \")   \n",
    "        print()    \n",
    "rows(4)             "
   ]
  },
  {
   "cell_type": "code",
   "execution_count": 52,
   "id": "88b79f6f",
   "metadata": {},
   "outputs": [
    {
     "name": "stdout",
     "output_type": "stream",
     "text": [
      "4 4 4 4 4 4 4 \n",
      "4 3 3 3 3 3 4 \n",
      "4 3 2 2 2 3 4 \n",
      "4 3 2 1 2 3 4 \n",
      "4 3 2 2 2 3 4 \n",
      "4 3 3 3 3 3 4 \n",
      "4 4 4 4 4 4 4 \n"
     ]
    }
   ],
   "source": [
    "def rows(n):\n",
    "    size=2*n-1\n",
    "    for i in range(size):\n",
    "        for j in range(size):\n",
    "            min_dist=min(i,j,size-1-i,size-1-j)\n",
    "            print(n-min_dist,end=\" \")\n",
    "        print()\n",
    "rows(4)                "
   ]
  },
  {
   "cell_type": "code",
   "execution_count": 38,
   "id": "1855c5e3",
   "metadata": {},
   "outputs": [
    {
     "name": "stdout",
     "output_type": "stream",
     "text": [
      "['is', 'python', 'nice']\n"
     ]
    }
   ],
   "source": [
    "from random import shuffle\n",
    "lst=[\"python\",\"is\",\"nice\"]\n",
    "shuffle(lst)\n",
    "print(lst)"
   ]
  },
  {
   "cell_type": "code",
   "execution_count": 1,
   "id": "00e48bca",
   "metadata": {},
   "outputs": [
    {
     "name": "stdout",
     "output_type": "stream",
     "text": [
      "2 3 5 7 11 13 17 19 23 29 "
     ]
    }
   ],
   "source": [
    "def isprime(num):\n",
    "    for i in range(2,num):\n",
    "        if num%i==0:\n",
    "            return False\n",
    "    return True \n",
    "def prime_generator(n):\n",
    "    num=2\n",
    "    while n:\n",
    "        if isprime(num):\n",
    "            yield num\n",
    "            n-=1\n",
    "        num+=1\n",
    "x=int(input(\"Enter no. of prime numbers required\"))\n",
    "it=prime_generator(x)\n",
    "for e in it :\n",
    "    print(e,end=\" \")                   "
   ]
  },
  {
   "cell_type": "code",
   "execution_count": null,
   "id": "45ae395b",
   "metadata": {},
   "outputs": [],
   "source": []
  }
 ],
 "metadata": {
  "kernelspec": {
   "display_name": ".venv",
   "language": "python",
   "name": "python3"
  },
  "language_info": {
   "codemirror_mode": {
    "name": "ipython",
    "version": 3
   },
   "file_extension": ".py",
   "mimetype": "text/x-python",
   "name": "python",
   "nbconvert_exporter": "python",
   "pygments_lexer": "ipython3",
   "version": "3.11.5"
  }
 },
 "nbformat": 4,
 "nbformat_minor": 5
}
