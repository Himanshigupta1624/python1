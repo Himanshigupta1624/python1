{
 "cells": [
  {
   "cell_type": "code",
   "execution_count": 1,
   "id": "f21c3b57",
   "metadata": {},
   "outputs": [
    {
     "name": "stdout",
     "output_type": "stream",
     "text": [
      "10\n",
      "<class 'decimal.Decimal'>\n"
     ]
    }
   ],
   "source": [
    "import decimal\n",
    "integer=10\n",
    "print(decimal.Decimal(integer))\n",
    "print(type(decimal.Decimal(integer)))"
   ]
  },
  {
   "cell_type": "code",
   "execution_count": 2,
   "id": "f3a7ce3e",
   "metadata": {},
   "outputs": [
    {
     "name": "stdout",
     "output_type": "stream",
     "text": [
      "12345\n",
      "<class 'decimal.Decimal'>\n"
     ]
    }
   ],
   "source": [
    "import decimal\n",
    "string='12345'\n",
    "print(decimal.Decimal(string))\n",
    "print(type(decimal.Decimal(string)))"
   ]
  },
  {
   "cell_type": "code",
   "execution_count": 3,
   "id": "c186228e",
   "metadata": {},
   "outputs": [
    {
     "name": "stdout",
     "output_type": "stream",
     "text": [
      "nohtyP\n"
     ]
    }
   ],
   "source": [
    "string=\"Python\"\n",
    "print(string[::-1])"
   ]
  },
  {
   "cell_type": "code",
   "execution_count": 4,
   "id": "533724fd",
   "metadata": {},
   "outputs": [
    {
     "name": "stdout",
     "output_type": "stream",
     "text": [
      "3\n"
     ]
    }
   ],
   "source": [
    "vowel=[\"a\",\"e\",\"i\",\"o\",\"u\"]\n",
    "word=\"Programming\"\n",
    "count=0\n",
    "for char in word:\n",
    "    if char in vowel:\n",
    "        count+=1\n",
    "print(count)        "
   ]
  },
  {
   "cell_type": "code",
   "execution_count": 5,
   "id": "9a1d5799",
   "metadata": {},
   "outputs": [
    {
     "name": "stdout",
     "output_type": "stream",
     "text": [
      "8\n"
     ]
    }
   ],
   "source": [
    "vowel=[\"a\",\"e\",\"i\",\"o\",\"u\"]\n",
    "word=\"Programming\"\n",
    "count=0\n",
    "for char in word:\n",
    "    if char not  in vowel:\n",
    "        count+=1\n",
    "print(count)"
   ]
  },
  {
   "cell_type": "code",
   "execution_count": 6,
   "id": "757a1807",
   "metadata": {},
   "outputs": [
    {
     "name": "stdout",
     "output_type": "stream",
     "text": [
      "2\n"
     ]
    }
   ],
   "source": [
    "word=\"programming\"\n",
    "character=\"g\"\n",
    "count=0\n",
    "for i in word:\n",
    "    if i==character:\n",
    "        count+=1\n",
    "        \n",
    "print(count)        "
   ]
  },
  {
   "cell_type": "code",
   "execution_count": 13,
   "id": "4d85a61c",
   "metadata": {},
   "outputs": [
    {
     "name": "stdout",
     "output_type": "stream",
     "text": [
      "0\n",
      "1\n",
      "1\n",
      "2\n",
      "3\n",
      "5\n",
      "8\n",
      "13\n",
      "21\n",
      "34\n"
     ]
    }
   ],
   "source": [
    "def fib(n):\n",
    "    if n<=1:\n",
    "        return n\n",
    "    else:\n",
    "        return (fib(n-1)+ fib(n-2))\n",
    "n=10    \n",
    "for i in range(n):  \n",
    "    print(fib(i))"
   ]
  },
  {
   "cell_type": "code",
   "execution_count": 14,
   "id": "eac1a677",
   "metadata": {},
   "outputs": [
    {
     "name": "stdout",
     "output_type": "stream",
     "text": [
      "96\n"
     ]
    }
   ],
   "source": [
    "number_list=[12,34,55,45,96]\n",
    "n=max(number_list)\n",
    "print(n)"
   ]
  },
  {
   "cell_type": "code",
   "execution_count": 15,
   "id": "31a95c55",
   "metadata": {},
   "outputs": [
    {
     "name": "stdout",
     "output_type": "stream",
     "text": [
      "96\n"
     ]
    }
   ],
   "source": [
    "number_list=[12,34,55,45,96]\n",
    "max=number_list[0]\n",
    "for num in number_list:\n",
    "    if num>max:\n",
    "        max=num\n",
    "print(max)        "
   ]
  },
  {
   "cell_type": "code",
   "execution_count": 16,
   "id": "4fed6323",
   "metadata": {},
   "outputs": [
    {
     "name": "stdout",
     "output_type": "stream",
     "text": [
      "12\n"
     ]
    }
   ],
   "source": [
    "number_list=[12,34,55,45,96]\n",
    "min=number_list[0]\n",
    "for num in number_list:\n",
    "    if num<min:\n",
    "        min=num\n",
    "print(min)"
   ]
  },
  {
   "cell_type": "code",
   "execution_count": 22,
   "id": "60aac0d2",
   "metadata": {},
   "outputs": [
    {
     "name": "stdout",
     "output_type": "stream",
     "text": [
      "55\n"
     ]
    }
   ],
   "source": [
    "number_list=[12,34,55,45,96]\n",
    "middleelement=(len(number_list))//2\n",
    "print(number_list[middleelement])"
   ]
  },
  {
   "cell_type": "code",
   "execution_count": 23,
   "id": "af43f536",
   "metadata": {},
   "outputs": [
    {
     "name": "stdout",
     "output_type": "stream",
     "text": [
      "[5, 7, 9]\n"
     ]
    }
   ],
   "source": [
    "list1=[1,2,3]\n",
    "list2=[4,5,6]\n",
    "res_list=[]\n",
    "for i in range(0,len(list1)):\n",
    "    res_list.append(list1[i]+list2[i])\n",
    "print(res_list)   \n",
    "# adding two list elements together "
   ]
  },
  {
   "cell_type": "code",
   "execution_count": 24,
   "id": "bc506874",
   "metadata": {},
   "outputs": [
    {
     "name": "stdout",
     "output_type": "stream",
     "text": [
      "True\n"
     ]
    }
   ],
   "source": [
    "str1=\"Listen\"\n",
    "str2=\"Silent\"\n",
    "str1=str1.replace(\" \",\"\").upper()\n",
    "str2=str2.replace(\" \",\"\").upper()\n",
    "if sorted(str1)==sorted(str2):\n",
    "    print(True)\n",
    "else:\n",
    "    print(False)    "
   ]
  },
  {
   "cell_type": "code",
   "execution_count": 25,
   "id": "110ffe76",
   "metadata": {},
   "outputs": [
    {
     "name": "stdout",
     "output_type": "stream",
     "text": [
      "True\n"
     ]
    }
   ],
   "source": [
    "str1=\"kayak\".lower()\n",
    "if str1==str1[::-1]:\n",
    "    print (\"True\")\n",
    "else:\n",
    "    print(\"False\")    \n",
    "    "
   ]
  },
  {
   "cell_type": "code",
   "execution_count": 26,
   "id": "9af950f3",
   "metadata": {},
   "outputs": [
    {
     "name": "stdout",
     "output_type": "stream",
     "text": [
      "5\n"
     ]
    }
   ],
   "source": [
    "string=\"p r o g r amming\"\n",
    "print(string.count(\" \"))"
   ]
  },
  {
   "cell_type": "code",
   "execution_count": 30,
   "id": "e8f1d51b",
   "metadata": {},
   "outputs": [
    {
     "name": "stdout",
     "output_type": "stream",
     "text": [
      "5\n"
     ]
    }
   ],
   "source": [
    "def count_sp_char(string):\n",
    "    sp_char=\"!@#$%^&*()<>?/{}[].,;~:\"\n",
    "    count=0\n",
    "    for i in string:\n",
    "        if i in sp_char:\n",
    "            count+=1\n",
    "    return count\n",
    "text='Hello ! How are you? #sp! 123&'\n",
    "result=count_sp_char(text)\n",
    "print(result)        "
   ]
  },
  {
   "cell_type": "code",
   "execution_count": 31,
   "id": "16789dda",
   "metadata": {},
   "outputs": [
    {
     "name": "stdout",
     "output_type": "stream",
     "text": [
      "CODE\n"
     ]
    }
   ],
   "source": [
    "string='C O D E'\n",
    "string2=\"\".join(char for char in string if char!=\" \")\n",
    "print (string2)"
   ]
  },
  {
   "cell_type": "code",
   "execution_count": 32,
   "id": "b8ff093f",
   "metadata": {},
   "outputs": [
    {
     "name": "stdout",
     "output_type": "stream",
     "text": [
      "CODE\n"
     ]
    }
   ],
   "source": [
    "string='C O D E'\n",
    "string2= string.replace(\" \",\"\")\n",
    "print (string2)"
   ]
  },
  {
   "cell_type": "code",
   "execution_count": 35,
   "id": "c250839c",
   "metadata": {},
   "outputs": [
    {
     "name": "stdout",
     "output_type": "stream",
     "text": [
      "     *\n",
      "    ***\n",
      "   *****\n",
      "  *******\n",
      " *********\n"
     ]
    }
   ],
   "source": [
    "def pyramid(n):\n",
    "    for i in range(n):\n",
    "        for j in range(i,n):\n",
    "            print(\" \",end=\"\")\n",
    "        for j in range(i+1):\n",
    "            print(\"*\",end=\"\")\n",
    "        for j in range(i):\n",
    "            print(\"*\",end=\"\")\n",
    "        print(\"\")\n",
    "pyramid(5)                    "
   ]
  },
  {
   "cell_type": "code",
   "execution_count": 1,
   "id": "39c72a33",
   "metadata": {},
   "outputs": [
    {
     "name": "stdout",
     "output_type": "stream",
     "text": [
      "    *    \n",
      "   ***   \n",
      "  *****  \n",
      " ******* \n",
      "*********\n"
     ]
    }
   ],
   "source": [
    "def pyramid(rows):\n",
    "    for i in range(1,rows+1):\n",
    "        for j in range(rows-i):\n",
    "            print(\" \",end=\"\")\n",
    "        for k in range(2*i-1):\n",
    "            print(\"*\",end=\"\")\n",
    "        for j in range(rows-i):\n",
    "            print(\" \",end=\"\")    \n",
    "        print()    \n",
    "pyramid(5)                "
   ]
  },
  {
   "cell_type": "code",
   "execution_count": 7,
   "id": "d75fc99b",
   "metadata": {},
   "outputs": [
    {
     "name": "stdout",
     "output_type": "stream",
     "text": [
      " *********\n",
      "  *******\n",
      "   *****\n",
      "    ***\n",
      "     *\n"
     ]
    }
   ],
   "source": [
    "def pyramid(rows):\n",
    "    for i in range(1,rows+1):\n",
    "        for j in range(i):\n",
    "            print(\" \",end=\"\")\n",
    "        for k in range(2*(rows-i)+1):\n",
    "            print(\"*\",end=\"\")\n",
    "        print()    \n",
    "pyramid(5)"
   ]
  },
  {
   "cell_type": "code",
   "execution_count": 1,
   "id": "3cc5428f",
   "metadata": {},
   "outputs": [
    {
     "name": "stdout",
     "output_type": "stream",
     "text": [
      "     *\n",
      "    ***\n",
      "   *****\n",
      "  *******\n",
      " *********\n",
      "***********\n",
      " *********\n",
      "  *******\n",
      "   *****\n",
      "    ***\n",
      "     *\n"
     ]
    }
   ],
   "source": [
    "def starArrowPattern(n: int) -> None:\n",
    "    # Upper part (1 to n)\n",
    "    for i in range(1, n + 1):\n",
    "        # Print spaces\n",
    "        for j in range(n - i):\n",
    "            print(\" \", end=\"\")\n",
    "        # Print stars\n",
    "        for k in range(2 * i - 1):\n",
    "            print(\"*\", end=\"\")\n",
    "        print()\n",
    "\n",
    "    # Lower part (n-1 to 1)\n",
    "    for i in range(n - 1, 0, -1):\n",
    "        # Print spaces\n",
    "        for j in range(n - i):\n",
    "            print(\" \", end=\"\")\n",
    "        # Print stars\n",
    "        for k in range(2 * i - 1):\n",
    "            print(\"*\", end=\"\")\n",
    "        print()\n",
    "\n",
    "# Example usage\n",
    "starArrowPattern(6)\n"
   ]
  },
  {
   "cell_type": "code",
   "execution_count": 8,
   "id": "21735c85",
   "metadata": {},
   "outputs": [
    {
     "name": "stdout",
     "output_type": "stream",
     "text": [
      "    *    \n",
      "   ***   \n",
      "  *****  \n",
      " ******* \n",
      "*********\n",
      "*********\n",
      " ******* \n",
      "  *****  \n",
      "   ***   \n",
      "    *    \n"
     ]
    }
   ],
   "source": [
    "def nStarDiamond(n: int) -> None:\n",
    "    for i in range(1, n + 1):\n",
    "        # Print spaces\n",
    "        for j in range(n - i):\n",
    "            print(\" \", end=\"\")\n",
    "        # Print stars\n",
    "        for k in range(2 * i - 1):\n",
    "            print(\"*\", end=\"\")\n",
    "        for j in range(n - i):\n",
    "            print(\" \", end=\"\")    \n",
    "        print()\n",
    "\n",
    "    # Lower part (n-1 to 1)\n",
    "    for i in range(n , 0, -1):\n",
    "        # Print spaces\n",
    "        for j in range(n - i):\n",
    "            print(\" \", end=\"\")\n",
    "        # Print stars\n",
    "        for k in range(2 * i - 1):\n",
    "            print(\"*\", end=\"\")\n",
    "        for j in range(n - i):\n",
    "            print(\" \", end=\"\")    \n",
    "        print()\n",
    "nStarDiamond(5)        "
   ]
  },
  {
   "cell_type": "code",
   "execution_count": 15,
   "id": "6a9c700b",
   "metadata": {},
   "outputs": [
    {
     "name": "stdout",
     "output_type": "stream",
     "text": [
      "*\n",
      "**\n",
      "***\n",
      "****\n",
      "*****\n",
      "****\n",
      "***\n",
      "**\n",
      "*\n"
     ]
    }
   ],
   "source": [
    "def rows(n):\n",
    "    for i in range(1,n+1):\n",
    "        for j in range(i):\n",
    "            print(\"*\",end=\"\")\n",
    "        print() \n",
    "    for i in range(n-1,0,-1)  :\n",
    "        for j in range(i):\n",
    "            print(\"*\",end=\"\")  \n",
    "        print()      \n",
    "rows(5)         \n",
    "            "
   ]
  },
  {
   "cell_type": "code",
   "execution_count": null,
   "id": "6f4c3e0d",
   "metadata": {},
   "outputs": [
    {
     "name": "stdout",
     "output_type": "stream",
     "text": [
      "1 \n",
      "0 1 \n",
      "1 0 1 \n",
      "0 1 0 1 \n"
     ]
    }
   ],
   "source": [
    "def rows(n):\n",
    "    for i in range(1,n+1):\n",
    "        start=1 if i%2!=0 else 0\n",
    "        for j in range(i):\n",
    "            print(start,end=\" \")\n",
    "            start=1-start#flip between 1's and 0's\n",
    "        print()\n",
    "rows(4)            "
   ]
  },
  {
   "cell_type": "code",
   "execution_count": 36,
   "id": "2b9720fc",
   "metadata": {},
   "outputs": [
    {
     "name": "stdout",
     "output_type": "stream",
     "text": [
      "1       1 \n",
      "1 2     2 1 \n",
      "1 2 3   3 2 1 \n",
      "1 2 3 4 4 3 2 1 \n"
     ]
    }
   ],
   "source": [
    "def rows(n):\n",
    "    for i in range(1,n+1):\n",
    "        for j in range(1,i+1):\n",
    "            print(j,end=\" \")\n",
    "        for k in range(2*(n-i)):\n",
    "            print(\" \",end=\"\")\n",
    "        for j in range(i,0,-1):\n",
    "            print(j,end=\" \")\n",
    "        print()\n",
    "rows(4)                "
   ]
  },
  {
   "cell_type": "code",
   "execution_count": 35,
   "id": "2ebec1f7",
   "metadata": {},
   "outputs": [
    {
     "name": "stdout",
     "output_type": "stream",
     "text": [
      "1 \n",
      "2 3 \n",
      "4 5 6 \n",
      "7 8 9 10 \n"
     ]
    }
   ],
   "source": [
    "def rows(n):\n",
    "    num=1\n",
    "    for i in range(1,n+1):\n",
    "       for j in range(1,i+1):\n",
    "           print(num,end=\" \")\n",
    "           num+=1\n",
    "       print()  \n",
    "rows(4)         "
   ]
  },
  {
   "cell_type": "code",
   "execution_count": 40,
   "id": "56197bae",
   "metadata": {},
   "outputs": [
    {
     "name": "stdout",
     "output_type": "stream",
     "text": [
      "A \n",
      "A B \n",
      "A B C \n"
     ]
    }
   ],
   "source": [
    "def rows(n):\n",
    "    \n",
    "    for i in range(1,n+1):\n",
    "       for j in range(i):\n",
    "           print(chr(65+j),end=\" \")\n",
    "           \n",
    "       print()  \n",
    "rows(3)"
   ]
  },
  {
   "cell_type": "code",
   "execution_count": 3,
   "id": "d478bea7",
   "metadata": {},
   "outputs": [
    {
     "name": "stdout",
     "output_type": "stream",
     "text": [
      "A B C D E \n",
      "A B C D \n",
      "A B C \n",
      "A B \n",
      "A \n",
      "\n"
     ]
    }
   ],
   "source": [
    "def rows(n):\n",
    "    for i in range(n+1):\n",
    "        for j in range(n-i):\n",
    "            print(chr(65+j),end=\" \")\n",
    "        print()\n",
    "rows(5)            "
   ]
  },
  {
   "cell_type": "code",
   "execution_count": 53,
   "id": "07d20ebe",
   "metadata": {},
   "outputs": [
    {
     "name": "stdout",
     "output_type": "stream",
     "text": [
      "A \n",
      "B B \n",
      "C C C \n",
      "D D D D \n",
      "E E E E E \n"
     ]
    }
   ],
   "source": [
    "def rows(n):\n",
    "    for i in range(n):\n",
    "        for j in range(i+1):\n",
    "            print(chr(65+i),end=\" \")\n",
    "        print()\n",
    "rows(5)"
   ]
  },
  {
   "cell_type": "code",
   "execution_count": null,
   "id": "65ec35c3",
   "metadata": {},
   "outputs": [
    {
     "name": "stdout",
     "output_type": "stream",
     "text": [
      "   A     \n",
      "  A B A    \n",
      " A B C B A   \n",
      "A B C D C B A  \n"
     ]
    }
   ],
   "source": [
    "def rows(n):\n",
    "    for i in range(n):\n",
    "        for j in range(n-i-1):\n",
    "            print(\" \",end=\"\")\n",
    "        for j in range(i+1):\n",
    "            print(chr(65+j),end=\" \")\n",
    "        for j in range(i - 1, -1, -1):\n",
    "            print(chr(65 + j), end=\" \")    \n",
    "        for j in range(n-i-1):\n",
    "            print(\" \",end=\"\")    \n",
    "        print()\n",
    "rows(4)                "
   ]
  },
  {
   "cell_type": "code",
   "execution_count": 77,
   "id": "954ab8b0",
   "metadata": {},
   "outputs": [
    {
     "name": "stdout",
     "output_type": "stream",
     "text": [
      "E \n",
      "E D \n",
      "E D C \n",
      "E D C B \n",
      "E D C B A \n"
     ]
    }
   ],
   "source": [
    "def reverse_alpha_triangle(n):\n",
    "    start_char = chr(65 + n - 1 )\n",
    "    for i in range(n):\n",
    "          # Start from 'E', 'D', ..., 'A'\n",
    "        for j in range(i + 1):\n",
    "            print(chr(ord(start_char) - j), end=\" \")\n",
    "        print()\n",
    "\n",
    "reverse_alpha_triangle(5)           "
   ]
  },
  {
   "cell_type": "code",
   "execution_count": 8,
   "id": "6f374139",
   "metadata": {},
   "outputs": [
    {
     "name": "stdout",
     "output_type": "stream",
     "text": [
      "E \n",
      "D E \n",
      "C D E \n",
      "B C D E \n",
      "A B C D E \n"
     ]
    }
   ],
   "source": [
    "def print18(n):\n",
    "    for i in range(n):\n",
    "        for ch in range(ord('E') - i, ord('E') + 1):\n",
    "            print(chr(ch), end=\" \")\n",
    "        print()\n",
    "print18(5)        "
   ]
  },
  {
   "cell_type": "code",
   "execution_count": 46,
   "id": "0bbc8299",
   "metadata": {},
   "outputs": [
    {
     "name": "stdout",
     "output_type": "stream",
     "text": [
      "******\n",
      "**  **\n",
      "*    *\n",
      "*    *\n",
      "**  **\n",
      "******\n"
     ]
    }
   ],
   "source": [
    "def rows(n):\n",
    "    spaces = 0\n",
    "    for i in range(n, 0, -1):\n",
    "        # Left stars\n",
    "        for j in range(i):\n",
    "            print(\"*\", end=\"\")\n",
    "        # Middle spaces\n",
    "        for j in range(spaces):\n",
    "            print(\" \", end=\"\")\n",
    "        # Right stars\n",
    "        for j in range(i):\n",
    "            print(\"*\", end=\"\")\n",
    "        print()\n",
    "        spaces += 2\n",
    "    \n",
    "    # Bottom part - increasing stars\n",
    "    spaces = 2*n - 2\n",
    "    for i in range(1, n+1):\n",
    "        # Left stars\n",
    "        for j in range(i):\n",
    "            print(\"*\", end=\"\")\n",
    "        # Middle spaces\n",
    "        for j in range(spaces):\n",
    "            print(\" \", end=\"\")\n",
    "        # Right stars\n",
    "        for j in range(i):\n",
    "            print(\"*\", end=\"\")\n",
    "        print()\n",
    "        spaces -= 2\n",
    "    \n",
    "    # print()       \n",
    "rows(3)                 "
   ]
  },
  {
   "cell_type": "code",
   "execution_count": 48,
   "id": "9bbfe5e8",
   "metadata": {},
   "outputs": [
    {
     "name": "stdout",
     "output_type": "stream",
     "text": [
      "*                 * \n",
      "* *             * * \n",
      "* * *         * * * \n",
      "* * * *     * * * * \n",
      "* * * * * * * * * * \n",
      "* * * * * * * * * * \n",
      "* * * *     * * * * \n",
      "* * *         * * * \n",
      "* *             * * \n",
      "*                 * \n"
     ]
    }
   ],
   "source": [
    "def rows(n):\n",
    "    spaces = 2*n - 2\n",
    "    for i in range(1, n+1):\n",
    "        # Left stars\n",
    "        for j in range(i):\n",
    "            print(\"*\", end=\" \")\n",
    "        # Middle spaces\n",
    "        for j in range(spaces):\n",
    "            print(\" \", end=\" \")\n",
    "        # Right stars\n",
    "        for j in range(i):\n",
    "            print(\"*\", end=\" \")\n",
    "        print()\n",
    "        spaces -= 2\n",
    "    spaces = 0\n",
    "    for i in range(n, 0, -1):\n",
    "        # Left stars\n",
    "        for j in range(i):\n",
    "            print(\"*\", end=\" \")\n",
    "        # Middle spaces\n",
    "        for j in range(spaces):\n",
    "            print(\" \", end=\" \")\n",
    "        # Right stars\n",
    "        for j in range(i):\n",
    "            print(\"*\", end=\" \")\n",
    "        print()\n",
    "        spaces += 2\n",
    "rows(5)            \n",
    "    \n",
    "    "
   ]
  },
  {
   "cell_type": "code",
   "execution_count": null,
   "id": "4613ef15",
   "metadata": {},
   "outputs": [
    {
     "name": "stdout",
     "output_type": "stream",
     "text": [
      "* * * * \n",
      "*     * \n",
      "*     * \n",
      "* * * * \n"
     ]
    }
   ],
   "source": [
    "def rows(n):\n",
    "    for i in range(n):\n",
    "        for j in range(n):\n",
    "            if i==0 or i==n-1 or j==0 or j==n-1:#boundaries \n",
    "                print(\"*\",end=\" \")\n",
    "            else:\n",
    "                print(\" \",end=\" \")   \n",
    "        print()    \n",
    "rows(4)             "
   ]
  },
  {
   "cell_type": "code",
   "execution_count": 52,
   "id": "88b79f6f",
   "metadata": {},
   "outputs": [
    {
     "name": "stdout",
     "output_type": "stream",
     "text": [
      "4 4 4 4 4 4 4 \n",
      "4 3 3 3 3 3 4 \n",
      "4 3 2 2 2 3 4 \n",
      "4 3 2 1 2 3 4 \n",
      "4 3 2 2 2 3 4 \n",
      "4 3 3 3 3 3 4 \n",
      "4 4 4 4 4 4 4 \n"
     ]
    }
   ],
   "source": [
    "def rows(n):\n",
    "    size=2*n-1\n",
    "    for i in range(size):\n",
    "        for j in range(size):\n",
    "            min_dist=min(i,j,size-1-i,size-1-j)\n",
    "            print(n-min_dist,end=\" \")\n",
    "        print()\n",
    "rows(4)                "
   ]
  },
  {
   "cell_type": "code",
   "execution_count": 38,
   "id": "1855c5e3",
   "metadata": {},
   "outputs": [
    {
     "name": "stdout",
     "output_type": "stream",
     "text": [
      "['is', 'python', 'nice']\n"
     ]
    }
   ],
   "source": [
    "from random import shuffle\n",
    "lst=[\"python\",\"is\",\"nice\"]\n",
    "shuffle(lst)\n",
    "print(lst)"
   ]
  },
  {
   "cell_type": "code",
   "execution_count": 1,
   "id": "00e48bca",
   "metadata": {},
   "outputs": [
    {
     "name": "stdout",
     "output_type": "stream",
     "text": [
      "2 3 5 7 11 13 17 19 23 29 "
     ]
    }
   ],
   "source": [
    "def isprime(num):\n",
    "    for i in range(2,num):\n",
    "        if num%i==0:\n",
    "            return False\n",
    "    return True \n",
    "def prime_generator(n):\n",
    "    num=2\n",
    "    while n:\n",
    "        if isprime(num):\n",
    "            yield num\n",
    "            n-=1\n",
    "        num+=1\n",
    "x=int(input(\"Enter no. of prime numbers required\"))\n",
    "it=prime_generator(x)\n",
    "for e in it :\n",
    "    print(e,end=\" \")                   "
   ]
  },
  {
   "cell_type": "code",
   "execution_count": null,
   "id": "45ae395b",
   "metadata": {},
   "outputs": [
    {
     "name": "stdout",
     "output_type": "stream",
     "text": [
      "himanshi\n",
      "himanshi\n",
      "himanshi\n",
      "himanshi\n",
      "himanshi\n"
     ]
    }
   ],
   "source": [
    "# recursion\n",
    "def print_name(name,n):\n",
    "    if n==0:\n",
    "        return\n",
    "    print(name)\n",
    "    print_name(name,n-1) \n",
    "\n",
    "print_name(\"himanshi\", 5)    \n",
    "    \n",
    "\n",
    "# Base Case: if n == 0: return – this stops the recursion.\n",
    "\n",
    "# Recursive Step: print_name(name, n - 1) – reduces n by 1 each time.\n",
    "# n = 3:\n",
    "# It prints \"Alice\"\n",
    "# Calls print_name(\"Alice\", 2)\n",
    "# n = 2:\n",
    "# It prints \"Alice\"\n",
    "# Calls print_name(\"Alice\", 1)\n",
    "# n = 1:\n",
    "# It prints \"Alice\"\n",
    "# Calls print_name(\"Alice\", 0)\n",
    "# n = 0:\n",
    "# This hits the base case and returns without doing anything, ending the recursion.\n",
    "    "
   ]
  },
  {
   "cell_type": "code",
   "execution_count": null,
   "id": "defa4f8e",
   "metadata": {},
   "outputs": [
    {
     "name": "stdout",
     "output_type": "stream",
     "text": [
      "raj\n",
      "raj\n",
      "raj\n",
      "raj\n",
      "raj\n"
     ]
    }
   ],
   "source": [
    "def f(i, n):\n",
    "    if i > n:\n",
    "        return\n",
    "    print(\"raj\")\n",
    "    f(i + 1, n)\n",
    "\n",
    "# Main function\n",
    "n = int(input(\"Enter the value of n: \"))\n",
    "f(1, n)\n",
    "# It then prints \"raj\" exactly n times using recursion.\n",
    "# It starts from i = 1 and increases i by 1 on each recursive call until i > n."
   ]
  },
  {
   "cell_type": "code",
   "execution_count": 12,
   "id": "35160397",
   "metadata": {},
   "outputs": [
    {
     "name": "stdout",
     "output_type": "stream",
     "text": [
      "1\n",
      "2\n",
      "3\n",
      "4\n",
      "5\n"
     ]
    }
   ],
   "source": [
    "def f(i, n):\n",
    "    if i > n:\n",
    "        return\n",
    "    print(i)\n",
    "    f(i + 1, n)\n",
    "\n",
    "# Main function\n",
    "n = int(input(\"Enter the value of n: \"))\n",
    "f(1, n)"
   ]
  },
  {
   "cell_type": "code",
   "execution_count": 17,
   "id": "5e802ab0",
   "metadata": {},
   "outputs": [
    {
     "name": "stdout",
     "output_type": "stream",
     "text": [
      "5\n",
      "4\n",
      "3\n",
      "2\n",
      "1\n"
     ]
    }
   ],
   "source": [
    "def f(i, n):\n",
    "    if i < n:\n",
    "        return\n",
    "    print(i)\n",
    "    f(i-1, n)\n",
    "\n",
    "# Main function\n",
    "n = int(input(\"Enter the value of n: \"))\n",
    "f(n, 1)"
   ]
  },
  {
   "cell_type": "code",
   "execution_count": 18,
   "id": "d154eb13",
   "metadata": {},
   "outputs": [
    {
     "name": "stdout",
     "output_type": "stream",
     "text": [
      "1\n",
      "2\n",
      "3\n",
      "4\n",
      "5\n"
     ]
    }
   ],
   "source": [
    "def print_numbers(i, n):\n",
    "    if i < 1:\n",
    "        return\n",
    "    print_numbers(i - 1, n)  # Recursive call first (go deeper)\n",
    "    print(i)  # Print on backtrack\n",
    "\n",
    "# Example usage\n",
    "n = int(input(\"Enter n: \"))\n",
    "print_numbers(n, n)"
   ]
  },
  {
   "cell_type": "code",
   "execution_count": 19,
   "id": "febd8f2a",
   "metadata": {},
   "outputs": [
    {
     "name": "stdout",
     "output_type": "stream",
     "text": [
      "5\n",
      "4\n",
      "3\n",
      "2\n",
      "1\n"
     ]
    }
   ],
   "source": [
    "def print_numbers(i, n):\n",
    "    if i < 1:\n",
    "        return\n",
    "    print(i)\n",
    "    print_numbers(i - 1, n)  # Recursive call first (go deeper)\n",
    "    # print(i)  # Print on backtrack\n",
    "\n",
    "# Example usage\n",
    "n = int(input(\"Enter n: \"))\n",
    "print_numbers(n, n)"
   ]
  },
  {
   "cell_type": "code",
   "execution_count": 1,
   "id": "5eaa4091",
   "metadata": {},
   "outputs": [
    {
     "name": "stdout",
     "output_type": "stream",
     "text": [
      "Sum = 15\n"
     ]
    }
   ],
   "source": [
    "def sum_n(n):\n",
    "    if n==0:\n",
    "        return 0\n",
    "    return n+ sum_n(n-1)\n",
    "n=int(input(\"Enter n: \"))\n",
    "print(\"Sum =\",sum_n(n))"
   ]
  },
  {
   "cell_type": "code",
   "execution_count": 3,
   "id": "686515ee",
   "metadata": {},
   "outputs": [
    {
     "name": "stdout",
     "output_type": "stream",
     "text": [
      "Factorial of 5 is : 120\n"
     ]
    }
   ],
   "source": [
    "def factorial(n):\n",
    "    if n==0:\n",
    "        return 1\n",
    "    return n* factorial(n-1)\n",
    "n=int(input(\"Enter n: \"))\n",
    "print(\"Factorial of\",n,\"is :\",factorial(n))"
   ]
  },
  {
   "cell_type": "code",
   "execution_count": 4,
   "id": "88684f91",
   "metadata": {},
   "outputs": [
    {
     "name": "stdout",
     "output_type": "stream",
     "text": [
      "Reversed array: [5, 4, 3, 2, 1]\n"
     ]
    }
   ],
   "source": [
    "def reverse_array(arr,start,end):\n",
    "    if start>=end:\n",
    "        return\n",
    "    arr[start],arr[end]= arr[end],arr[start]\n",
    "    reverse_array(arr,start+1,end-1)\n",
    "arr = [1, 2, 3, 4, 5]\n",
    "reverse_array(arr, 0, len(arr) - 1)\n",
    "print(\"Reversed array:\", arr)    "
   ]
  },
  {
   "cell_type": "code",
   "execution_count": null,
   "id": "ed2c5a1a",
   "metadata": {},
   "outputs": [],
   "source": [
    "def reverse_arr(arr,i=0):\n",
    "    if i >=len(arr)//2:\n",
    "        return\n",
    "    arr[i],arr[len(arr)-i-1]=arr[len(arr)-i-1],arr[i]\n",
    "    reverse_arr(arr,i+1)\n",
    "# If i = 0, then:\n",
    "\n",
    "# arr[-i - 1] = arr[-0 - 1] = arr[-1]  # last element\n",
    "\n",
    "# If i = 1, then:\n",
    "\n",
    "# arr[-1 - 1] = arr[-2]      "
   ]
  },
  {
   "cell_type": "code",
   "execution_count": 4,
   "id": "4dd83fbc",
   "metadata": {},
   "outputs": [
    {
     "name": "stdout",
     "output_type": "stream",
     "text": [
      "True\n"
     ]
    }
   ],
   "source": [
    "def pallindrome(s):\n",
    "    if s==s[::-1]:\n",
    "        return True\n",
    "    else:\n",
    "       return False\n",
    "s=\"level\"\n",
    "print(pallindrome(s))        "
   ]
  },
  {
   "cell_type": "code",
   "execution_count": null,
   "id": "beb86f82",
   "metadata": {},
   "outputs": [],
   "source": [
    "def pallindrome(s):\n",
    "    if len(s)<=1:\n",
    "        return True\n",
    "    if s[0]!=s[-1]:\n",
    "        return False\n",
    "    return pallindrome(s[1:-1])\n",
    "# We use s[1:-1] because:\n",
    "\n",
    "#     We already compared s[0] and s[-1]\n",
    "\n",
    "#     We don’t need to compare them again\n",
    "\n",
    "#     So we slice them out for the next recursive call"
   ]
  },
  {
   "cell_type": "code",
   "execution_count": 9,
   "id": "c560ea67",
   "metadata": {},
   "outputs": [
    {
     "name": "stdout",
     "output_type": "stream",
     "text": [
      "55\n"
     ]
    }
   ],
   "source": [
    "def fibonacci(n):\n",
    "    if n <= 1:\n",
    "        return n\n",
    "    return fibonacci(n-1) + fibonacci(n-2)\n",
    "\n",
    "n = 10\n",
    "print(fibonacci(n))\n",
    "    "
   ]
  },
  {
   "cell_type": "code",
   "execution_count": null,
   "id": "c8c1e09d",
   "metadata": {},
   "outputs": [
    {
     "name": "stdout",
     "output_type": "stream",
     "text": [
      "2\n"
     ]
    }
   ],
   "source": [
    "def count_number(n, arr):\n",
    "    count = 0\n",
    "    for i in range(len(arr)):\n",
    "        if arr[i] == n:\n",
    "            count += 1\n",
    "    return count\n",
    "\n",
    "arr = [1, 5, 4, 1, 5, 1]\n",
    "n = 5\n",
    "print(count_number(n, arr))"
   ]
  },
  {
   "cell_type": "code",
   "execution_count": 2,
   "id": "319c9830",
   "metadata": {},
   "outputs": [
    {
     "name": "stdout",
     "output_type": "stream",
     "text": [
      "2\n",
      "0\n",
      "1\n",
      "2\n",
      "0\n"
     ]
    }
   ],
   "source": [
    "# Hashing problems\n",
    "def main():\n",
    "    n=int(input())\n",
    "    arr=list(map(int,input().split()))\n",
    "    \n",
    "    hash_arr=[0]*13\n",
    "    for num in arr:\n",
    "        hash_arr[num]+=1\n",
    "    q=int(input())    \n",
    "    for _ in range(q):\n",
    "        number=int(input())\n",
    "        print(hash_arr[number] if 0<=number<13 else 0)  \n",
    "main()          "
   ]
  },
  {
   "cell_type": "code",
   "execution_count": 3,
   "id": "a56c4508",
   "metadata": {},
   "outputs": [
    {
     "name": "stdout",
     "output_type": "stream",
     "text": [
      "2\n",
      "0\n",
      "1\n",
      "2\n",
      "1\n"
     ]
    }
   ],
   "source": [
    "s=input()\n",
    "hash_arr=[0]*26\n",
    "for ch in s:\n",
    "    hash_arr[ord(ch)-ord('a')]+=1\n",
    "q=int(input())\n",
    "for _ in range(q):\n",
    "    ch=input().strip()\n",
    "    print(hash_arr[ord(ch)-ord('a')])    "
   ]
  },
  {
   "cell_type": "code",
   "execution_count": 4,
   "id": "a1c3ddbc",
   "metadata": {},
   "outputs": [
    {
     "name": "stdout",
     "output_type": "stream",
     "text": [
      "0\n",
      "2\n",
      "2\n",
      "2\n",
      "1\n"
     ]
    }
   ],
   "source": [
    "from collections import defaultdict\n",
    "\n",
    "n=int(input())\n",
    "arr=list(map(int,input().split()))\n",
    "\n",
    "mpp=defaultdict(int)\n",
    "for num in arr:\n",
    "    mpp[num]+=1\n",
    "q=int(input())\n",
    "for _ in range(q):\n",
    "    number=int(input())\n",
    "    print(mpp[number])    "
   ]
  },
  {
   "cell_type": "code",
   "execution_count": null,
   "id": "b1c5eaf9",
   "metadata": {},
   "outputs": [
    {
     "name": "stdout",
     "output_type": "stream",
     "text": [
      "Sorted array: [11, 12, 22, 25, 64]\n"
     ]
    }
   ],
   "source": [
    "# sorting\n",
    "# selection sort \n",
    "def selection_sort(arr):\n",
    "    n=len(arr)\n",
    "    for i in range(n-1):\n",
    "        min_index=i\n",
    "        for j in range(i+1,n):\n",
    "            if arr[j]< arr[min_index]:\n",
    "                min_index=j\n",
    "        arr[i],arr[min_index]=arr[min_index],arr[i] \n",
    "    return arr           \n",
    "arr = [64, 25, 12, 22, 11]\n",
    "sorted_arr = selection_sort(arr)\n",
    "print(\"Sorted array:\", sorted_arr)     \n",
    "\n",
    "# Worst Case: O(n²)\n",
    "\n",
    "# Average Case: O(n²)\n",
    "\n",
    "# Best Case: O(n²)\n",
    "\n",
    "# Space Complexity: O(1) (in-place)   "
   ]
  },
  {
   "cell_type": "code",
   "execution_count": 6,
   "id": "667c53c4",
   "metadata": {},
   "outputs": [
    {
     "name": "stdout",
     "output_type": "stream",
     "text": [
      "[1, 2, 4, 5, 8]\n"
     ]
    }
   ],
   "source": [
    "def bubble_sort(arr):\n",
    "    n=len(arr)\n",
    "    for i  in range(n-1):\n",
    "        for j in range(n-i-1):\n",
    "            if arr[j]>arr[j+1]:\n",
    "                arr[j],arr[j+1]=arr[j+1],arr[j]\n",
    "    return arr\n",
    "arr = [5, 1, 4, 2, 8]\n",
    "bubble_sort(arr)\n",
    "print(arr)            "
   ]
  },
  {
   "cell_type": "code",
   "execution_count": 6,
   "id": "8afecd39",
   "metadata": {},
   "outputs": [
    {
     "name": "stdout",
     "output_type": "stream",
     "text": [
      "Sorted array: [11, 12, 22, 25, 34, 64, 90]\n"
     ]
    }
   ],
   "source": [
    "# recursive bubble sort \n",
    "def recursive_bubble_sort(arr,n=None):\n",
    "    # If n is None, initialize it to the length of the array\n",
    "    if n is None:\n",
    "        n=len(arr)\n",
    "    # Base case: if array has only one element or we've sorted all elements    \n",
    "    if n<=1:\n",
    "        return arr\n",
    "    \n",
    "    for i in range(n-1):\n",
    "        if arr[i]>arr[i+1]:\n",
    "            arr[i],arr[i+1]=arr[i+1],arr[i]\n",
    "     # Recursively sort the array excluding the last element (which is now sorted)        \n",
    "    return recursive_bubble_sort(arr,n-1)\n",
    "arr = [64, 34, 25, 12, 22, 11, 90]\n",
    "sorted_arr = recursive_bubble_sort(arr)\n",
    "print(\"Sorted array:\", sorted_arr)\n",
    "            "
   ]
  },
  {
   "cell_type": "code",
   "execution_count": null,
   "id": "2f2ef5ee",
   "metadata": {},
   "outputs": [
    {
     "name": "stdout",
     "output_type": "stream",
     "text": [
      "Inserting 3...\n",
      "Array now: [3, 4, 2, 10, 12]\n",
      "Inserting 2...\n",
      "Array now: [2, 3, 4, 10, 12]\n",
      "Inserting 10...\n",
      "Array now: [2, 3, 4, 10, 12]\n",
      "Inserting 12...\n",
      "Array now: [2, 3, 4, 10, 12]\n",
      "[2, 3, 4, 10, 12]\n"
     ]
    }
   ],
   "source": [
    "def insertion_sort_verbose(arr):\n",
    "    for i in range(1, len(arr)):\n",
    "        key = arr[i]\n",
    "        j = i - 1\n",
    "        print(f\"Inserting {key}...\")\n",
    "        while j >= 0 and arr[j] > key:\n",
    "            arr[j + 1] = arr[j]\n",
    "            j -= 1\n",
    "        arr[j + 1] = key\n",
    "        print(\"Array now:\", arr)\n",
    "arr = [4, 3, 2, 10, 12]\n",
    "insertion_sort_verbose(arr)\n",
    "print(arr)\n"
   ]
  },
  {
   "cell_type": "code",
   "execution_count": null,
   "id": "edce5482",
   "metadata": {},
   "outputs": [],
   "source": [
    "def recursive_insertion_sort(arr,n=None):\n",
    "    if n is None:\n",
    "        n=len(arr)\n",
    "    if n<=1:\n",
    "        return arr\n",
    "    recursive_insertion_sort(arr,n-1)    \n",
    "    \n",
    "    last=arr[n-1]\n",
    "    j=n-2\n",
    "    while j>=0 and arr[j]>last:\n",
    "        arr[j+1]=arr[j]\n",
    "        j-=1\n",
    "    arr[j+1]=last\n",
    "    return arr\n",
    "# Test the function\n",
    "arr = [12, 11, 13, 5, 6]\n",
    "sorted_arr = recursive_insertion_sort(arr)\n",
    "print(\"Sorted array:\", sorted_arr)\n",
    "    "
   ]
  },
  {
   "cell_type": "code",
   "execution_count": 5,
   "id": "6abc11b6",
   "metadata": {},
   "outputs": [
    {
     "name": "stdout",
     "output_type": "stream",
     "text": [
      "Sorted array: [3, 9, 10, 27, 38, 43, 82]\n"
     ]
    }
   ],
   "source": [
    "def merge_sort(arr):\n",
    "    if len(arr)<=1:\n",
    "        return arr\n",
    "    mid=len(arr)//2\n",
    "    left=arr[:mid]\n",
    "    right=arr[mid:]\n",
    "    \n",
    "    left=merge_sort(left)\n",
    "    right=merge_sort(right)\n",
    "    return merge(left,right)\n",
    "\n",
    "def merge(left,right):\n",
    "    result=[]\n",
    "    i=j=0\n",
    "    # Compare elements from both arrays and add smaller one to result\n",
    "    while i<len(left) and j <len(right):\n",
    "        if left[i]<=right[j]:\n",
    "            result.append(left[i])\n",
    "            i+=1\n",
    "        else:\n",
    "            result.append(right[j])\n",
    "            j+=1\n",
    "    # Add any remaining elements        \n",
    "    result.extend(left[i:])\n",
    "    result.extend(right[j:])\n",
    "    return result\n",
    "arr = [38, 27, 43, 3, 9, 82, 10]\n",
    "sorted_array = merge_sort(arr)\n",
    "print(\"Sorted array:\", sorted_array)\n",
    "            "
   ]
  },
  {
   "cell_type": "code",
   "execution_count": 1,
   "id": "31ca9dd7",
   "metadata": {},
   "outputs": [
    {
     "name": "stdout",
     "output_type": "stream",
     "text": [
      "Largest element: 6\n"
     ]
    }
   ],
   "source": [
    "def largestelement(arr):\n",
    "    return max(arr)\n",
    "arr = [3, 2, 1, 5, 6, 4]\n",
    "print(\"Largest element:\", largestelement(arr))\n"
   ]
  },
  {
   "cell_type": "code",
   "execution_count": 2,
   "id": "1a780cb4",
   "metadata": {},
   "outputs": [
    {
     "name": "stdout",
     "output_type": "stream",
     "text": [
      "Largest element: 6\n"
     ]
    }
   ],
   "source": [
    "def largestelement(arr):\n",
    "    if not arr:\n",
    "        return None\n",
    "    largest=arr[0]\n",
    "    for i in range(1,len(arr)):\n",
    "        if arr[i]>largest:\n",
    "            largest=arr[i]\n",
    "    return largest\n",
    "arr = [3, 2, 1, 5, 6, 4]\n",
    "print(\"Largest element:\", largestelement(arr))        "
   ]
  },
  {
   "cell_type": "code",
   "execution_count": 3,
   "id": "7acd70d0",
   "metadata": {},
   "outputs": [
    {
     "name": "stdout",
     "output_type": "stream",
     "text": [
      "Largest element: 6\n"
     ]
    }
   ],
   "source": [
    "# recursive\n",
    "def largestelement(arr,n=None):\n",
    "    if n is None:\n",
    "        n=len(arr)\n",
    "    if n==1:\n",
    "        return arr[0]\n",
    "    max_of_rest=largestelement(arr,n-1)\n",
    "    return max(arr[n-1],max_of_rest)    \n",
    "arr = [3, 2, 1, 5, 6, 4]\n",
    "print(\"Largest element:\", largestelement(arr))"
   ]
  },
  {
   "cell_type": "code",
   "execution_count": null,
   "id": "2ee5a302",
   "metadata": {},
   "outputs": [
    {
     "name": "stdout",
     "output_type": "stream",
     "text": [
      "Second largest: 5\n"
     ]
    }
   ],
   "source": [
    "def secondlargest(arr):\n",
    "    if len(arr)<2:\n",
    "        return None\n",
    "    largest=second_largest=float('-inf')\n",
    "    for num in arr:\n",
    "        if num>largest:\n",
    "            second_largest=largest# If the current number is greater than the largest so far:\n",
    "#     Update second_largest to hold the old largest\n",
    "#     Then update largest to the current number\n",
    "            largest=num\n",
    "        elif num > second_largest and num!=largest:\n",
    "            second_largest=num\n",
    "    return second_largest if second_largest !=float('inf') else None   \n",
    "# If second_largest is still -∞, that means all elements were equal or only one distinct element → return None. \n",
    "arr = [3, 2, 1, 5, 6, 4]\n",
    "print(\"Second largest:\", secondlargest(arr))       "
   ]
  },
  {
   "cell_type": "code",
   "execution_count": null,
   "id": "16eb3014",
   "metadata": {},
   "outputs": [
    {
     "name": "stdout",
     "output_type": "stream",
     "text": [
      "Second largest: 5\n"
     ]
    }
   ],
   "source": [
    "# using set\n",
    "def second_largest_set(arr):\n",
    "    if len(arr)<2:\n",
    "        return None\n",
    "    unique_elements=list(set(arr))\n",
    "    if len(unique_elements)<2:\n",
    "        return None\n",
    "    largest=second_largest=float('-inf')\n",
    "    #Initialize both largest and second_largest to negative infinity (-∞), so that any number in the list will be greater.\n",
    "    for num in unique_elements:\n",
    "        if num >largest:\n",
    "            second_largest=largest\n",
    "            largest=num\n",
    "# If the current number is greater than the largest so far:\n",
    "#     Update second_largest to hold the old largest\n",
    "#     Then update largest to the current number            \n",
    "        elif num >second_largest:\n",
    "            second_largest=num\n",
    "    return second_largest\n",
    "arr = [3, 2, 1, 5, 6, 4]\n",
    "print(\"Second largest:\", second_largest_set(arr))\n",
    "            "
   ]
  },
  {
   "cell_type": "code",
   "execution_count": 8,
   "id": "f8c7d56a",
   "metadata": {},
   "outputs": [
    {
     "name": "stdout",
     "output_type": "stream",
     "text": [
      "[1, 2, 3, 4, 5] -> Sorted: True\n",
      "[1, 3, 2, 4, 5] -> Sorted: False\n",
      "[5, 4, 3, 2, 1] -> Sorted: False\n",
      "[1, 1, 2, 2, 3] -> Sorted: True\n",
      "[1] -> Sorted: True\n",
      "[] -> Sorted: True\n"
     ]
    }
   ],
   "source": [
    "def sorted_Array(arr):\n",
    "    if len(arr)<=1:\n",
    "        return True\n",
    "    for i in range(1,len(arr)):\n",
    "        if arr[i]<arr[i-1]:\n",
    "            return False\n",
    "    return True    \n",
    "test_arrays = [\n",
    "    [1, 2, 3, 4, 5],      # Sorted\n",
    "    [1, 3, 2, 4, 5],      # Not sorted\n",
    "    [5, 4, 3, 2, 1],      # Reverse sorted\n",
    "    [1, 1, 2, 2, 3],      # Sorted with duplicates\n",
    "    [1],                  # Single element\n",
    "    []                    # Empty array\n",
    "]\n",
    "\n",
    "for arr in test_arrays:\n",
    "    print(f\"{arr} -> Sorted: {sorted_Array(arr)}\")"
   ]
  },
  {
   "cell_type": "code",
   "execution_count": 9,
   "id": "71207725",
   "metadata": {},
   "outputs": [
    {
     "name": "stdout",
     "output_type": "stream",
     "text": [
      "Array [1, 2, 3, 4, 5] is sorted: True\n"
     ]
    }
   ],
   "source": [
    "def is_sorted_comparison(arr):\n",
    "    return arr == sorted(arr)\n",
    "\n",
    "# Note: This creates a new sorted array, so it's less efficient\n",
    "arr = [1, 2, 3, 4, 5]\n",
    "print(f\"Array {arr} is sorted: {is_sorted_comparison(arr)}\")"
   ]
  },
  {
   "cell_type": "code",
   "execution_count": 10,
   "id": "b117232a",
   "metadata": {},
   "outputs": [
    {
     "name": "stdout",
     "output_type": "stream",
     "text": [
      "Array [1, 2, 3, 4, 5] is sorted: True\n"
     ]
    }
   ],
   "source": [
    "def is_sorted_recursive(arr,index=0):\n",
    "    if len(arr)<=1 or index==len(arr)-1:\n",
    "        return True\n",
    "    if arr[index]>arr[index+1]:\n",
    "        return False\n",
    "    return is_sorted_recursive(arr,index+1)\n",
    "arr = [1, 2, 3, 4, 5]\n",
    "print(f\"Array {arr} is sorted: {is_sorted_recursive(arr)}\")\n"
   ]
  },
  {
   "cell_type": "code",
   "execution_count": 11,
   "id": "afb116eb",
   "metadata": {},
   "outputs": [
    {
     "name": "stdout",
     "output_type": "stream",
     "text": [
      "Original array: [1, 1, 2, 2, 2, 3, 4, 4, 5]\n",
      "Array after removing duplicates: [1, 2, 3, 4, 5]\n"
     ]
    }
   ],
   "source": [
    "def remove_duplicates_iterative(arr):\n",
    "    if not arr:\n",
    "        return []\n",
    "    \n",
    "    result = [arr[0]]  # First element is always unique\n",
    "    \n",
    "    for i in range(1, len(arr)):\n",
    "        if arr[i] != arr[i-1]:\n",
    "            result.append(arr[i])\n",
    "    \n",
    "    return result\n",
    "\n",
    "arr = [1, 1, 2, 2, 2, 3, 4, 4, 5]\n",
    "print(\"Original array:\", arr)\n",
    "unique_arr = remove_duplicates_iterative(arr)\n",
    "print(\"Array after removing duplicates:\", unique_arr)\n",
    "    "
   ]
  },
  {
   "cell_type": "code",
   "execution_count": null,
   "id": "0c3b8623",
   "metadata": {},
   "outputs": [
    {
     "name": "stdout",
     "output_type": "stream",
     "text": [
      "Original array: [1, 1, 2, 2, 2, 3, 4, 4, 5]\n",
      "Array after removing duplicates: [1, 2, 3, 4, 5]\n",
      "New length: 5\n"
     ]
    }
   ],
   "source": [
    "# two poiners\n",
    "def remove_Duplicates_inplace(arr):\n",
    "    if len(arr)<=1:\n",
    "        return len(arr)\n",
    "    # two pointers approch\n",
    "    write_index=1 #This is the position where the next unique element will be written.\n",
    "    for read_index in range(1,len(arr)):\n",
    "        if arr[read_index]!=arr[read_index-1]:\n",
    "            arr[write_index]=arr[read_index]\n",
    "            write_index+=1\n",
    "# Copy this new unique value to write_index.\n",
    "# Then move write_index forward.\n",
    "    return write_index   \n",
    "arr = [1, 1, 2, 2, 2, 3, 4, 4, 5]\n",
    "print(\"Original array:\", arr)\n",
    "new_length = remove_Duplicates_inplace(arr)\n",
    "print(\"Array after removing duplicates:\", arr[:new_length])\n",
    "print(\"New length:\", new_length)     "
   ]
  },
  {
   "cell_type": "code",
   "execution_count": 3,
   "id": "d3e0a80c",
   "metadata": {},
   "outputs": [
    {
     "name": "stdout",
     "output_type": "stream",
     "text": [
      "Original array: [4, 2, 1, 4, 3, 2, 5, 1]\n",
      "Without order preservation: [1, 2, 3, 4, 5]\n",
      "With order preservation: [4, 2, 1, 3, 5]\n"
     ]
    }
   ],
   "source": [
    "def remove_duplicate_unsorted_set(arr):\n",
    "    if not arr:\n",
    "        return []\n",
    "    \n",
    "    return list(set(arr))\n",
    "def remove_duplicate_order_set(arr):\n",
    "    seen=set()\n",
    "    result = []\n",
    "    for item in arr:\n",
    "        if item not in seen:\n",
    "            seen.add(item)\n",
    "            result.append(item)\n",
    "    return result        \n",
    "arr = [4, 2, 1, 4, 3, 2, 5, 1]\n",
    "print(\"Original array:\", arr)\n",
    "print(\"Without order preservation:\", remove_duplicate_unsorted_set(arr))\n",
    "print(\"With order preservation:\", remove_duplicate_order_set(arr))"
   ]
  },
  {
   "cell_type": "code",
   "execution_count": null,
   "id": "eb0a0a34",
   "metadata": {},
   "outputs": [],
   "source": [
    "def remove_duplicates_dict(arr):\n",
    "    if not arr:\n",
    "        return []\n",
    "    \n",
    "    # Using dict.fromkeys() to preserve order\n",
    "    return list(dict.fromkeys(arr))\n",
    "\n",
    "arr = [4, 2, 1, 4, 3, 2, 5, 1]\n",
    "print(\"Original array:\", arr)\n",
    "result = remove_duplicates_dict(arr)\n",
    "print(\"Array after removing duplicates:\", result)"
   ]
  },
  {
   "cell_type": "code",
   "execution_count": null,
   "id": "6a416d28",
   "metadata": {},
   "outputs": [],
   "source": [
    "def remove_duplicates_inplace_unsorted(arr):\n",
    "    if len(arr)<=1:\n",
    "        return len(arr)\n",
    "    write_index=0\n",
    "    for read_index in range(len(arr)):\n",
    "        is_duplicate=False\n",
    "        for check_index in range(write_index):\n",
    "            if arr[read_index]==arr[check_index]:\n",
    "                is_duplicate=True\n",
    "                break\n",
    "        if not is_duplicate:\n",
    "            arr[write_index]=arr[read_index]\n",
    "            write_index+=1\n",
    "    return write_index\n",
    "arr = [4, 2, 1, 4, 3, 2, 5, 1]\n",
    "print(\"Original array:\", arr)\n",
    "new_length = remove_duplicates_inplace_unsorted(arr)\n",
    "print(\"Array after removing duplicates:\", arr[:new_length])\n",
    "print(\"New length:\", new_length)\n",
    "            "
   ]
  },
  {
   "cell_type": "code",
   "execution_count": 4,
   "id": "08a71ada",
   "metadata": {},
   "outputs": [
    {
     "name": "stdout",
     "output_type": "stream",
     "text": [
      "Original array: [1, 2, 3, 4, 5]\n",
      "After left rotation by 1: [2, 3, 4, 5, 1]\n"
     ]
    }
   ],
   "source": [
    "def left_rotate_by_one_temp(arr):\n",
    "    if len(arr)<=1:\n",
    "        return arr\n",
    "    temp=arr[0]\n",
    "    for i in range(len(arr)-1):\n",
    "        arr[i]=arr[i+1]\n",
    "    arr[len(arr)-1]=temp\n",
    "    return arr  \n",
    "arr = [1, 2, 3, 4, 5]\n",
    "print(\"Original array:\", arr)\n",
    "left_rotate_by_one_temp(arr)\n",
    "print(\"After left rotation by 1:\", arr)  "
   ]
  },
  {
   "cell_type": "code",
   "execution_count": 6,
   "id": "e94cca60",
   "metadata": {},
   "outputs": [
    {
     "name": "stdout",
     "output_type": "stream",
     "text": [
      "Original array: [1, 2, 3, 4, 5]\n",
      "After left rotation by 1: [2, 3, 4, 5, 1]\n"
     ]
    }
   ],
   "source": [
    "# using slicing\n",
    "def left_rotate_by_one_slicing(arr):\n",
    "    if len(arr)<=1:\n",
    "        return arr\n",
    "    return arr[1:]+[arr[0]]\n",
    "arr = [1, 2, 3, 4, 5]\n",
    "print(\"Original array:\", arr)\n",
    "rotated = left_rotate_by_one_slicing(arr)\n",
    "print(\"After left rotation by 1:\", rotated)"
   ]
  },
  {
   "cell_type": "code",
   "execution_count": 8,
   "id": "b0dfffb9",
   "metadata": {},
   "outputs": [
    {
     "name": "stdout",
     "output_type": "stream",
     "text": [
      "Original array: [1, 2, 3, 4, 5]\n",
      "After left rotation by 1: [2, 3, 4, 5, 1]\n"
     ]
    }
   ],
   "source": [
    "from collections import deque\n",
    "\n",
    "def left_rotate_by_one_deque(arr):\n",
    "    if len(arr)<=1:\n",
    "        return arr\n",
    "    dq=deque(arr)\n",
    "    dq.rotate(-1) # -1 for left rotation\n",
    "    return list(dq)\n",
    "arr = [1, 2, 3, 4, 5]\n",
    "print(\"Original array:\", arr)\n",
    "rotated = left_rotate_by_one_deque(arr)\n",
    "print(\"After left rotation by 1:\", rotated)"
   ]
  },
  {
   "cell_type": "code",
   "execution_count": null,
   "id": "ce77689c",
   "metadata": {},
   "outputs": [
    {
     "name": "stdout",
     "output_type": "stream",
     "text": [
      "Original array: [1, 2, 3, 4, 5, 6, 7]\n",
      "After left rotation by 3: [1, 2, 3, 4, 5, 6, 7]\n"
     ]
    }
   ],
   "source": [
    "def left_rotate_by_d_temp_array(arr,d):\n",
    "    if not arr or len(arr)<=1:\n",
    "        return arr\n",
    "    n=len(arr)\n",
    "    d=d%n# Handle cases where d > n\n",
    "    if d==0:\n",
    "        return arr\n",
    "    temp=arr[:d]\n",
    "    for i in range(n-d):\n",
    "        arr[i]=arr[i+d]#update \n",
    "    for i in range(d):\n",
    "        arr[n-d+i]=temp[i]\n",
    "    return arr        \n",
    "arr = [1, 2, 3, 4, 5, 6, 7]\n",
    "d = 3\n",
    "print(\"Original array:\", arr)\n",
    "left_rotate_by_d_temp_array(arr[:], d)\n",
    "print(f\"After left rotation by {d}:\", arr)    "
   ]
  },
  {
   "cell_type": "code",
   "execution_count": 10,
   "id": "e6eada44",
   "metadata": {},
   "outputs": [
    {
     "name": "stdout",
     "output_type": "stream",
     "text": [
      "Original array: [1, 2, 3, 4, 5, 6, 7]\n",
      "After left rotation by 3: [4, 5, 6, 7, 1, 2, 3]\n"
     ]
    }
   ],
   "source": [
    "def left_rotate_by_d_slicing(arr,d):\n",
    "    if not arr or len(arr)<=1:\n",
    "        return arr\n",
    "    n=len(arr)\n",
    "    d=d%n\n",
    "    return arr[d:]+arr[:d]\n",
    "arr = [1, 2, 3, 4, 5, 6, 7]\n",
    "d = 3\n",
    "print(\"Original array:\", arr)\n",
    "rotated = left_rotate_by_d_slicing(arr, d)\n",
    "print(f\"After left rotation by {d}:\", rotated)"
   ]
  },
  {
   "cell_type": "code",
   "execution_count": null,
   "id": "226536b0",
   "metadata": {},
   "outputs": [],
   "source": [
    "def revrese_array(arr,start,end):\n",
    "    while start<end:\n",
    "        arr[start],arr[end]=arr[end],arr[start]\n",
    "        start+=1\n",
    "        end-=1\n",
    "def left_rotate_by_d_reversal(arr,d):\n",
    "    if not arr or len(arr)<=1:\n",
    "        return arr\n",
    "    n=len(arr)\n",
    "    d=d%n\n",
    "    if d==0:\n",
    "        return arr\n",
    "    revrese_array(arr,0,d-1)\n",
    "    reverse_array(arr,d,n-1)\n",
    "    reverse_array(arr,0,n-1)\n",
    "    return arr\n",
    "\n",
    "arr = [1, 2, 3, 4, 5, 6, 7]\n",
    "d = 3\n",
    "print(\"Original array:\", arr)\n",
    "left_rotate_by_d_reversal(arr[:], d)\n",
    "print(f\"After left rotation by {d}:\", arr) \n",
    "        "
   ]
  },
  {
   "cell_type": "code",
   "execution_count": 12,
   "id": "865c5db4",
   "metadata": {},
   "outputs": [
    {
     "name": "stdout",
     "output_type": "stream",
     "text": [
      "Original array: [0, 1, 0, 3, 12]\n",
      "After moving zeros to end: [1, 3, 12, 0, 0]\n"
     ]
    }
   ],
   "source": [
    "def move_zeros_to_end_two_pointers(arr):\n",
    "    if not arr:\n",
    "        return arr\n",
    "    non_zero_index=0\n",
    "    for i in range(len(arr)):\n",
    "        if arr[i]!=0:\n",
    "            arr[non_zero_index]=arr[i]\n",
    "            non_zero_index+=1\n",
    "    while non_zero_index<len(arr):\n",
    "        arr[non_zero_index]=0\n",
    "        non_zero_index+=1\n",
    "    return arr    \n",
    "arr = [0, 1, 0, 3, 12]\n",
    "print(\"Original array:\", arr)\n",
    "move_zeros_to_end_two_pointers(arr)\n",
    "print(\"After moving zeros to end:\", arr)        "
   ]
  }
 ],
 "metadata": {
  "kernelspec": {
   "display_name": "Python 3",
   "language": "python",
   "name": "python3"
  },
  "language_info": {
   "codemirror_mode": {
    "name": "ipython",
    "version": 3
   },
   "file_extension": ".py",
   "mimetype": "text/x-python",
   "name": "python",
   "nbconvert_exporter": "python",
   "pygments_lexer": "ipython3",
   "version": "3.11.5"
  }
 },
 "nbformat": 4,
 "nbformat_minor": 5
}
