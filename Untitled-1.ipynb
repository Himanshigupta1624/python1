{
 "cells": [
  {
   "cell_type": "code",
   "execution_count": 1,
   "id": "f21c3b57",
   "metadata": {},
   "outputs": [
    {
     "name": "stdout",
     "output_type": "stream",
     "text": [
      "10\n",
      "<class 'decimal.Decimal'>\n"
     ]
    }
   ],
   "source": [
    "import decimal\n",
    "integer=10\n",
    "print(decimal.Decimal(integer))\n",
    "print(type(decimal.Decimal(integer)))"
   ]
  },
  {
   "cell_type": "code",
   "execution_count": 2,
   "id": "f3a7ce3e",
   "metadata": {},
   "outputs": [
    {
     "name": "stdout",
     "output_type": "stream",
     "text": [
      "12345\n",
      "<class 'decimal.Decimal'>\n"
     ]
    }
   ],
   "source": [
    "import decimal\n",
    "string='12345'\n",
    "print(decimal.Decimal(string))\n",
    "print(type(decimal.Decimal(string)))"
   ]
  },
  {
   "cell_type": "code",
   "execution_count": 3,
   "id": "c186228e",
   "metadata": {},
   "outputs": [
    {
     "name": "stdout",
     "output_type": "stream",
     "text": [
      "nohtyP\n"
     ]
    }
   ],
   "source": [
    "string=\"Python\"\n",
    "print(string[::-1])"
   ]
  },
  {
   "cell_type": "code",
   "execution_count": 4,
   "id": "533724fd",
   "metadata": {},
   "outputs": [
    {
     "name": "stdout",
     "output_type": "stream",
     "text": [
      "3\n"
     ]
    }
   ],
   "source": [
    "vowel=[\"a\",\"e\",\"i\",\"o\",\"u\"]\n",
    "word=\"Programming\"\n",
    "count=0\n",
    "for char in word:\n",
    "    if char in vowel:\n",
    "        count+=1\n",
    "print(count)        "
   ]
  },
  {
   "cell_type": "code",
   "execution_count": 5,
   "id": "9a1d5799",
   "metadata": {},
   "outputs": [
    {
     "name": "stdout",
     "output_type": "stream",
     "text": [
      "8\n"
     ]
    }
   ],
   "source": [
    "vowel=[\"a\",\"e\",\"i\",\"o\",\"u\"]\n",
    "word=\"Programming\"\n",
    "count=0\n",
    "for char in word:\n",
    "    if char not  in vowel:\n",
    "        count+=1\n",
    "print(count)"
   ]
  },
  {
   "cell_type": "code",
   "execution_count": 6,
   "id": "757a1807",
   "metadata": {},
   "outputs": [
    {
     "name": "stdout",
     "output_type": "stream",
     "text": [
      "2\n"
     ]
    }
   ],
   "source": [
    "word=\"programming\"\n",
    "character=\"g\"\n",
    "count=0\n",
    "for i in word:\n",
    "    if i==character:\n",
    "        count+=1\n",
    "        \n",
    "print(count)        "
   ]
  },
  {
   "cell_type": "code",
   "execution_count": 13,
   "id": "4d85a61c",
   "metadata": {},
   "outputs": [
    {
     "name": "stdout",
     "output_type": "stream",
     "text": [
      "0\n",
      "1\n",
      "1\n",
      "2\n",
      "3\n",
      "5\n",
      "8\n",
      "13\n",
      "21\n",
      "34\n"
     ]
    }
   ],
   "source": [
    "def fib(n):\n",
    "    if n<=1:\n",
    "        return n\n",
    "    else:\n",
    "        return (fib(n-1)+ fib(n-2))\n",
    "n=10    \n",
    "for i in range(n):  \n",
    "    print(fib(i))"
   ]
  },
  {
   "cell_type": "code",
   "execution_count": 14,
   "id": "eac1a677",
   "metadata": {},
   "outputs": [
    {
     "name": "stdout",
     "output_type": "stream",
     "text": [
      "96\n"
     ]
    }
   ],
   "source": [
    "number_list=[12,34,55,45,96]\n",
    "n=max(number_list)\n",
    "print(n)"
   ]
  },
  {
   "cell_type": "code",
   "execution_count": 15,
   "id": "31a95c55",
   "metadata": {},
   "outputs": [
    {
     "name": "stdout",
     "output_type": "stream",
     "text": [
      "96\n"
     ]
    }
   ],
   "source": [
    "number_list=[12,34,55,45,96]\n",
    "max=number_list[0]\n",
    "for num in number_list:\n",
    "    if num>max:\n",
    "        max=num\n",
    "print(max)        "
   ]
  },
  {
   "cell_type": "code",
   "execution_count": 16,
   "id": "4fed6323",
   "metadata": {},
   "outputs": [
    {
     "name": "stdout",
     "output_type": "stream",
     "text": [
      "12\n"
     ]
    }
   ],
   "source": [
    "number_list=[12,34,55,45,96]\n",
    "min=number_list[0]\n",
    "for num in number_list:\n",
    "    if num<min:\n",
    "        min=num\n",
    "print(min)"
   ]
  },
  {
   "cell_type": "code",
   "execution_count": 22,
   "id": "60aac0d2",
   "metadata": {},
   "outputs": [
    {
     "name": "stdout",
     "output_type": "stream",
     "text": [
      "55\n"
     ]
    }
   ],
   "source": [
    "number_list=[12,34,55,45,96]\n",
    "middleelement=(len(number_list))//2\n",
    "print(number_list[middleelement])"
   ]
  },
  {
   "cell_type": "code",
   "execution_count": 23,
   "id": "af43f536",
   "metadata": {},
   "outputs": [
    {
     "name": "stdout",
     "output_type": "stream",
     "text": [
      "[5, 7, 9]\n"
     ]
    }
   ],
   "source": [
    "list1=[1,2,3]\n",
    "list2=[4,5,6]\n",
    "res_list=[]\n",
    "for i in range(0,len(list1)):\n",
    "    res_list.append(list1[i]+list2[i])\n",
    "print(res_list)   \n",
    "# adding two list elements together "
   ]
  },
  {
   "cell_type": "code",
   "execution_count": 24,
   "id": "bc506874",
   "metadata": {},
   "outputs": [
    {
     "name": "stdout",
     "output_type": "stream",
     "text": [
      "True\n"
     ]
    }
   ],
   "source": [
    "str1=\"Listen\"\n",
    "str2=\"Silent\"\n",
    "str1=str1.replace(\" \",\"\").upper()\n",
    "str2=str2.replace(\" \",\"\").upper()\n",
    "if sorted(str1)==sorted(str2):\n",
    "    print(True)\n",
    "else:\n",
    "    print(False)    "
   ]
  },
  {
   "cell_type": "code",
   "execution_count": 25,
   "id": "110ffe76",
   "metadata": {},
   "outputs": [
    {
     "name": "stdout",
     "output_type": "stream",
     "text": [
      "True\n"
     ]
    }
   ],
   "source": [
    "str1=\"kayak\".lower()\n",
    "if str1==str1[::-1]:\n",
    "    print (\"True\")\n",
    "else:\n",
    "    print(\"False\")    \n",
    "    "
   ]
  },
  {
   "cell_type": "code",
   "execution_count": 26,
   "id": "9af950f3",
   "metadata": {},
   "outputs": [
    {
     "name": "stdout",
     "output_type": "stream",
     "text": [
      "5\n"
     ]
    }
   ],
   "source": [
    "string=\"p r o g r amming\"\n",
    "print(string.count(\" \"))"
   ]
  },
  {
   "cell_type": "code",
   "execution_count": 30,
   "id": "e8f1d51b",
   "metadata": {},
   "outputs": [
    {
     "name": "stdout",
     "output_type": "stream",
     "text": [
      "5\n"
     ]
    }
   ],
   "source": [
    "def count_sp_char(string):\n",
    "    sp_char=\"!@#$%^&*()<>?/{}[].,;~:\"\n",
    "    count=0\n",
    "    for i in string:\n",
    "        if i in sp_char:\n",
    "            count+=1\n",
    "    return count\n",
    "text='Hello ! How are you? #sp! 123&'\n",
    "result=count_sp_char(text)\n",
    "print(result)        "
   ]
  },
  {
   "cell_type": "code",
   "execution_count": 31,
   "id": "16789dda",
   "metadata": {},
   "outputs": [
    {
     "name": "stdout",
     "output_type": "stream",
     "text": [
      "CODE\n"
     ]
    }
   ],
   "source": [
    "string='C O D E'\n",
    "string2=\"\".join(char for char in string if char!=\" \")\n",
    "print (string2)"
   ]
  },
  {
   "cell_type": "code",
   "execution_count": 32,
   "id": "b8ff093f",
   "metadata": {},
   "outputs": [
    {
     "name": "stdout",
     "output_type": "stream",
     "text": [
      "CODE\n"
     ]
    }
   ],
   "source": [
    "string='C O D E'\n",
    "string2= string.replace(\" \",\"\")\n",
    "print (string2)"
   ]
  },
  {
   "cell_type": "code",
   "execution_count": 35,
   "id": "c250839c",
   "metadata": {},
   "outputs": [
    {
     "name": "stdout",
     "output_type": "stream",
     "text": [
      "     *\n",
      "    ***\n",
      "   *****\n",
      "  *******\n",
      " *********\n"
     ]
    }
   ],
   "source": [
    "def pyramid(n):\n",
    "    for i in range(n):\n",
    "        for j in range(i,n):\n",
    "            print(\" \",end=\"\")\n",
    "        for j in range(i+1):\n",
    "            print(\"*\",end=\"\")\n",
    "        for j in range(i):\n",
    "            print(\"*\",end=\"\")\n",
    "        print(\"\")\n",
    "pyramid(5)                    "
   ]
  },
  {
   "cell_type": "code",
   "execution_count": 1,
   "id": "39c72a33",
   "metadata": {},
   "outputs": [
    {
     "name": "stdout",
     "output_type": "stream",
     "text": [
      "    *    \n",
      "   ***   \n",
      "  *****  \n",
      " ******* \n",
      "*********\n"
     ]
    }
   ],
   "source": [
    "def pyramid(rows):\n",
    "    for i in range(1,rows+1):\n",
    "        for j in range(rows-i):\n",
    "            print(\" \",end=\"\")\n",
    "        for k in range(2*i-1):\n",
    "            print(\"*\",end=\"\")\n",
    "        for j in range(rows-i):\n",
    "            print(\" \",end=\"\")    \n",
    "        print()    \n",
    "pyramid(5)                "
   ]
  },
  {
   "cell_type": "code",
   "execution_count": 7,
   "id": "d75fc99b",
   "metadata": {},
   "outputs": [
    {
     "name": "stdout",
     "output_type": "stream",
     "text": [
      " *********\n",
      "  *******\n",
      "   *****\n",
      "    ***\n",
      "     *\n"
     ]
    }
   ],
   "source": [
    "def pyramid(rows):\n",
    "    for i in range(1,rows+1):\n",
    "        for j in range(i):\n",
    "            print(\" \",end=\"\")\n",
    "        for k in range(2*(rows-i)+1):\n",
    "            print(\"*\",end=\"\")\n",
    "        print()    \n",
    "pyramid(5)"
   ]
  },
  {
   "cell_type": "code",
   "execution_count": 1,
   "id": "3cc5428f",
   "metadata": {},
   "outputs": [
    {
     "name": "stdout",
     "output_type": "stream",
     "text": [
      "     *\n",
      "    ***\n",
      "   *****\n",
      "  *******\n",
      " *********\n",
      "***********\n",
      " *********\n",
      "  *******\n",
      "   *****\n",
      "    ***\n",
      "     *\n"
     ]
    }
   ],
   "source": [
    "def starArrowPattern(n: int) -> None:\n",
    "    # Upper part (1 to n)\n",
    "    for i in range(1, n + 1):\n",
    "        # Print spaces\n",
    "        for j in range(n - i):\n",
    "            print(\" \", end=\"\")\n",
    "        # Print stars\n",
    "        for k in range(2 * i - 1):\n",
    "            print(\"*\", end=\"\")\n",
    "        print()\n",
    "\n",
    "    # Lower part (n-1 to 1)\n",
    "    for i in range(n - 1, 0, -1):\n",
    "        # Print spaces\n",
    "        for j in range(n - i):\n",
    "            print(\" \", end=\"\")\n",
    "        # Print stars\n",
    "        for k in range(2 * i - 1):\n",
    "            print(\"*\", end=\"\")\n",
    "        print()\n",
    "\n",
    "# Example usage\n",
    "starArrowPattern(6)\n"
   ]
  },
  {
   "cell_type": "code",
   "execution_count": 8,
   "id": "21735c85",
   "metadata": {},
   "outputs": [
    {
     "name": "stdout",
     "output_type": "stream",
     "text": [
      "    *    \n",
      "   ***   \n",
      "  *****  \n",
      " ******* \n",
      "*********\n",
      "*********\n",
      " ******* \n",
      "  *****  \n",
      "   ***   \n",
      "    *    \n"
     ]
    }
   ],
   "source": [
    "def nStarDiamond(n: int) -> None:\n",
    "    for i in range(1, n + 1):\n",
    "        # Print spaces\n",
    "        for j in range(n - i):\n",
    "            print(\" \", end=\"\")\n",
    "        # Print stars\n",
    "        for k in range(2 * i - 1):\n",
    "            print(\"*\", end=\"\")\n",
    "        for j in range(n - i):\n",
    "            print(\" \", end=\"\")    \n",
    "        print()\n",
    "\n",
    "    # Lower part (n-1 to 1)\n",
    "    for i in range(n , 0, -1):\n",
    "        # Print spaces\n",
    "        for j in range(n - i):\n",
    "            print(\" \", end=\"\")\n",
    "        # Print stars\n",
    "        for k in range(2 * i - 1):\n",
    "            print(\"*\", end=\"\")\n",
    "        for j in range(n - i):\n",
    "            print(\" \", end=\"\")    \n",
    "        print()\n",
    "nStarDiamond(5)        "
   ]
  },
  {
   "cell_type": "code",
   "execution_count": 15,
   "id": "6a9c700b",
   "metadata": {},
   "outputs": [
    {
     "name": "stdout",
     "output_type": "stream",
     "text": [
      "*\n",
      "**\n",
      "***\n",
      "****\n",
      "*****\n",
      "****\n",
      "***\n",
      "**\n",
      "*\n"
     ]
    }
   ],
   "source": [
    "def rows(n):\n",
    "    for i in range(1,n+1):\n",
    "        for j in range(i):\n",
    "            print(\"*\",end=\"\")\n",
    "        print() \n",
    "    for i in range(n-1,0,-1)  :\n",
    "        for j in range(i):\n",
    "            print(\"*\",end=\"\")  \n",
    "        print()      \n",
    "rows(5)         \n",
    "            "
   ]
  },
  {
   "cell_type": "code",
   "execution_count": null,
   "id": "6f4c3e0d",
   "metadata": {},
   "outputs": [
    {
     "name": "stdout",
     "output_type": "stream",
     "text": [
      "1 \n",
      "0 1 \n",
      "1 0 1 \n",
      "0 1 0 1 \n"
     ]
    }
   ],
   "source": [
    "def rows(n):\n",
    "    for i in range(1,n+1):\n",
    "        start=1 if i%2!=0 else 0\n",
    "        for j in range(i):\n",
    "            print(start,end=\" \")\n",
    "            start=1-start#flip between 1's and 0's\n",
    "        print()\n",
    "rows(4)            "
   ]
  },
  {
   "cell_type": "code",
   "execution_count": 36,
   "id": "2b9720fc",
   "metadata": {},
   "outputs": [
    {
     "name": "stdout",
     "output_type": "stream",
     "text": [
      "1       1 \n",
      "1 2     2 1 \n",
      "1 2 3   3 2 1 \n",
      "1 2 3 4 4 3 2 1 \n"
     ]
    }
   ],
   "source": [
    "def rows(n):\n",
    "    for i in range(1,n+1):\n",
    "        for j in range(1,i+1):\n",
    "            print(j,end=\" \")\n",
    "        for k in range(2*(n-i)):\n",
    "            print(\" \",end=\"\")\n",
    "        for j in range(i,0,-1):\n",
    "            print(j,end=\" \")\n",
    "        print()\n",
    "rows(4)                "
   ]
  },
  {
   "cell_type": "code",
   "execution_count": 35,
   "id": "2ebec1f7",
   "metadata": {},
   "outputs": [
    {
     "name": "stdout",
     "output_type": "stream",
     "text": [
      "1 \n",
      "2 3 \n",
      "4 5 6 \n",
      "7 8 9 10 \n"
     ]
    }
   ],
   "source": [
    "def rows(n):\n",
    "    num=1\n",
    "    for i in range(1,n+1):\n",
    "       for j in range(1,i+1):\n",
    "           print(num,end=\" \")\n",
    "           num+=1\n",
    "       print()  \n",
    "rows(4)         "
   ]
  },
  {
   "cell_type": "code",
   "execution_count": 40,
   "id": "56197bae",
   "metadata": {},
   "outputs": [
    {
     "name": "stdout",
     "output_type": "stream",
     "text": [
      "A \n",
      "A B \n",
      "A B C \n"
     ]
    }
   ],
   "source": [
    "def rows(n):\n",
    "    \n",
    "    for i in range(1,n+1):\n",
    "       for j in range(i):\n",
    "           print(chr(65+j),end=\" \")\n",
    "           \n",
    "       print()  \n",
    "rows(3)"
   ]
  },
  {
   "cell_type": "code",
   "execution_count": 3,
   "id": "d478bea7",
   "metadata": {},
   "outputs": [
    {
     "name": "stdout",
     "output_type": "stream",
     "text": [
      "A B C D E \n",
      "A B C D \n",
      "A B C \n",
      "A B \n",
      "A \n",
      "\n"
     ]
    }
   ],
   "source": [
    "def rows(n):\n",
    "    for i in range(n+1):\n",
    "        for j in range(n-i):\n",
    "            print(chr(65+j),end=\" \")\n",
    "        print()\n",
    "rows(5)            "
   ]
  },
  {
   "cell_type": "code",
   "execution_count": 53,
   "id": "07d20ebe",
   "metadata": {},
   "outputs": [
    {
     "name": "stdout",
     "output_type": "stream",
     "text": [
      "A \n",
      "B B \n",
      "C C C \n",
      "D D D D \n",
      "E E E E E \n"
     ]
    }
   ],
   "source": [
    "def rows(n):\n",
    "    for i in range(n):\n",
    "        for j in range(i+1):\n",
    "            print(chr(65+i),end=\" \")\n",
    "        print()\n",
    "rows(5)"
   ]
  },
  {
   "cell_type": "code",
   "execution_count": null,
   "id": "65ec35c3",
   "metadata": {},
   "outputs": [
    {
     "name": "stdout",
     "output_type": "stream",
     "text": [
      "   A     \n",
      "  A B A    \n",
      " A B C B A   \n",
      "A B C D C B A  \n"
     ]
    }
   ],
   "source": [
    "def rows(n):\n",
    "    for i in range(n):\n",
    "        for j in range(n-i-1):\n",
    "            print(\" \",end=\"\")\n",
    "        for j in range(i+1):\n",
    "            print(chr(65+j),end=\" \")\n",
    "        for j in range(i - 1, -1, -1):\n",
    "            print(chr(65 + j), end=\" \")    \n",
    "        for j in range(n-i-1):\n",
    "            print(\" \",end=\"\")    \n",
    "        print()\n",
    "rows(4)                "
   ]
  },
  {
   "cell_type": "code",
   "execution_count": 77,
   "id": "954ab8b0",
   "metadata": {},
   "outputs": [
    {
     "name": "stdout",
     "output_type": "stream",
     "text": [
      "E \n",
      "E D \n",
      "E D C \n",
      "E D C B \n",
      "E D C B A \n"
     ]
    }
   ],
   "source": [
    "def reverse_alpha_triangle(n):\n",
    "    start_char = chr(65 + n - 1 )\n",
    "    for i in range(n):\n",
    "          # Start from 'E', 'D', ..., 'A'\n",
    "        for j in range(i + 1):\n",
    "            print(chr(ord(start_char) - j), end=\" \")\n",
    "        print()\n",
    "\n",
    "reverse_alpha_triangle(5)           "
   ]
  },
  {
   "cell_type": "code",
   "execution_count": 8,
   "id": "6f374139",
   "metadata": {},
   "outputs": [
    {
     "name": "stdout",
     "output_type": "stream",
     "text": [
      "E \n",
      "D E \n",
      "C D E \n",
      "B C D E \n",
      "A B C D E \n"
     ]
    }
   ],
   "source": [
    "def print18(n):\n",
    "    for i in range(n):\n",
    "        for ch in range(ord('E') - i, ord('E') + 1):\n",
    "            print(chr(ch), end=\" \")\n",
    "        print()\n",
    "print18(5)        "
   ]
  },
  {
   "cell_type": "code",
   "execution_count": 46,
   "id": "0bbc8299",
   "metadata": {},
   "outputs": [
    {
     "name": "stdout",
     "output_type": "stream",
     "text": [
      "******\n",
      "**  **\n",
      "*    *\n",
      "*    *\n",
      "**  **\n",
      "******\n"
     ]
    }
   ],
   "source": [
    "def rows(n):\n",
    "    spaces = 0\n",
    "    for i in range(n, 0, -1):\n",
    "        # Left stars\n",
    "        for j in range(i):\n",
    "            print(\"*\", end=\"\")\n",
    "        # Middle spaces\n",
    "        for j in range(spaces):\n",
    "            print(\" \", end=\"\")\n",
    "        # Right stars\n",
    "        for j in range(i):\n",
    "            print(\"*\", end=\"\")\n",
    "        print()\n",
    "        spaces += 2\n",
    "    \n",
    "    # Bottom part - increasing stars\n",
    "    spaces = 2*n - 2\n",
    "    for i in range(1, n+1):\n",
    "        # Left stars\n",
    "        for j in range(i):\n",
    "            print(\"*\", end=\"\")\n",
    "        # Middle spaces\n",
    "        for j in range(spaces):\n",
    "            print(\" \", end=\"\")\n",
    "        # Right stars\n",
    "        for j in range(i):\n",
    "            print(\"*\", end=\"\")\n",
    "        print()\n",
    "        spaces -= 2\n",
    "    \n",
    "    # print()       \n",
    "rows(3)                 "
   ]
  },
  {
   "cell_type": "code",
   "execution_count": 48,
   "id": "9bbfe5e8",
   "metadata": {},
   "outputs": [
    {
     "name": "stdout",
     "output_type": "stream",
     "text": [
      "*                 * \n",
      "* *             * * \n",
      "* * *         * * * \n",
      "* * * *     * * * * \n",
      "* * * * * * * * * * \n",
      "* * * * * * * * * * \n",
      "* * * *     * * * * \n",
      "* * *         * * * \n",
      "* *             * * \n",
      "*                 * \n"
     ]
    }
   ],
   "source": [
    "def rows(n):\n",
    "    spaces = 2*n - 2\n",
    "    for i in range(1, n+1):\n",
    "        # Left stars\n",
    "        for j in range(i):\n",
    "            print(\"*\", end=\" \")\n",
    "        # Middle spaces\n",
    "        for j in range(spaces):\n",
    "            print(\" \", end=\" \")\n",
    "        # Right stars\n",
    "        for j in range(i):\n",
    "            print(\"*\", end=\" \")\n",
    "        print()\n",
    "        spaces -= 2\n",
    "    spaces = 0\n",
    "    for i in range(n, 0, -1):\n",
    "        # Left stars\n",
    "        for j in range(i):\n",
    "            print(\"*\", end=\" \")\n",
    "        # Middle spaces\n",
    "        for j in range(spaces):\n",
    "            print(\" \", end=\" \")\n",
    "        # Right stars\n",
    "        for j in range(i):\n",
    "            print(\"*\", end=\" \")\n",
    "        print()\n",
    "        spaces += 2\n",
    "rows(5)            \n",
    "    \n",
    "    "
   ]
  },
  {
   "cell_type": "code",
   "execution_count": null,
   "id": "4613ef15",
   "metadata": {},
   "outputs": [
    {
     "name": "stdout",
     "output_type": "stream",
     "text": [
      "* * * * \n",
      "*     * \n",
      "*     * \n",
      "* * * * \n"
     ]
    }
   ],
   "source": [
    "def rows(n):\n",
    "    for i in range(n):\n",
    "        for j in range(n):\n",
    "            if i==0 or i==n-1 or j==0 or j==n-1:#boundaries \n",
    "                print(\"*\",end=\" \")\n",
    "            else:\n",
    "                print(\" \",end=\" \")   \n",
    "        print()    \n",
    "rows(4)             "
   ]
  },
  {
   "cell_type": "code",
   "execution_count": 52,
   "id": "88b79f6f",
   "metadata": {},
   "outputs": [
    {
     "name": "stdout",
     "output_type": "stream",
     "text": [
      "4 4 4 4 4 4 4 \n",
      "4 3 3 3 3 3 4 \n",
      "4 3 2 2 2 3 4 \n",
      "4 3 2 1 2 3 4 \n",
      "4 3 2 2 2 3 4 \n",
      "4 3 3 3 3 3 4 \n",
      "4 4 4 4 4 4 4 \n"
     ]
    }
   ],
   "source": [
    "def rows(n):\n",
    "    size=2*n-1\n",
    "    for i in range(size):\n",
    "        for j in range(size):\n",
    "            min_dist=min(i,j,size-1-i,size-1-j)\n",
    "            print(n-min_dist,end=\" \")\n",
    "        print()\n",
    "rows(4)                "
   ]
  },
  {
   "cell_type": "code",
   "execution_count": 38,
   "id": "1855c5e3",
   "metadata": {},
   "outputs": [
    {
     "name": "stdout",
     "output_type": "stream",
     "text": [
      "['is', 'python', 'nice']\n"
     ]
    }
   ],
   "source": [
    "from random import shuffle\n",
    "lst=[\"python\",\"is\",\"nice\"]\n",
    "shuffle(lst)\n",
    "print(lst)"
   ]
  },
  {
   "cell_type": "code",
   "execution_count": 1,
   "id": "00e48bca",
   "metadata": {},
   "outputs": [
    {
     "name": "stdout",
     "output_type": "stream",
     "text": [
      "2 3 5 7 11 13 17 19 23 29 "
     ]
    }
   ],
   "source": [
    "def isprime(num):\n",
    "    for i in range(2,num):\n",
    "        if num%i==0:\n",
    "            return False\n",
    "    return True \n",
    "def prime_generator(n):\n",
    "    num=2\n",
    "    while n:\n",
    "        if isprime(num):\n",
    "            yield num\n",
    "            n-=1\n",
    "        num+=1\n",
    "x=int(input(\"Enter no. of prime numbers required\"))\n",
    "it=prime_generator(x)\n",
    "for e in it :\n",
    "    print(e,end=\" \")                   "
   ]
  },
  {
   "cell_type": "code",
   "execution_count": null,
   "id": "45ae395b",
   "metadata": {},
   "outputs": [
    {
     "name": "stdout",
     "output_type": "stream",
     "text": [
      "himanshi\n",
      "himanshi\n",
      "himanshi\n",
      "himanshi\n",
      "himanshi\n"
     ]
    }
   ],
   "source": [
    "# recursion\n",
    "def print_name(name,n):\n",
    "    if n==0:\n",
    "        return\n",
    "    print(name)\n",
    "    print_name(name,n-1) \n",
    "\n",
    "print_name(\"himanshi\", 5)    \n",
    "    \n",
    "\n",
    "# Base Case: if n == 0: return – this stops the recursion.\n",
    "\n",
    "# Recursive Step: print_name(name, n - 1) – reduces n by 1 each time.\n",
    "# n = 3:\n",
    "# It prints \"Alice\"\n",
    "# Calls print_name(\"Alice\", 2)\n",
    "# n = 2:\n",
    "# It prints \"Alice\"\n",
    "# Calls print_name(\"Alice\", 1)\n",
    "# n = 1:\n",
    "# It prints \"Alice\"\n",
    "# Calls print_name(\"Alice\", 0)\n",
    "# n = 0:\n",
    "# This hits the base case and returns without doing anything, ending the recursion.\n",
    "    "
   ]
  },
  {
   "cell_type": "code",
   "execution_count": null,
   "id": "defa4f8e",
   "metadata": {},
   "outputs": [
    {
     "name": "stdout",
     "output_type": "stream",
     "text": [
      "raj\n",
      "raj\n",
      "raj\n",
      "raj\n",
      "raj\n"
     ]
    }
   ],
   "source": [
    "def f(i, n):\n",
    "    if i > n:\n",
    "        return\n",
    "    print(\"raj\")\n",
    "    f(i + 1, n)\n",
    "\n",
    "# Main function\n",
    "n = int(input(\"Enter the value of n: \"))\n",
    "f(1, n)\n",
    "# It then prints \"raj\" exactly n times using recursion.\n",
    "# It starts from i = 1 and increases i by 1 on each recursive call until i > n."
   ]
  },
  {
   "cell_type": "code",
   "execution_count": 12,
   "id": "35160397",
   "metadata": {},
   "outputs": [
    {
     "name": "stdout",
     "output_type": "stream",
     "text": [
      "1\n",
      "2\n",
      "3\n",
      "4\n",
      "5\n"
     ]
    }
   ],
   "source": [
    "def f(i, n):\n",
    "    if i > n:\n",
    "        return\n",
    "    print(i)\n",
    "    f(i + 1, n)\n",
    "\n",
    "# Main function\n",
    "n = int(input(\"Enter the value of n: \"))\n",
    "f(1, n)"
   ]
  },
  {
   "cell_type": "code",
   "execution_count": 17,
   "id": "5e802ab0",
   "metadata": {},
   "outputs": [
    {
     "name": "stdout",
     "output_type": "stream",
     "text": [
      "5\n",
      "4\n",
      "3\n",
      "2\n",
      "1\n"
     ]
    }
   ],
   "source": [
    "def f(i, n):\n",
    "    if i < n:\n",
    "        return\n",
    "    print(i)\n",
    "    f(i-1, n)\n",
    "\n",
    "# Main function\n",
    "n = int(input(\"Enter the value of n: \"))\n",
    "f(n, 1)"
   ]
  },
  {
   "cell_type": "code",
   "execution_count": 18,
   "id": "d154eb13",
   "metadata": {},
   "outputs": [
    {
     "name": "stdout",
     "output_type": "stream",
     "text": [
      "1\n",
      "2\n",
      "3\n",
      "4\n",
      "5\n"
     ]
    }
   ],
   "source": [
    "def print_numbers(i, n):\n",
    "    if i < 1:\n",
    "        return\n",
    "    print_numbers(i - 1, n)  # Recursive call first (go deeper)\n",
    "    print(i)  # Print on backtrack\n",
    "\n",
    "# Example usage\n",
    "n = int(input(\"Enter n: \"))\n",
    "print_numbers(n, n)"
   ]
  },
  {
   "cell_type": "code",
   "execution_count": 19,
   "id": "febd8f2a",
   "metadata": {},
   "outputs": [
    {
     "name": "stdout",
     "output_type": "stream",
     "text": [
      "5\n",
      "4\n",
      "3\n",
      "2\n",
      "1\n"
     ]
    }
   ],
   "source": [
    "def print_numbers(i, n):\n",
    "    if i < 1:\n",
    "        return\n",
    "    print(i)\n",
    "    print_numbers(i - 1, n)  # Recursive call first (go deeper)\n",
    "    # print(i)  # Print on backtrack\n",
    "\n",
    "# Example usage\n",
    "n = int(input(\"Enter n: \"))\n",
    "print_numbers(n, n)"
   ]
  },
  {
   "cell_type": "code",
   "execution_count": 1,
   "id": "5eaa4091",
   "metadata": {},
   "outputs": [
    {
     "name": "stdout",
     "output_type": "stream",
     "text": [
      "Sum = 15\n"
     ]
    }
   ],
   "source": [
    "def sum_n(n):\n",
    "    if n==0:\n",
    "        return 0\n",
    "    return n+ sum_n(n-1)\n",
    "n=int(input(\"Enter n: \"))\n",
    "print(\"Sum =\",sum_n(n))"
   ]
  },
  {
   "cell_type": "code",
   "execution_count": 3,
   "id": "686515ee",
   "metadata": {},
   "outputs": [
    {
     "name": "stdout",
     "output_type": "stream",
     "text": [
      "Factorial of 5 is : 120\n"
     ]
    }
   ],
   "source": [
    "def factorial(n):\n",
    "    if n==0:\n",
    "        return 1\n",
    "    return n* factorial(n-1)\n",
    "n=int(input(\"Enter n: \"))\n",
    "print(\"Factorial of\",n,\"is :\",factorial(n))"
   ]
  },
  {
   "cell_type": "code",
   "execution_count": 4,
   "id": "88684f91",
   "metadata": {},
   "outputs": [
    {
     "name": "stdout",
     "output_type": "stream",
     "text": [
      "Reversed array: [5, 4, 3, 2, 1]\n"
     ]
    }
   ],
   "source": [
    "def reverse_array(arr,start,end):\n",
    "    if start>=end:\n",
    "        return\n",
    "    arr[start],arr[end]= arr[end],arr[start]\n",
    "    reverse_array(arr,start+1,end-1)\n",
    "arr = [1, 2, 3, 4, 5]\n",
    "reverse_array(arr, 0, len(arr) - 1)\n",
    "print(\"Reversed array:\", arr)    "
   ]
  },
  {
   "cell_type": "code",
   "execution_count": null,
   "id": "ed2c5a1a",
   "metadata": {},
   "outputs": [],
   "source": [
    "def reverse_arr(arr,i=0):\n",
    "    if i >=len(arr)//2:\n",
    "        return\n",
    "    arr[i],arr[len(arr)-i-1]=arr[len(arr)-i-1],arr[i]\n",
    "    reverse_arr(arr,i+1)\n",
    "# If i = 0, then:\n",
    "\n",
    "# arr[-i - 1] = arr[-0 - 1] = arr[-1]  # last element\n",
    "\n",
    "# If i = 1, then:\n",
    "\n",
    "# arr[-1 - 1] = arr[-2]      "
   ]
  },
  {
   "cell_type": "code",
   "execution_count": 4,
   "id": "4dd83fbc",
   "metadata": {},
   "outputs": [
    {
     "name": "stdout",
     "output_type": "stream",
     "text": [
      "True\n"
     ]
    }
   ],
   "source": [
    "def pallindrome(s):\n",
    "    if s==s[::-1]:\n",
    "        return True\n",
    "    else:\n",
    "       return False\n",
    "s=\"level\"\n",
    "print(pallindrome(s))        "
   ]
  },
  {
   "cell_type": "code",
   "execution_count": null,
   "id": "beb86f82",
   "metadata": {},
   "outputs": [],
   "source": [
    "def pallindrome(s):\n",
    "    if len(s)<=1:\n",
    "        return True\n",
    "    if s[0]!=s[-1]:\n",
    "        return False\n",
    "    return pallindrome(s[1:-1])\n",
    "# We use s[1:-1] because:\n",
    "\n",
    "#     We already compared s[0] and s[-1]\n",
    "\n",
    "#     We don’t need to compare them again\n",
    "\n",
    "#     So we slice them out for the next recursive call"
   ]
  },
  {
   "cell_type": "code",
   "execution_count": 9,
   "id": "c560ea67",
   "metadata": {},
   "outputs": [
    {
     "name": "stdout",
     "output_type": "stream",
     "text": [
      "55\n"
     ]
    }
   ],
   "source": [
    "def fibonacci(n):\n",
    "    if n <= 1:\n",
    "        return n\n",
    "    return fibonacci(n-1) + fibonacci(n-2)\n",
    "\n",
    "n = 10\n",
    "print(fibonacci(n))\n",
    "    "
   ]
  },
  {
   "cell_type": "code",
   "execution_count": null,
   "id": "c8c1e09d",
   "metadata": {},
   "outputs": [
    {
     "name": "stdout",
     "output_type": "stream",
     "text": [
      "2\n"
     ]
    }
   ],
   "source": [
    "def count_number(n, arr):\n",
    "    count = 0\n",
    "    for i in range(len(arr)):\n",
    "        if arr[i] == n:\n",
    "            count += 1\n",
    "    return count\n",
    "\n",
    "arr = [1, 5, 4, 1, 5, 1]\n",
    "n = 5\n",
    "print(count_number(n, arr))"
   ]
  },
  {
   "cell_type": "code",
   "execution_count": 2,
   "id": "319c9830",
   "metadata": {},
   "outputs": [
    {
     "name": "stdout",
     "output_type": "stream",
     "text": [
      "2\n",
      "0\n",
      "1\n",
      "2\n",
      "0\n"
     ]
    }
   ],
   "source": [
    "# Hashing problems\n",
    "def main():\n",
    "    n=int(input())\n",
    "    arr=list(map(int,input().split()))\n",
    "    \n",
    "    hash_arr=[0]*13\n",
    "    for num in arr:\n",
    "        hash_arr[num]+=1\n",
    "    q=int(input())    \n",
    "    for _ in range(q):\n",
    "        number=int(input())\n",
    "        print(hash_arr[number] if 0<=number<13 else 0)  \n",
    "main()          "
   ]
  },
  {
   "cell_type": "code",
   "execution_count": 3,
   "id": "a56c4508",
   "metadata": {},
   "outputs": [
    {
     "name": "stdout",
     "output_type": "stream",
     "text": [
      "2\n",
      "0\n",
      "1\n",
      "2\n",
      "1\n"
     ]
    }
   ],
   "source": [
    "s=input()\n",
    "hash_arr=[0]*26\n",
    "for ch in s:\n",
    "    hash_arr[ord(ch)-ord('a')]+=1\n",
    "q=int(input())\n",
    "for _ in range(q):\n",
    "    ch=input().strip()\n",
    "    print(hash_arr[ord(ch)-ord('a')])    "
   ]
  },
  {
   "cell_type": "code",
   "execution_count": 4,
   "id": "a1c3ddbc",
   "metadata": {},
   "outputs": [
    {
     "name": "stdout",
     "output_type": "stream",
     "text": [
      "0\n",
      "2\n",
      "2\n",
      "2\n",
      "1\n"
     ]
    }
   ],
   "source": [
    "from collections import defaultdict\n",
    "\n",
    "n=int(input())\n",
    "arr=list(map(int,input().split()))\n",
    "\n",
    "mpp=defaultdict(int)\n",
    "for num in arr:\n",
    "    mpp[num]+=1\n",
    "q=int(input())\n",
    "for _ in range(q):\n",
    "    number=int(input())\n",
    "    print(mpp[number])    "
   ]
  },
  {
   "cell_type": "code",
   "execution_count": null,
   "id": "b1c5eaf9",
   "metadata": {},
   "outputs": [
    {
     "name": "stdout",
     "output_type": "stream",
     "text": [
      "Sorted array: [11, 12, 22, 25, 64]\n"
     ]
    }
   ],
   "source": [
    "# sorting\n",
    "# selection sort \n",
    "def selection_sort(arr):\n",
    "    n=len(arr)\n",
    "    for i in range(n-1):\n",
    "        min_index=i\n",
    "        for j in range(i+1,n):\n",
    "            if arr[j]< arr[min_index]:\n",
    "                min_index=j\n",
    "        arr[i],arr[min_index]=arr[min_index],arr[i] \n",
    "    return arr           \n",
    "arr = [64, 25, 12, 22, 11]\n",
    "sorted_arr = selection_sort(arr)\n",
    "print(\"Sorted array:\", sorted_arr)     \n",
    "\n",
    "# Worst Case: O(n²)\n",
    "\n",
    "# Average Case: O(n²)\n",
    "\n",
    "# Best Case: O(n²)\n",
    "\n",
    "# Space Complexity: O(1) (in-place)   "
   ]
  },
  {
   "cell_type": "code",
   "execution_count": 6,
   "id": "667c53c4",
   "metadata": {},
   "outputs": [
    {
     "name": "stdout",
     "output_type": "stream",
     "text": [
      "[1, 2, 4, 5, 8]\n"
     ]
    }
   ],
   "source": [
    "def bubble_sort(arr):\n",
    "    n=len(arr)\n",
    "    for i  in range(n-1):\n",
    "        for j in range(n-i-1):\n",
    "            if arr[j]>arr[j+1]:\n",
    "                arr[j],arr[j+1]=arr[j+1],arr[j]\n",
    "    return arr\n",
    "arr = [5, 1, 4, 2, 8]\n",
    "bubble_sort(arr)\n",
    "print(arr)            "
   ]
  },
  {
   "cell_type": "code",
   "execution_count": 6,
   "id": "8afecd39",
   "metadata": {},
   "outputs": [
    {
     "name": "stdout",
     "output_type": "stream",
     "text": [
      "Sorted array: [11, 12, 22, 25, 34, 64, 90]\n"
     ]
    }
   ],
   "source": [
    "# recursive bubble sort \n",
    "def recursive_bubble_sort(arr,n=None):\n",
    "    # If n is None, initialize it to the length of the array\n",
    "    if n is None:\n",
    "        n=len(arr)\n",
    "    # Base case: if array has only one element or we've sorted all elements    \n",
    "    if n<=1:\n",
    "        return arr\n",
    "    \n",
    "    for i in range(n-1):\n",
    "        if arr[i]>arr[i+1]:\n",
    "            arr[i],arr[i+1]=arr[i+1],arr[i]\n",
    "     # Recursively sort the array excluding the last element (which is now sorted)        \n",
    "    return recursive_bubble_sort(arr,n-1)\n",
    "arr = [64, 34, 25, 12, 22, 11, 90]\n",
    "sorted_arr = recursive_bubble_sort(arr)\n",
    "print(\"Sorted array:\", sorted_arr)\n",
    "            "
   ]
  },
  {
   "cell_type": "code",
   "execution_count": null,
   "id": "2f2ef5ee",
   "metadata": {},
   "outputs": [
    {
     "name": "stdout",
     "output_type": "stream",
     "text": [
      "Inserting 3...\n",
      "Array now: [3, 4, 2, 10, 12]\n",
      "Inserting 2...\n",
      "Array now: [2, 3, 4, 10, 12]\n",
      "Inserting 10...\n",
      "Array now: [2, 3, 4, 10, 12]\n",
      "Inserting 12...\n",
      "Array now: [2, 3, 4, 10, 12]\n",
      "[2, 3, 4, 10, 12]\n"
     ]
    }
   ],
   "source": [
    "def insertion_sort_verbose(arr):\n",
    "    for i in range(1, len(arr)):\n",
    "        key = arr[i]\n",
    "        j = i - 1\n",
    "        print(f\"Inserting {key}...\")\n",
    "        while j >= 0 and arr[j] > key:\n",
    "            arr[j + 1] = arr[j]\n",
    "            j -= 1\n",
    "        arr[j + 1] = key\n",
    "        print(\"Array now:\", arr)\n",
    "arr = [4, 3, 2, 10, 12]\n",
    "insertion_sort_verbose(arr)\n",
    "print(arr)\n"
   ]
  },
  {
   "cell_type": "code",
   "execution_count": null,
   "id": "edce5482",
   "metadata": {},
   "outputs": [],
   "source": [
    "def recursive_insertion_sort(arr,n=None):\n",
    "    if n is None:\n",
    "        n=len(arr)\n",
    "    if n<=1:\n",
    "        return arr\n",
    "    recursive_insertion_sort(arr,n-1)    \n",
    "    \n",
    "    last=arr[n-1]\n",
    "    j=n-2\n",
    "    while j>=0 and arr[j]>last:\n",
    "        arr[j+1]=arr[j]\n",
    "        j-=1\n",
    "    arr[j+1]=last\n",
    "    return arr\n",
    "# Test the function\n",
    "arr = [12, 11, 13, 5, 6]\n",
    "sorted_arr = recursive_insertion_sort(arr)\n",
    "print(\"Sorted array:\", sorted_arr)\n",
    "    "
   ]
  },
  {
   "cell_type": "code",
   "execution_count": 5,
   "id": "6abc11b6",
   "metadata": {},
   "outputs": [
    {
     "name": "stdout",
     "output_type": "stream",
     "text": [
      "Sorted array: [3, 9, 10, 27, 38, 43, 82]\n"
     ]
    }
   ],
   "source": [
    "def merge_sort(arr):\n",
    "    if len(arr)<=1:\n",
    "        return arr\n",
    "    mid=len(arr)//2\n",
    "    left=arr[:mid]\n",
    "    right=arr[mid:]\n",
    "    \n",
    "    left=merge_sort(left)\n",
    "    right=merge_sort(right)\n",
    "    return merge(left,right)\n",
    "\n",
    "def merge(left,right):\n",
    "    result=[]\n",
    "    i=j=0\n",
    "    # Compare elements from both arrays and add smaller one to result\n",
    "    while i<len(left) and j <len(right):\n",
    "        if left[i]<=right[j]:\n",
    "            result.append(left[i])\n",
    "            i+=1\n",
    "        else:\n",
    "            result.append(right[j])\n",
    "            j+=1\n",
    "    # Add any remaining elements        \n",
    "    result.extend(left[i:])\n",
    "    result.extend(right[j:])\n",
    "    return result\n",
    "arr = [38, 27, 43, 3, 9, 82, 10]\n",
    "sorted_array = merge_sort(arr)\n",
    "print(\"Sorted array:\", sorted_array)\n",
    "            "
   ]
  },
  {
   "cell_type": "code",
   "execution_count": 1,
   "id": "31ca9dd7",
   "metadata": {},
   "outputs": [
    {
     "name": "stdout",
     "output_type": "stream",
     "text": [
      "Largest element: 6\n"
     ]
    }
   ],
   "source": [
    "def largestelement(arr):\n",
    "    return max(arr)\n",
    "arr = [3, 2, 1, 5, 6, 4]\n",
    "print(\"Largest element:\", largestelement(arr))\n"
   ]
  },
  {
   "cell_type": "code",
   "execution_count": 2,
   "id": "1a780cb4",
   "metadata": {},
   "outputs": [
    {
     "name": "stdout",
     "output_type": "stream",
     "text": [
      "Largest element: 6\n"
     ]
    }
   ],
   "source": [
    "def largestelement(arr):\n",
    "    if not arr:\n",
    "        return None\n",
    "    largest=arr[0]\n",
    "    for i in range(1,len(arr)):\n",
    "        if arr[i]>largest:\n",
    "            largest=arr[i]\n",
    "    return largest\n",
    "arr = [3, 2, 1, 5, 6, 4]\n",
    "print(\"Largest element:\", largestelement(arr))        "
   ]
  },
  {
   "cell_type": "code",
   "execution_count": 3,
   "id": "7acd70d0",
   "metadata": {},
   "outputs": [
    {
     "name": "stdout",
     "output_type": "stream",
     "text": [
      "Largest element: 6\n"
     ]
    }
   ],
   "source": [
    "# recursive\n",
    "def largestelement(arr,n=None):\n",
    "    if n is None:\n",
    "        n=len(arr)\n",
    "    if n==1:\n",
    "        return arr[0]\n",
    "    max_of_rest=largestelement(arr,n-1)\n",
    "    return max(arr[n-1],max_of_rest)    \n",
    "arr = [3, 2, 1, 5, 6, 4]\n",
    "print(\"Largest element:\", largestelement(arr))"
   ]
  },
  {
   "cell_type": "code",
   "execution_count": null,
   "id": "2ee5a302",
   "metadata": {},
   "outputs": [
    {
     "name": "stdout",
     "output_type": "stream",
     "text": [
      "Second largest: 5\n"
     ]
    }
   ],
   "source": [
    "def secondlargest(arr):\n",
    "    if len(arr)<2:\n",
    "        return None\n",
    "    largest=second_largest=float('-inf')\n",
    "    for num in arr:\n",
    "        if num>largest:\n",
    "            second_largest=largest# If the current number is greater than the largest so far:\n",
    "#     Update second_largest to hold the old largest\n",
    "#     Then update largest to the current number\n",
    "            largest=num\n",
    "        elif num > second_largest and num!=largest:\n",
    "            second_largest=num\n",
    "    return second_largest if second_largest !=float('inf') else None   \n",
    "# If second_largest is still -∞, that means all elements were equal or only one distinct element → return None. \n",
    "arr = [3, 2, 1, 5, 6, 4]\n",
    "print(\"Second largest:\", secondlargest(arr))       "
   ]
  },
  {
   "cell_type": "code",
   "execution_count": null,
   "id": "16eb3014",
   "metadata": {},
   "outputs": [
    {
     "name": "stdout",
     "output_type": "stream",
     "text": [
      "Second largest: 5\n"
     ]
    }
   ],
   "source": [
    "# using set\n",
    "def second_largest_set(arr):\n",
    "    if len(arr)<2:\n",
    "        return None\n",
    "    unique_elements=list(set(arr))\n",
    "    if len(unique_elements)<2:\n",
    "        return None\n",
    "    largest=second_largest=float('-inf')\n",
    "    #Initialize both largest and second_largest to negative infinity (-∞), so that any number in the list will be greater.\n",
    "    for num in unique_elements:\n",
    "        if num >largest:\n",
    "            second_largest=largest\n",
    "            largest=num\n",
    "# If the current number is greater than the largest so far:\n",
    "#     Update second_largest to hold the old largest\n",
    "#     Then update largest to the current number            \n",
    "        elif num >second_largest:\n",
    "            second_largest=num\n",
    "    return second_largest\n",
    "arr = [3, 2, 1, 5, 6, 4]\n",
    "print(\"Second largest:\", second_largest_set(arr))\n",
    "            "
   ]
  },
  {
   "cell_type": "code",
   "execution_count": 8,
   "id": "f8c7d56a",
   "metadata": {},
   "outputs": [
    {
     "name": "stdout",
     "output_type": "stream",
     "text": [
      "[1, 2, 3, 4, 5] -> Sorted: True\n",
      "[1, 3, 2, 4, 5] -> Sorted: False\n",
      "[5, 4, 3, 2, 1] -> Sorted: False\n",
      "[1, 1, 2, 2, 3] -> Sorted: True\n",
      "[1] -> Sorted: True\n",
      "[] -> Sorted: True\n"
     ]
    }
   ],
   "source": [
    "def sorted_Array(arr):\n",
    "    if len(arr)<=1:\n",
    "        return True\n",
    "    for i in range(1,len(arr)):\n",
    "        if arr[i]<arr[i-1]:\n",
    "            return False\n",
    "    return True    \n",
    "test_arrays = [\n",
    "    [1, 2, 3, 4, 5],      # Sorted\n",
    "    [1, 3, 2, 4, 5],      # Not sorted\n",
    "    [5, 4, 3, 2, 1],      # Reverse sorted\n",
    "    [1, 1, 2, 2, 3],      # Sorted with duplicates\n",
    "    [1],                  # Single element\n",
    "    []                    # Empty array\n",
    "]\n",
    "\n",
    "for arr in test_arrays:\n",
    "    print(f\"{arr} -> Sorted: {sorted_Array(arr)}\")"
   ]
  },
  {
   "cell_type": "code",
   "execution_count": 9,
   "id": "71207725",
   "metadata": {},
   "outputs": [
    {
     "name": "stdout",
     "output_type": "stream",
     "text": [
      "Array [1, 2, 3, 4, 5] is sorted: True\n"
     ]
    }
   ],
   "source": [
    "def is_sorted_comparison(arr):\n",
    "    return arr == sorted(arr)\n",
    "\n",
    "# Note: This creates a new sorted array, so it's less efficient\n",
    "arr = [1, 2, 3, 4, 5]\n",
    "print(f\"Array {arr} is sorted: {is_sorted_comparison(arr)}\")"
   ]
  },
  {
   "cell_type": "code",
   "execution_count": 10,
   "id": "b117232a",
   "metadata": {},
   "outputs": [
    {
     "name": "stdout",
     "output_type": "stream",
     "text": [
      "Array [1, 2, 3, 4, 5] is sorted: True\n"
     ]
    }
   ],
   "source": [
    "def is_sorted_recursive(arr,index=0):\n",
    "    if len(arr)<=1 or index==len(arr)-1:\n",
    "        return True\n",
    "    if arr[index]>arr[index+1]:\n",
    "        return False\n",
    "    return is_sorted_recursive(arr,index+1)\n",
    "arr = [1, 2, 3, 4, 5]\n",
    "print(f\"Array {arr} is sorted: {is_sorted_recursive(arr)}\")\n"
   ]
  },
  {
   "cell_type": "code",
   "execution_count": 11,
   "id": "afb116eb",
   "metadata": {},
   "outputs": [
    {
     "name": "stdout",
     "output_type": "stream",
     "text": [
      "Original array: [1, 1, 2, 2, 2, 3, 4, 4, 5]\n",
      "Array after removing duplicates: [1, 2, 3, 4, 5]\n"
     ]
    }
   ],
   "source": [
    "def remove_duplicates_iterative(arr):\n",
    "    if not arr:\n",
    "        return []\n",
    "    \n",
    "    result = [arr[0]]  # First element is always unique\n",
    "    \n",
    "    for i in range(1, len(arr)):\n",
    "        if arr[i] != arr[i-1]:\n",
    "            result.append(arr[i])\n",
    "    \n",
    "    return result\n",
    "\n",
    "arr = [1, 1, 2, 2, 2, 3, 4, 4, 5]\n",
    "print(\"Original array:\", arr)\n",
    "unique_arr = remove_duplicates_iterative(arr)\n",
    "print(\"Array after removing duplicates:\", unique_arr)\n",
    "    "
   ]
  },
  {
   "cell_type": "code",
   "execution_count": null,
   "id": "0c3b8623",
   "metadata": {},
   "outputs": [
    {
     "name": "stdout",
     "output_type": "stream",
     "text": [
      "Original array: [1, 1, 2, 2, 2, 3, 4, 4, 5]\n",
      "Array after removing duplicates: [1, 2, 3, 4, 5]\n",
      "New length: 5\n"
     ]
    }
   ],
   "source": [
    "# two poiners\n",
    "def remove_Duplicates_inplace(arr):\n",
    "    if len(arr)<=1:\n",
    "        return len(arr)\n",
    "    # two pointers approch\n",
    "    write_index=1 #This is the position where the next unique element will be written.\n",
    "    for read_index in range(1,len(arr)):\n",
    "        if arr[read_index]!=arr[read_index-1]:\n",
    "            arr[write_index]=arr[read_index]\n",
    "            write_index+=1\n",
    "# Copy this new unique value to write_index.\n",
    "# Then move write_index forward.\n",
    "    return write_index   \n",
    "arr = [1, 1, 2, 2, 2, 3, 4, 4, 5]\n",
    "print(\"Original array:\", arr)\n",
    "new_length = remove_Duplicates_inplace(arr)\n",
    "print(\"Array after removing duplicates:\", arr[:new_length])\n",
    "print(\"New length:\", new_length)     "
   ]
  },
  {
   "cell_type": "code",
   "execution_count": 3,
   "id": "d3e0a80c",
   "metadata": {},
   "outputs": [
    {
     "name": "stdout",
     "output_type": "stream",
     "text": [
      "Original array: [4, 2, 1, 4, 3, 2, 5, 1]\n",
      "Without order preservation: [1, 2, 3, 4, 5]\n",
      "With order preservation: [4, 2, 1, 3, 5]\n"
     ]
    }
   ],
   "source": [
    "def remove_duplicate_unsorted_set(arr):\n",
    "    if not arr:\n",
    "        return []\n",
    "    \n",
    "    return list(set(arr))\n",
    "def remove_duplicate_order_set(arr):\n",
    "    seen=set()\n",
    "    result = []\n",
    "    for item in arr:\n",
    "        if item not in seen:\n",
    "            seen.add(item)\n",
    "            result.append(item)\n",
    "    return result        \n",
    "arr = [4, 2, 1, 4, 3, 2, 5, 1]\n",
    "print(\"Original array:\", arr)\n",
    "print(\"Without order preservation:\", remove_duplicate_unsorted_set(arr))\n",
    "print(\"With order preservation:\", remove_duplicate_order_set(arr))"
   ]
  },
  {
   "cell_type": "code",
   "execution_count": null,
   "id": "eb0a0a34",
   "metadata": {},
   "outputs": [],
   "source": [
    "def remove_duplicates_dict(arr):\n",
    "    if not arr:\n",
    "        return []\n",
    "    \n",
    "    # Using dict.fromkeys() to preserve order\n",
    "    return list(dict.fromkeys(arr))\n",
    "\n",
    "arr = [4, 2, 1, 4, 3, 2, 5, 1]\n",
    "print(\"Original array:\", arr)\n",
    "result = remove_duplicates_dict(arr)\n",
    "print(\"Array after removing duplicates:\", result)"
   ]
  },
  {
   "cell_type": "code",
   "execution_count": null,
   "id": "6a416d28",
   "metadata": {},
   "outputs": [],
   "source": [
    "def remove_duplicates_inplace_unsorted(arr):\n",
    "    if len(arr)<=1:\n",
    "        return len(arr)\n",
    "    write_index=0\n",
    "    for read_index in range(len(arr)):\n",
    "        is_duplicate=False\n",
    "        for check_index in range(write_index):\n",
    "            if arr[read_index]==arr[check_index]:\n",
    "                is_duplicate=True\n",
    "                break\n",
    "        if not is_duplicate:\n",
    "            arr[write_index]=arr[read_index]\n",
    "            write_index+=1\n",
    "    return write_index\n",
    "arr = [4, 2, 1, 4, 3, 2, 5, 1]\n",
    "print(\"Original array:\", arr)\n",
    "new_length = remove_duplicates_inplace_unsorted(arr)\n",
    "print(\"Array after removing duplicates:\", arr[:new_length])\n",
    "print(\"New length:\", new_length)\n",
    "            "
   ]
  },
  {
   "cell_type": "code",
   "execution_count": 4,
   "id": "08a71ada",
   "metadata": {},
   "outputs": [
    {
     "name": "stdout",
     "output_type": "stream",
     "text": [
      "Original array: [1, 2, 3, 4, 5]\n",
      "After left rotation by 1: [2, 3, 4, 5, 1]\n"
     ]
    }
   ],
   "source": [
    "def left_rotate_by_one_temp(arr):\n",
    "    if len(arr)<=1:\n",
    "        return arr\n",
    "    temp=arr[0]\n",
    "    for i in range(len(arr)-1):\n",
    "        arr[i]=arr[i+1]\n",
    "    arr[len(arr)-1]=temp\n",
    "    return arr  \n",
    "arr = [1, 2, 3, 4, 5]\n",
    "print(\"Original array:\", arr)\n",
    "left_rotate_by_one_temp(arr)\n",
    "print(\"After left rotation by 1:\", arr)  "
   ]
  },
  {
   "cell_type": "code",
   "execution_count": 6,
   "id": "e94cca60",
   "metadata": {},
   "outputs": [
    {
     "name": "stdout",
     "output_type": "stream",
     "text": [
      "Original array: [1, 2, 3, 4, 5]\n",
      "After left rotation by 1: [2, 3, 4, 5, 1]\n"
     ]
    }
   ],
   "source": [
    "# using slicing\n",
    "def left_rotate_by_one_slicing(arr):\n",
    "    if len(arr)<=1:\n",
    "        return arr\n",
    "    return arr[1:]+[arr[0]]\n",
    "arr = [1, 2, 3, 4, 5]\n",
    "print(\"Original array:\", arr)\n",
    "rotated = left_rotate_by_one_slicing(arr)\n",
    "print(\"After left rotation by 1:\", rotated)"
   ]
  },
  {
   "cell_type": "code",
   "execution_count": 8,
   "id": "b0dfffb9",
   "metadata": {},
   "outputs": [
    {
     "name": "stdout",
     "output_type": "stream",
     "text": [
      "Original array: [1, 2, 3, 4, 5]\n",
      "After left rotation by 1: [2, 3, 4, 5, 1]\n"
     ]
    }
   ],
   "source": [
    "from collections import deque\n",
    "\n",
    "def left_rotate_by_one_deque(arr):\n",
    "    if len(arr)<=1:\n",
    "        return arr\n",
    "    dq=deque(arr)\n",
    "    dq.rotate(-1) # -1 for left rotation\n",
    "    return list(dq)\n",
    "arr = [1, 2, 3, 4, 5]\n",
    "print(\"Original array:\", arr)\n",
    "rotated = left_rotate_by_one_deque(arr)\n",
    "print(\"After left rotation by 1:\", rotated)"
   ]
  },
  {
   "cell_type": "code",
   "execution_count": null,
   "id": "ce77689c",
   "metadata": {},
   "outputs": [
    {
     "name": "stdout",
     "output_type": "stream",
     "text": [
      "Original array: [1, 2, 3, 4, 5, 6, 7]\n",
      "After left rotation by 3: [1, 2, 3, 4, 5, 6, 7]\n"
     ]
    }
   ],
   "source": [
    "def left_rotate_by_d_temp_array(arr,d):\n",
    "    if not arr or len(arr)<=1:\n",
    "        return arr\n",
    "    n=len(arr)\n",
    "    d=d%n# Handle cases where d > n\n",
    "    if d==0:\n",
    "        return arr\n",
    "    temp=arr[:d]\n",
    "    for i in range(n-d):\n",
    "        arr[i]=arr[i+d]#update \n",
    "    for i in range(d):\n",
    "        arr[n-d+i]=temp[i]\n",
    "    return arr        \n",
    "arr = [1, 2, 3, 4, 5, 6, 7]\n",
    "d = 3\n",
    "print(\"Original array:\", arr)\n",
    "left_rotate_by_d_temp_array(arr[:], d)\n",
    "print(f\"After left rotation by {d}:\", arr)    \n",
    "\n"
   ]
  },
  {
   "cell_type": "code",
   "execution_count": null,
   "id": "293a638b",
   "metadata": {},
   "outputs": [],
   "source": [
    "def left_rotate_by(arr,d):\n",
    "    if not arr or  len(arr)<=1:\n",
    "        return arr\n",
    "    n=len(arr)\n",
    "    d=d%n\n",
    "    if d==0:\n",
    "        return arr\n",
    "    temp=arr[:d]\n",
    "    for i in range(n-d):\n",
    "        arr[i]=arr[i+d]\n",
    "    for i in range(d):\n",
    "        arr[n-d+i]=temp[i]\n",
    "    return arr\n",
    "    \n",
    "            "
   ]
  },
  {
   "cell_type": "code",
   "execution_count": 10,
   "id": "e6eada44",
   "metadata": {},
   "outputs": [
    {
     "name": "stdout",
     "output_type": "stream",
     "text": [
      "Original array: [1, 2, 3, 4, 5, 6, 7]\n",
      "After left rotation by 3: [4, 5, 6, 7, 1, 2, 3]\n"
     ]
    }
   ],
   "source": [
    "def left_rotate_by_d_slicing(arr,d):\n",
    "    if not arr or len(arr)<=1:\n",
    "        return arr\n",
    "    n=len(arr)\n",
    "    d=d%n\n",
    "    return arr[d:]+arr[:d]\n",
    "arr = [1, 2, 3, 4, 5, 6, 7]\n",
    "d = 3\n",
    "print(\"Original array:\", arr)\n",
    "rotated = left_rotate_by_d_slicing(arr, d)\n",
    "print(f\"After left rotation by {d}:\", rotated)"
   ]
  },
  {
   "cell_type": "code",
   "execution_count": null,
   "id": "226536b0",
   "metadata": {},
   "outputs": [],
   "source": [
    "def revrese_array(arr,start,end):\n",
    "    while start<end:\n",
    "        arr[start],arr[end]=arr[end],arr[start]\n",
    "        start+=1\n",
    "        end-=1\n",
    "def left_rotate_by_d_reversal(arr,d):\n",
    "    if not arr or len(arr)<=1:\n",
    "        return arr\n",
    "    n=len(arr)\n",
    "    d=d%n\n",
    "    if d==0:\n",
    "        return arr\n",
    "    revrese_array(arr,0,d-1)\n",
    "    reverse_array(arr,d,n-1)\n",
    "    reverse_array(arr,0,n-1)\n",
    "    return arr\n",
    "\n",
    "arr = [1, 2, 3, 4, 5, 6, 7]\n",
    "d = 3\n",
    "print(\"Original array:\", arr)\n",
    "left_rotate_by_d_reversal(arr[:], d)\n",
    "print(f\"After left rotation by {d}:\", arr) \n",
    "# optimum soluion \n",
    "# o(2n) and space is o(1)\n",
    "        "
   ]
  },
  {
   "cell_type": "code",
   "execution_count": 12,
   "id": "865c5db4",
   "metadata": {},
   "outputs": [
    {
     "name": "stdout",
     "output_type": "stream",
     "text": [
      "Original array: [0, 1, 0, 3, 12]\n",
      "After moving zeros to end: [1, 3, 12, 0, 0]\n"
     ]
    }
   ],
   "source": [
    "def move_zeros_to_end_two_pointers(arr):\n",
    "    if not arr:\n",
    "        return arr\n",
    "    non_zero_index=0\n",
    "    for i in range(len(arr)):\n",
    "        if arr[i]!=0:\n",
    "            arr[non_zero_index]=arr[i]\n",
    "            non_zero_index+=1\n",
    "    while non_zero_index<len(arr):\n",
    "        arr[non_zero_index]=0\n",
    "        non_zero_index+=1\n",
    "    return arr    \n",
    "arr = [0, 1, 0, 3, 12]\n",
    "print(\"Original array:\", arr)\n",
    "move_zeros_to_end_two_pointers(arr)\n",
    "print(\"After moving zeros to end:\", arr)        "
   ]
  },
  {
   "cell_type": "code",
   "execution_count": 1,
   "id": "4a5c4211",
   "metadata": {},
   "outputs": [
    {
     "name": "stdout",
     "output_type": "stream",
     "text": [
      "Original array: [0, 1, 0, 3, 12]\n",
      "After moving zeros to end: [1, 3, 12, 0, 0]\n"
     ]
    }
   ],
   "source": [
    "# brute force \n",
    "def move_zeros_to_end_extra_space(arr):\n",
    "    if not arr:\n",
    "        return arr\n",
    "    non_zeros=[]\n",
    "    zero_count=0\n",
    "    for num in arr:\n",
    "        if num!=0:\n",
    "            non_zeros.append(num)\n",
    "        else:\n",
    "            zero_count+=1\n",
    "    result=non_zeros+[0]*zero_count\n",
    "    return result\n",
    "arr = [0, 1, 0, 3, 12]\n",
    "print(\"Original array:\", arr)\n",
    "result = move_zeros_to_end_extra_space(arr)\n",
    "print(\"After moving zeros to end:\", result)            "
   ]
  },
  {
   "cell_type": "code",
   "execution_count": 2,
   "id": "7ccca647",
   "metadata": {},
   "outputs": [
    {
     "name": "stdout",
     "output_type": "stream",
     "text": [
      "Original: [0, 1, 0, 3, 12]\n",
      "After moving zeros: [1, 3, 12, 0, 0]\n"
     ]
    }
   ],
   "source": [
    "def move_zeros_to_end_swap(arr):\n",
    "    if not arr:\n",
    "        return arr\n",
    "    left=0\n",
    "    for right in range(len(arr)):\n",
    "        if arr[right]!=0:\n",
    "           \n",
    "                # Swap only if left and right are different\n",
    "                arr[left],arr[right]=arr[right],arr[left]\n",
    "                left+=1\n",
    "    return arr \n",
    "arr = [0, 1, 0, 3, 12]\n",
    "print(\"Original:\", arr)\n",
    "move_zeros_to_end_swap(arr)\n",
    "print(\"After moving zeros:\", arr)           "
   ]
  },
  {
   "cell_type": "code",
   "execution_count": null,
   "id": "a6ec5480",
   "metadata": {},
   "outputs": [],
   "source": [
    "def move_zeros_to_end_swap(arr):\n",
    "    n=len(arr)\n",
    "    j=-1\n",
    "     # Find the first zero\n",
    "    for i in range(n):\n",
    "        if arr[i]==0:\n",
    "            j=i\n",
    "            break\n",
    "    # No zero found, array already good    \n",
    "    if j==-1:\n",
    "        return arr  \n",
    "     # Start from j+1, look for non-zero and swap with position j\n",
    "    for i in range(j+1,n):\n",
    "        if arr[i]!=0:\n",
    "            arr[i],arr[j]=arr[j],arr[i]\n",
    "            j+=1\n",
    "    return arr\n",
    "arr = [0, 1, 0, 3, 12]\n",
    "print(\"Original:\", arr)\n",
    "move_zeros_to_end_swap(arr)\n",
    "print(\"After moving zeros:\", arr)\n",
    "          "
   ]
  },
  {
   "cell_type": "code",
   "execution_count": 4,
   "id": "c9125f3e",
   "metadata": {},
   "outputs": [
    {
     "name": "stdout",
     "output_type": "stream",
     "text": [
      "Element 22 found at index 4\n"
     ]
    }
   ],
   "source": [
    "# linear search \n",
    "def linear_search(arr,target):\n",
    "    for i in range(len(arr)):\n",
    "        if arr[i]==target:\n",
    "            return i\n",
    "    return -1  \n",
    "arr = [64, 34, 25, 12, 22, 11, 90]\n",
    "target = 22\n",
    "result = linear_search(arr, target)\n",
    "if result!=-1:\n",
    "    print(f\"Element {target} found at index {result}\")\n",
    "else:\n",
    "    print(f\"Element {target} not found in array\")\n",
    "      "
   ]
  },
  {
   "cell_type": "code",
   "execution_count": 5,
   "id": "3b0b5048",
   "metadata": {},
   "outputs": [
    {
     "name": "stdout",
     "output_type": "stream",
     "text": [
      "Element 22 found at index 4\n"
     ]
    }
   ],
   "source": [
    "def linear_search_recursive(arr,target,index=0):\n",
    "    if index >=len(arr):\n",
    "        return -1\n",
    "    if arr[index]==target:\n",
    "        return index\n",
    "    return linear_search_recursive(arr,target,index+1)\n",
    "arr = [64, 34, 25, 12, 22, 11, 90]\n",
    "target = 22\n",
    "result = linear_search_recursive(arr, target)\n",
    "\n",
    "if result != -1:\n",
    "    print(f\"Element {target} found at index {result}\")\n",
    "else:\n",
    "    print(f\"Element {target} not found in array\")\n"
   ]
  },
  {
   "cell_type": "code",
   "execution_count": 1,
   "id": "de266d4e",
   "metadata": {},
   "outputs": [
    {
     "name": "stdout",
     "output_type": "stream",
     "text": [
      "Union using set: [1, 2, 3, 4, 5, 6, 7]\n"
     ]
    }
   ],
   "source": [
    "def find_union_set(arr1,arr2):\n",
    "    union_set=set(arr1+arr2)\n",
    "    return sorted(union_set)\n",
    "arr1 = [1, 2, 3, 4, 5]\n",
    "arr2 = [1, 2, 3, 6, 7]\n",
    "result = find_union_set(arr1, arr2)\n",
    "print(f\"Union using set: {result}\")\n"
   ]
  },
  {
   "cell_type": "code",
   "execution_count": null,
   "id": "7d4486bf",
   "metadata": {},
   "outputs": [],
   "source": [
    "# using dictonary/hashmaps\n",
    "def find_union_dict(arr1,arr2):\n",
    "    from collections import OrderedDict\n",
    "    \n",
    "    union_dict=OrderedDict()#This empty dictionary will track unique elements we encounter.\n",
    "    for element in arr1:\n",
    "        union_dict[element]=True\n",
    "# For each element in arr1, add it to union_dict as a key.\n",
    "# The value True doesn’t matter — we’re only interested in the keys, which represent unique elements.\n",
    "# Because OrderedDict does not allow duplicate keys, adding the same number again does nothing.\n",
    "    for element in arr2:\n",
    "        union_dict[element]=True\n",
    "    return list(union_dict.keys()) \n",
    "arr1 = [1, 2, 3, 4, 5]\n",
    "arr2 = [1, 2, 3, 6, 7]\n",
    "result = find_union_dict(arr1, arr2)\n",
    "print(f\"Union using dictionary: {result}\")       "
   ]
  },
  {
   "cell_type": "code",
   "execution_count": null,
   "id": "6bd8fe67",
   "metadata": {},
   "outputs": [],
   "source": [
    "# two pointers\n",
    "def find_union_two_pointers(arr1,arr2):\n",
    "    i=j=0\n",
    "    union=[]\n",
    "    \n",
    "    while i <len(arr1) and j<len(arr2):\n",
    "        if arr1[i]<=arr2[j]:\n",
    "            if not union or union[-1]!=arr1[i]:#union last element is not equal to arr1 so append the element to union from arr1\n",
    "                union.append(arr1[i])\n",
    "            i+=1 \n",
    "        else:\n",
    "            # Add arr2[j] if it's not already in union\n",
    "            if not union or union[-1] != arr2[j]:\n",
    "                union.append(arr2[j])\n",
    "            j += 1\n",
    "    while i< len(arr1): #for remaining elements what if one arr iteration is over so its for that \n",
    "        if not union or union[-1]!=arr1[i]:\n",
    "            union.append(arr1[i]) \n",
    "            i+=1\n",
    "    while j<len(arr2):\n",
    "            \n",
    "            if not union or union[-1] != arr2[j]:\n",
    "                union.append(arr2[j])\n",
    "            j += 1 \n",
    "    return union\n",
    "arr1 = [1, 2, 3, 4, 5]\n",
    "arr2 = [1, 2, 3, 6, 7]\n",
    "result = find_union_two_pointers(arr1, arr2)\n",
    "print(f\"Array 1: {arr1}\")\n",
    "print(f\"Array 2: {arr2}\")\n",
    "print(f\"Union: {result}\")\n",
    "\"\"\"\n",
    "    Find union using two pointers approach\n",
    "    Time: O(n + m), Space: O(n + m) for result\n",
    "    \"\"\"\n",
    "                         \n",
    "            "
   ]
  },
  {
   "cell_type": "code",
   "execution_count": null,
   "id": "b22ac6aa",
   "metadata": {},
   "outputs": [],
   "source": [
    "# intersection of the 2 arrays\n",
    "def intersection_two_pointers(arr1,arr2):\n",
    "    i=j=0\n",
    "    intersection=[]\n",
    "    while i<len(arr1) and j<len(arr2):\n",
    "        if arr[i]<arr[j]:\n",
    "            i+=1\n",
    "        elif arr[i]>arr[j]:\n",
    "            j+=1\n",
    "        else: # arr1[i] == arr2[j]\n",
    "            # Add to intersection if not already present\n",
    "            if not intersection or intersection[-1]!=arr1[i]:\n",
    "                intersection.append(arr[i])\n",
    "            i+=1\n",
    "            j+=1\n",
    "    return intersection  \n",
    "arr1 = [1, 2, 2, 3, 4, 5]\n",
    "arr2 = [2, 2, 3, 6, 7]\n",
    "result = intersection_two_pointers(arr1, arr2)\n",
    "print(f\"Array 1: {arr1}\")\n",
    "print(f\"Array 2: {arr2}\")\n",
    "print(f\"Intersection: {result}\")                  "
   ]
  },
  {
   "cell_type": "code",
   "execution_count": 2,
   "id": "1a06b373",
   "metadata": {},
   "outputs": [
    {
     "name": "stdout",
     "output_type": "stream",
     "text": [
      "Intersection using set: [2, 3]\n",
      "Intersection using & operator: [2, 3]\n"
     ]
    }
   ],
   "source": [
    "def intersection_set(arr1,arr2):\n",
    "    set1=set(arr1)\n",
    "    set2=set(arr2)\n",
    "    return sorted(list(set1.intersection(set2)))\n",
    "def intersection_set_operator(arr1,arr2):\n",
    "    return sorted(list(set(arr1)& set(arr2)))\n",
    "arr1 = [1, 2, 2, 3, 4, 5]\n",
    "arr2 = [2, 2, 3, 6, 7]\n",
    "result1 = intersection_set(arr1, arr2)\n",
    "result2 = intersection_set_operator(arr1, arr2)\n",
    "\n",
    "print(f\"Intersection using set: {result1}\")\n",
    "print(f\"Intersection using & operator: {result2}\")"
   ]
  },
  {
   "cell_type": "code",
   "execution_count": null,
   "id": "f6a5c001",
   "metadata": {},
   "outputs": [],
   "source": [
    "def intersection_brute_force(arr1,arr2):\n",
    "    intersection=[]\n",
    "    used_indices=set()\n",
    "    for i ,element1 in enumerate(arr1):\n",
    "        for j ,element2 in enumerate(arr2):\n",
    "            if element1==element2 and j not in used_indices:\n",
    "                intersection.append(element1)\n",
    "                used_indices.add(j)\n",
    "                break\n",
    "    return intersection\n",
    "arr1 = [1, 2, 2, 3, 4, 5]\n",
    "arr2 = [2, 2, 3, 6, 7]\n",
    "result = intersection_brute_force(arr1, arr2)\n",
    "print(f\"Intersection using brute force: {result}\")\n",
    "        "
   ]
  },
  {
   "cell_type": "code",
   "execution_count": null,
   "id": "fa156bce",
   "metadata": {},
   "outputs": [
    {
     "name": "stdout",
     "output_type": "stream",
     "text": [
      "Array: [3, 0, 1]\n",
      "Missing number: 2\n"
     ]
    }
   ],
   "source": [
    "def missing_number_sum(nums):\n",
    "    n=len(nums)\n",
    "    # Sum of numbers from 0 to n = n*(n+1)/2\n",
    "    expected_sum=n*(n+1)//2\n",
    "    actual_sum=sum(nums)\n",
    "    return expected_sum -actual_sum\n",
    "nums = [3, 0, 1]\n",
    "result = missing_number_sum(nums)\n",
    "print(f\"Array: {nums}\")\n",
    "print(f\"Missing number: {result}\")\n"
   ]
  },
  {
   "cell_type": "code",
   "execution_count": null,
   "id": "a694cf20",
   "metadata": {},
   "outputs": [],
   "source": [
    "def missing_number_set(nums):\n",
    "    n=len(nums)\n",
    "    num_set=set(nums)\n",
    "    for i in range(n+1):\n",
    "        if i not in num_set:\n",
    "            return i \n",
    "nums = [9, 6, 4, 2, 3, 5, 7, 0, 1]\n",
    "result = missing_number_set(nums)\n",
    "print(f\"Array: {nums}\")\n",
    "print(f\"Missing number: {result}\")        "
   ]
  },
  {
   "cell_type": "code",
   "execution_count": 4,
   "id": "27ab2339",
   "metadata": {},
   "outputs": [
    {
     "name": "stdout",
     "output_type": "stream",
     "text": [
      "Array: [1, 1, 0, 1, 1, 1]\n",
      "Maximum consecutive ones: 3\n"
     ]
    }
   ],
   "source": [
    "def find_max_consecutive_ones(nums):\n",
    "    max_count=0\n",
    "    current_count=0\n",
    "    for i in range(len(nums)):\n",
    "        if nums[i]==1:\n",
    "            current_count+=1\n",
    "            max_count=max(max_count,current_count)\n",
    "        else:\n",
    "            current_count=0\n",
    "    return max_count    \n",
    "nums = [1, 1, 0, 1, 1, 1]\n",
    "result = find_max_consecutive_ones(nums)\n",
    "print(f\"Array: {nums}\")\n",
    "print(f\"Maximum consecutive ones: {result}\")        "
   ]
  },
  {
   "cell_type": "code",
   "execution_count": null,
   "id": "ce073eb9",
   "metadata": {},
   "outputs": [
    {
     "name": "stdout",
     "output_type": "stream",
     "text": [
      "single number 4\n"
     ]
    }
   ],
   "source": [
    "#  Given a non-empty array of integers arr, every element appears twice except for one. Find that single one.\n",
    "def single_number_brute_force(arr):\n",
    "    n=len(arr)\n",
    "    for i in range(n):\n",
    "        num=arr[i] # selected element\n",
    "        cnt=0\n",
    "        for j in range(n):\n",
    "            if arr[j]==num:\n",
    "             cnt+=1\n",
    "        if cnt==1:\n",
    "            return num  \n",
    "    return -1\n",
    "arr=[2,2,1,1,4]  \n",
    "result=single_number_brute_force(arr)\n",
    "print(\"single number\",result)     \n",
    "#o(n^2)           "
   ]
  },
  {
   "cell_type": "code",
   "execution_count": null,
   "id": "6a927752",
   "metadata": {},
   "outputs": [],
   "source": [
    "def single_number_hashmap(arr):\n",
    "    n=len(arr)\n",
    "    maxi=max(arr)\n",
    "    hash=[0]* (max+1)\n",
    "     # Declare hash array of size maxi+1\n",
    "    # And hash the given array:\n",
    "    for num in arr:\n",
    "        hash[num]+=1\n",
    "    for num in arr:\n",
    "        if hash[num]==1:\n",
    "            return num \n",
    "    return -1       \n",
    "    "
   ]
  },
  {
   "cell_type": "code",
   "execution_count": null,
   "id": "bf8a8cb9",
   "metadata": {},
   "outputs": [],
   "source": [
    "def single_number_hashmap(arr):\n",
    "    \"\"\"\n",
    "    Find single number using hash map\n",
    "    Time: O(n), Space: O(n)\n",
    "    \"\"\"\n",
    "    n = len(arr)\n",
    "    hash_map = {}\n",
    "    for num in arr:\n",
    "        hash_map[num] = hash_map.get(num, 0) + 1\n",
    "#     hash_map.get(num, 0) looks up the current count of num.\n",
    "\n",
    "#     If num isn’t in hash_map, it returns 0.\n",
    "\n",
    "# Then we add 1 and store it back.    \n",
    "    for num, count in hash_map.items():\n",
    "        if count == 1:\n",
    "            return num\n",
    "# .items() gives pairs (key, value), i.e. (number, count).\n",
    "# Return the first number that appears only once.        \n",
    "    return -1        \n",
    "   \n"
   ]
  },
  {
   "cell_type": "code",
   "execution_count": null,
   "id": "a27963ba",
   "metadata": {},
   "outputs": [],
   "source": [
    "def single_number_xor(arr):\n",
    "    \"\"\"\n",
    "    Find single number using XOR operation\n",
    "    Time: O(n), Space: O(1)\n",
    "    \n",
    "    XOR Properties:\n",
    "    - a ^ a = 0 (any number XOR with itself is 0)\n",
    "    - a ^ 0 = a (any number XOR with 0 is the number itself)\n",
    "    - XOR is commutative and associative\n",
    "    \"\"\"\n",
    "# Assume the given array is: [4,1,2,1,2]\n",
    "# XOR of all elements = 4^1^2^1^2\n",
    "#       = 4 ^ (1^1) ^ (2^2)\n",
    "#       = 4 ^ 0 ^ 0 = 4^0 = 4\n",
    "# Hence, 4 is the single element in the array.    \n",
    "    result=0\n",
    "    for num in arr:\n",
    "        result^=num\n",
    "    return result   \n",
    "nums = [2, 2, 1]\n",
    "result = single_number_xor(nums)\n",
    "print(f\"Array: {nums}\")\n",
    "print(f\"Single number: {result}\")\n",
    "\n",
    "nums2 = [4, 1, 2, 1, 2]\n",
    "result2 = single_number_xor(nums2)\n",
    "print(f\"Array: {nums2}\")\n",
    "print(f\"Single number: {result2}\") \n",
    "    "
   ]
  },
  {
   "cell_type": "code",
   "execution_count": null,
   "id": "0a3aa863",
   "metadata": {},
   "outputs": [
    {
     "name": "stdout",
     "output_type": "stream",
     "text": [
      "Array: [2, 3, 5, 1, 9]\n",
      "Target sum K: 10\n",
      "Longest subarray length: 3\n"
     ]
    }
   ],
   "source": [
    "# Longest Subarray with given Sum K(Positives) opyimal solution is kadan's algo \n",
    "def longest_subarray_brute_force(arr,k):\n",
    "    n=len(arr)\n",
    "    max_length=0\n",
    "    for i in range(n):\n",
    "        current_sum=0\n",
    "        for j in range(i,n):#j will start from i till end we need to generate the all the subarrays  \n",
    "            current_sum+=arr[j]\n",
    "            if current_sum==k:\n",
    "                max_length=max(max_length,j-i+1)\n",
    "            elif current_sum>k:\n",
    "                break\n",
    "    return max_length \n",
    "arr = [2, 3, 5, 1, 9]\n",
    "k = 10\n",
    "result = longest_subarray_brute_force(arr, k)\n",
    "print(f\"Array: {arr}\")\n",
    "print(f\"Target sum K: {k}\")\n",
    "print(f\"Longest subarray length: {result}\")           \n"
   ]
  },
  {
   "cell_type": "code",
   "execution_count": 4,
   "id": "8d92eda0",
   "metadata": {},
   "outputs": [
    {
     "name": "stdout",
     "output_type": "stream",
     "text": [
      "Array: [2, 3, 5, 1, 9]\n",
      "Target sum K: 10\n",
      "Longest subarray length: 3\n"
     ]
    }
   ],
   "source": [
    "def longest_subarray_prefix_sum(arr, k):\n",
    "    n=len(arr)\n",
    "    preSumMap={}\n",
    "    sum=0\n",
    "    maxlen=0\n",
    "    for i in range(n):\n",
    "        sum+=arr[i]\n",
    "        if sum==k:\n",
    "            maxlen=max(maxlen,i+1)\n",
    "        rem=sum-k\n",
    "        if rem in preSumMap:\n",
    "            length=i-preSumMap[rem]\n",
    "            maxlen=max(maxlen,length)\n",
    "        if sum not in preSumMap:\n",
    "            preSumMap[sum]=i\n",
    "    return maxlen  \n",
    "rr = [2, 3, 5, 1, 9]\n",
    "k = 10\n",
    "result = longest_subarray_prefix_sum(arr, k)\n",
    "print(f\"Array: {arr}\")\n",
    "print(f\"Target sum K: {k}\")\n",
    "print(f\"Longest subarray length: {result}\")             \n",
    "            "
   ]
  },
  {
   "cell_type": "code",
   "execution_count": 1,
   "id": "a9241b58",
   "metadata": {},
   "outputs": [
    {
     "name": "stdout",
     "output_type": "stream",
     "text": [
      "Array: [2, 6, 5, 8, 11], Target: 14\n",
      "Pair exists: True\n",
      "Indices: [1, 3]\n",
      "Values: 6 + 8 = 14\n"
     ]
    }
   ],
   "source": [
    "def two_sum_brute_force_boolean(arr,target):\n",
    "    n=len(arr)\n",
    "    for i in range(n):\n",
    "        for j in range(i+1,n):\n",
    "            if arr[i]+arr[j]==target:\n",
    "                return True\n",
    "    return False\n",
    "def two_sum_brute_force_indices(arr, target):\n",
    "    n=len(arr)\n",
    "    for i in range(n):\n",
    "        for j in range(i+1,n):\n",
    "            if arr[i]+arr[j]==target:\n",
    "                return [i,j]\n",
    "    return [-1,-1]\n",
    "arr = [2, 6, 5, 8, 11]\n",
    "target = 14\n",
    "\n",
    "result1 = two_sum_brute_force_boolean(arr, target)\n",
    "print(f\"Array: {arr}, Target: {target}\")\n",
    "print(f\"Pair exists: {result1}\")\n",
    "\n",
    "result2 = two_sum_brute_force_indices(arr, target)\n",
    "print(f\"Indices: {result2}\")\n",
    "if result2 != [-1, -1]:\n",
    "    print(f\"Values: {arr[result2[0]]} + {arr[result2[1]]} = {target}\")\n",
    "             "
   ]
  },
  {
   "cell_type": "code",
   "execution_count": 3,
   "id": "42096dda",
   "metadata": {},
   "outputs": [
    {
     "name": "stdout",
     "output_type": "stream",
     "text": [
      "Hash Map Approach:\n",
      "Pair exists: True\n",
      "Indices: [1, 3]\n",
      "Values: 6 + 8 = 14\n"
     ]
    }
   ],
   "source": [
    "def two_sum_hashmap_boolean(arr,target):\n",
    "    seen=set()\n",
    "    for num in arr:\n",
    "        complement=target-num\n",
    "        if complement in seen:\n",
    "            return True\n",
    "        seen.add(num)\n",
    "    return False    \n",
    "def two_sum_hashmap_indices(arr, target):\n",
    "    num_to_index={}\n",
    "    for i ,num in enumerate(arr):\n",
    "        complement=target-num\n",
    "        if complement in num_to_index:\n",
    "            return [num_to_index[complement],i]\n",
    "        num_to_index[num]=i\n",
    "    return [-1,-1] \n",
    "arr = [2, 6, 5, 8, 11]\n",
    "target = 14\n",
    "\n",
    "print(\"Hash Map Approach:\")\n",
    "result1 = two_sum_hashmap_boolean(arr, target)\n",
    "print(f\"Pair exists: {result1}\")\n",
    "\n",
    "result2 = two_sum_hashmap_indices(arr, target)\n",
    "print(f\"Indices: {result2}\") \n",
    "if result2 != [-1, -1]:\n",
    "    print(f\"Values: {arr[result2[0]]} + {arr[result2[1]]} = {target}\")  "
   ]
  },
  {
   "cell_type": "code",
   "execution_count": null,
   "id": "d11675f1",
   "metadata": {},
   "outputs": [],
   "source": [
    "def two_sum_two_pointers_boolean(arr, target):\n",
    "    indexed_arr=[(arr[i],i) for i in range(len(arr))] #This stores each element paired with its original index.\n",
    "    indexed_arr.sort()\n",
    "#     arr = [7, 2, 11, 15]\n",
    "# => indexed_arr = [(7,0), (2,1), (11,2), (15,3)]\n",
    "# => after sort = [(2,1), (7,0), (11,2), (15,3)]\n",
    "    left,right=0,len(indexed_arr)-1\n",
    "    while left<right:\n",
    "        current_sum=indexed_arr[left][0]+indexed_arr[right][0]\n",
    "        if current_sum==target:\n",
    "            return True\n",
    "        elif current_sum<target:\n",
    "            left+=1\n",
    "        else:\n",
    "            right-=1\n",
    "            \n",
    "    return False    \n",
    "def two_sum_two_pointers_indices(arr, target):\n",
    "    indexed_arr=[(arr[i],i) for i in range(len(arr))]\n",
    "    indexed_arr.sort()\n",
    "    left,right=0,len(indexed_arr)-1\n",
    "    while left<right:\n",
    "        current_sum=indexed_arr[left][0]+indexed_arr[right][0]\n",
    "        if current_sum==target:\n",
    "            index1,index2=indexed_arr[left][1],indexed_arr[right][1]\n",
    "            return [min(index1,index2),max(index1,index2)]\n",
    "    #     This ensures that  Your returned indices are sorted from smallest to largest\n",
    "        elif current_sum<target:\n",
    "            left+=1\n",
    "            \n",
    "        else:\n",
    "            right-=1   \n",
    "    return [-1,-1]             \n",
    "arr = [2, 6, 5, 8, 11]\n",
    "target = 14\n",
    "\n",
    "print(\"Two Pointers Approach:\")\n",
    "result1 = two_sum_two_pointers_boolean(arr, target)\n",
    "print(f\"Pair exists: {result1}\")\n",
    "\n",
    "result2 = two_sum_two_pointers_indices(arr, target)\n",
    "print(f\"Indices: {result2}\")"
   ]
  },
  {
   "cell_type": "code",
   "execution_count": null,
   "id": "9a506f24",
   "metadata": {},
   "outputs": [
    {
     "name": "stdout",
     "output_type": "stream",
     "text": [
      "After sorting:\n",
      "0 0 1 1 2 2 \n"
     ]
    }
   ],
   "source": [
    "def bubble_sort(arr): #brute force \n",
    "    \"\"\"\n",
    "    Bubble Sort: Repeatedly swap adjacent elements if they're in wrong order\n",
    "    Time: O(n²), Space: O(1)\n",
    "    \"\"\"\n",
    "    n = len(arr)\n",
    "    for i in range(n - 1):\n",
    "        swapped = False  # Optimization: stop if no swaps made\n",
    "        for j in range(n - i - 1):\n",
    "            if arr[j] > arr[j + 1]:\n",
    "                arr[j], arr[j + 1] = arr[j + 1], arr[j]\n",
    "                swapped = True\n",
    "        if not swapped:  # Array is sorted\n",
    "            break\n",
    "    return arr\n",
    "n= 6\n",
    "arr = [0, 2, 1, 2, 0, 1]\n",
    "bubble_sort(arr)\n",
    "print(\"After sorting:\")\n",
    "for num in arr:\n",
    "    print(num, end=\" \")\n",
    "print()\n"
   ]
  },
  {
   "cell_type": "code",
   "execution_count": 3,
   "id": "26d880c3",
   "metadata": {},
   "outputs": [
    {
     "name": "stdout",
     "output_type": "stream",
     "text": [
      "After sorting:\n",
      "0 0 1 1 2 2 \n"
     ]
    }
   ],
   "source": [
    "def sortArray(arr):\n",
    "    cnt=0\n",
    "    cnt1=0\n",
    "    cnt2=0\n",
    "    for num in arr:\n",
    "        if num==0:\n",
    "            cnt+=1\n",
    "        elif num==1:\n",
    "            cnt1+=1\n",
    "        else :\n",
    "            cnt2+=1\n",
    "    for i in range(cnt):\n",
    "        arr[i]=0#ills the first cnt positions (i.e., first 3 indices) with 0.\n",
    "    for i in range(cnt,cnt+cnt1):\n",
    "        arr[i]=1\n",
    "#Fills from index cnt to cnt+cnt1-1 with 1.\n",
    "# In our example: from 3 to 3+2-1=4.\n",
    "# So positions 3 and 4 will be 1.\n",
    "    for i in range(cnt+cnt1,len(arr)):\n",
    "        arr[i]=2  \n",
    "n = 6\n",
    "arr = [0, 2, 1, 2, 0, 1]\n",
    "sortArray(arr)\n",
    "print(\"After sorting:\")\n",
    "for num in arr:\n",
    "    print(num, end=\" \")\n",
    "print()         \n",
    "                            "
   ]
  },
  {
   "cell_type": "code",
   "execution_count": null,
   "id": "274e899c",
   "metadata": {},
   "outputs": [],
   "source": [
    "# This problem is a variation of the popular Dutch National flag algorithm. \n",
    "def sort_012_dutch_flag(arr):\n",
    "    \"\"\"\n",
    "    Dutch National Flag Algorithm - Single pass O(N) solution\n",
    "    Time: O(N), Space: O(1)\n",
    "    \n",
    "    Three pointers approach:\n",
    "    - low: boundary for 0s (everything before low is 0)\n",
    "    - mid: current element being processed\n",
    "    - high: boundary for 2s (everything after high is 2)\n",
    "    \"\"\"\n",
    "    if not arr:\n",
    "        return arr\n",
    "    low=0\n",
    "    mid=0\n",
    "    high=len(arr)-1\n",
    "    while mid<=high:\n",
    "        if arr[mid]==0:\n",
    "            arr[low],arr[mid]=arr[mid],arr[low]\n",
    "            low+=1\n",
    "            mid+=1\n",
    "        elif arr[mid] == 1:\n",
    "            # 1 is in correct position, just move mid forward\n",
    "            mid += 1\n",
    "        else:\n",
    "            # arr[mid] == 2\n",
    "            # Swap with high and move high backward\n",
    "            # Don't move mid forward as we need to check swapped element\n",
    "            arr[mid], arr[high] = arr[high], arr[mid]\n",
    "            high -= 1\n",
    "    return arr        \n",
    "arr = [0, 1, 2, 0, 1, 2, 1, 0]\n",
    "print(\"Original array:\", arr)\n",
    "sort_012_dutch_flag(arr)\n",
    "print(\"After Dutch flag sort:\", arr)                    \n",
    "            "
   ]
  },
  {
   "cell_type": "code",
   "execution_count": 4,
   "id": "5c541a76",
   "metadata": {},
   "outputs": [
    {
     "name": "stdout",
     "output_type": "stream",
     "text": [
      "The majority element is: 2\n"
     ]
    }
   ],
   "source": [
    "def majority_element_brute_force(arr):\n",
    "    n=len(arr)\n",
    "    for i in range(n):\n",
    "        cnt=0\n",
    "        for j in range(n):\n",
    "            if arr[j]==arr[i]:\n",
    "                cnt+=1\n",
    "        if cnt>(n//2):\n",
    "            return arr[i]  \n",
    "    return -1\n",
    "arr = [2, 2, 1, 1, 1, 2, 2]\n",
    "ans = majority_element_brute_force(arr)\n",
    "print(\"The majority element is:\", ans)          \n",
    "    "
   ]
  },
  {
   "cell_type": "code",
   "execution_count": 5,
   "id": "324f7bf1",
   "metadata": {},
   "outputs": [
    {
     "name": "stdout",
     "output_type": "stream",
     "text": [
      "The majority element is: 2\n"
     ]
    }
   ],
   "source": [
    "from collections import Counter\n",
    "def majority_element_hashmap(arr):\n",
    "    n=len(arr)\n",
    "    counter=Counter(arr)\n",
    "    for num,count in counter.items():\n",
    "      if count>(n//2):\n",
    "          return num\n",
    "    return -1  \n",
    "arr = [2, 2, 1, 1, 1, 2, 2]\n",
    "ans = majority_element_hashmap(arr)\n",
    "print(\"The majority element is:\", ans)\n",
    "        "
   ]
  },
  {
   "cell_type": "code",
   "execution_count": null,
   "id": "58723023",
   "metadata": {},
   "outputs": [],
   "source": [
    "def majority_element_boyer_moore(arr):\n",
    "    \"\"\"\n",
    "    Boyer-Moore Voting Algorithm - Optimal Solution\n",
    "    Time: O(n), Space: O(1)\n",
    "    \n",
    "    Algorithm:\n",
    "    1. Find a candidate using voting\n",
    "    2. Verify the candidate (optional if majority is guaranteed)\n",
    "    \"\"\"\n",
    "    n=len(arr)\n",
    "    cnt=0\n",
    "    el=None\n",
    "    for i in range(n):\n",
    "        if cnt==0:\n",
    "            cnt=1\n",
    "            el=arr[i]\n",
    "        elif el==arr[i]:\n",
    "            cnt+=1\n",
    "        else:\n",
    "            cnt-=1\n",
    "# Checking if the stored element is the majority element            \n",
    "    cnt1=0  # by traversing once more\n",
    "    for i in range(n):\n",
    "        if arr[i]==el:\n",
    "            cnt1+=1\n",
    "    if cnt1  >(n/2):\n",
    "        return el\n",
    "    return -1   \n",
    "\n",
    "arr = [2, 2, 1, 1, 1, 2, 2]\n",
    "ans = majority_element_boyer_moore(arr)\n",
    "print(\"The majority element is:\", ans)                 "
   ]
  },
  {
   "cell_type": "code",
   "execution_count": 6,
   "id": "cc1f047f",
   "metadata": {},
   "outputs": [
    {
     "name": "stdout",
     "output_type": "stream",
     "text": [
      "Array: [-2, 1, -3, 4, -1, 2, 1, -5, 4]\n",
      "Maximum subarray sum: 6\n"
     ]
    }
   ],
   "source": [
    "def kadane_algorithm_basic(arr):\n",
    "    \"\"\"\n",
    "    Kadane's Algorithm - Find maximum subarray sum\n",
    "    Time: O(n), Space: O(1)\n",
    "    \n",
    "    Core Idea: At each position, decide whether to:\n",
    "    1. Start a new subarray from current element\n",
    "    2. Extend the existing subarray by adding current element\n",
    "    \"\"\"\n",
    "    if not arr:\n",
    "        return 0\n",
    "    max_sum=arr[0]\n",
    "    current_sum=arr[0]\n",
    "    for i in range(1,len(arr)):\n",
    "        current_sum=max(arr[i],current_sum+arr[i])\n",
    "        max_sum=max(max_sum,current_sum)\n",
    "    return max_sum \n",
    "arr = [-2, 1, -3, 4, -1, 2, 1, -5, 4]\n",
    "result = kadane_algorithm_basic(arr)\n",
    "print(f\"Array: {arr}\")\n",
    "print(f\"Maximum subarray sum: {result}\")   \n",
    "    "
   ]
  },
  {
   "cell_type": "code",
   "execution_count": null,
   "id": "fcbe6b36",
   "metadata": {},
   "outputs": [
    {
     "name": "stdout",
     "output_type": "stream",
     "text": [
      "The maximum subarray sum is: 6\n"
     ]
    }
   ],
   "source": [
    "import sys #kadans algo\n",
    "def maxSubarraySum(arr,n):\n",
    "    maxi=-sys.maxsize-1  # maximum sum\n",
    "    sum=0\n",
    "    for i in range(n):\n",
    "        sum+=arr[i]\n",
    "        if sum > maxi:\n",
    "            maxi=sum\n",
    "        if sum <0:\n",
    "            sum=0\n",
    "    return maxi    \n",
    "arr = [-2, 1, -3, 4, -1, 2, 1, -5, 4]\n",
    "n = len(arr)\n",
    "maxSum = maxSubarraySum(arr, n) \n",
    "print(\"The maximum subarray sum is:\", maxSum)\n",
    "       "
   ]
  },
  {
   "cell_type": "code",
   "execution_count": 5,
   "id": "156f2294",
   "metadata": {},
   "outputs": [
    {
     "name": "stdout",
     "output_type": "stream",
     "text": [
      "The subarray is: [4 -1 2 1 ]\n",
      "The maximum subarray sum is: 6\n"
     ]
    }
   ],
   "source": [
    "# There might be more than one subarray with the maximum sum. We need to print any of them.\n",
    "import sys\n",
    "def maxSubarraySum(arr,sum):\n",
    "    maxi=-sys.maxsize -1\n",
    "    sum=0\n",
    "    \n",
    "    start=0\n",
    "    ansStart,ansEnd=-1,-1\n",
    "    for i in range(n):\n",
    "        if sum==0:\n",
    "            start=i\n",
    "        sum+=arr[i]\n",
    "        if sum>maxi:\n",
    "            maxi=sum\n",
    "            ansStart=start\n",
    "            ansEnd=i\n",
    "        if sum<0:\n",
    "            sum=0   \n",
    "    print(\"The subarray is: [\", end=\"\")\n",
    "    for i in range(ansStart, ansEnd + 1):\n",
    "        print(arr[i], end=\" \")\n",
    "    print(\"]\")\n",
    "    return maxi  \n",
    "arr = [-2, 1, -3, 4, -1, 2, 1, -5, 4]\n",
    "n = len(arr)\n",
    "maxSum = maxSubarraySum(arr, n)\n",
    "print(\"The maximum subarray sum is:\", maxSum)       "
   ]
  },
  {
   "cell_type": "code",
   "execution_count": 8,
   "id": "77d7d56a",
   "metadata": {},
   "outputs": [
    {
     "name": "stdout",
     "output_type": "stream",
     "text": [
      "Prices: [7, 1, 5, 3, 6, 4]\n",
      "Maximum profit (Brute Force): 5\n"
     ]
    }
   ],
   "source": [
    "# Stock Buy and Sell Problem - Maximum Profit\n",
    "def max_profit_brute_force(arr):\n",
    "    if not arr or len(arr)<2:\n",
    "        return 0\n",
    "    n=len(arr)\n",
    "    max_prof=0\n",
    "    for i in range(n):\n",
    "        for j in range(i+1,n):\n",
    "            if arr[j]>arr[i]:\n",
    "                profit=arr[j]-arr[i]\n",
    "                max_prof=max(max_prof,profit)\n",
    "    return max_prof\n",
    "prices = [7, 1, 5, 3, 6, 4]\n",
    "result = max_profit_brute_force(prices)\n",
    "print(f\"Prices: {prices}\")\n",
    "print(f\"Maximum profit (Brute Force): {result}\")            \n",
    "                "
   ]
  },
  {
   "cell_type": "code",
   "execution_count": null,
   "id": "148a37d5",
   "metadata": {},
   "outputs": [],
   "source": [
    "def max_profit_optimal(arr):\n",
    "    \"\"\"\n",
    "    Optimal Solution: Single pass algorithm\n",
    "    Time: O(n), Space: O(1)\n",
    "    \n",
    "    Core Idea: Keep track of minimum price seen so far and \n",
    "    maximum profit at each step\n",
    "    \"\"\"\n",
    "    if not arr or len(arr)<2:\n",
    "        return 0\n",
    "    min_price=arr[0]\n",
    "    max_profit=0\n",
    "    for i in range(1,len(arr)):\n",
    "        current_price=arr[i]\n",
    "        # Calculate profit if we sell today\n",
    "        current_profit=current_price-min_price\n",
    "         # Update maximum profit\n",
    "        max_profit=max(max_profit,current_profit)\n",
    "        # Update minimum price for future transactions\n",
    "        min_price=min(min_price,current_price)\n",
    "    return max_profit    \n",
    "prices = [7, 1, 5, 3, 6, 4]\n",
    "result = max_profit_optimal(prices)\n",
    "print(f\"Prices: {prices}\")\n",
    "print(f\"Maximum profit (Optimal): {result}\")"
   ]
  },
  {
   "cell_type": "code",
   "execution_count": null,
   "id": "ff2e5548",
   "metadata": {},
   "outputs": [
    {
     "name": "stdout",
     "output_type": "stream",
     "text": [
      "1 -4 2 -5 "
     ]
    }
   ],
   "source": [
    "# Problem Statement:\n",
    "\n",
    "# There’s an array ‘A’ of size ‘N’ with an equal number of positive and negative elements. Without altering the relative order of positive and negative elements, you must return an array of alternately positive and negative values.\n",
    "def rearrange_by_sign(A):\n",
    "    pos=[]\n",
    "    neg=[]\n",
    "    # Segregate the array into positives and negatives.\n",
    "    for i in range(len(A)):\n",
    "        if A[i]>0:\n",
    "            pos.append(A[i])\n",
    "        else:\n",
    "            neg.append(A[i])\n",
    "# Positives on even indices, negatives on odd.\n",
    "    for i in range(len(pos) )   :\n",
    "        A[2*i]=pos[i]\n",
    "    for i in range(len(neg)):\n",
    "        A[2 * i + 1] = neg[i]    \n",
    "    return A    \n",
    "A = [1, 2, -4, -5]\n",
    "ans = rearrange_by_sign(A)\n",
    "\n",
    "for i in range(len(ans)):\n",
    "    print(ans[i], end=\" \")\n",
    "                \n",
    "#   TC:-O(N+N/2)          \n",
    "                \n"
   ]
  },
  {
   "cell_type": "code",
   "execution_count": null,
   "id": "50234485",
   "metadata": {},
   "outputs": [
    {
     "name": "stdout",
     "output_type": "stream",
     "text": [
      "[1, -4, 2, -5]\n"
     ]
    }
   ],
   "source": [
    "def RearrangingbySign(arr):\n",
    "    \"\"\"We know that the resultant array must start from a positive element so we initialize the positive index as 0 and negative index as 1 and start traversing the array such that whenever we see the first positive element,\n",
    "    it occupies the space at 0 and then posIndex increases by 2 (alternate places).\"\"\"\n",
    "    n=len(arr)\n",
    "    ans=[0]*n\n",
    "    posIndex,negIndex=0,1\n",
    "    for i in range(n):\n",
    "        if arr[i]<0:\n",
    "            ans[negIndex]=arr[i]\n",
    "            negIndex+=2\n",
    "        else:\n",
    "            ans[posIndex]=arr[i]   \n",
    "            posIndex+=2\n",
    "    return ans   \n",
    "A = [1,2,-4,-5]\n",
    "ans = RearrangingbySign(A)\n",
    "print(ans)  \n",
    "# Time Complexity: O(N)    "
   ]
  },
  {
   "cell_type": "code",
   "execution_count": null,
   "id": "59fb0b5d",
   "metadata": {},
   "outputs": [],
   "source": [
    "# There’s an array ‘A’ of size ‘N’ with positive and negative elements (not necessarily equal). Without altering the relative order of positive and negative elements,\n",
    "# you must return an array of alternately positive and negative values. The leftover elements should be placed at the very end in the same order as in array A.\n",
    "\n",
    "def RearrangebySign(A, n):\n",
    "    # Define 2 lists, one for storing positive \n",
    "    # and other for negative elements of the array.\n",
    "    pos = []\n",
    "    neg = []\n",
    "    \n",
    "    # Segregate the array into positives and negatives.\n",
    "    for i in range(n):\n",
    "        if A[i] > 0:\n",
    "            pos.append(A[i])\n",
    "        else:\n",
    "            neg.append(A[i])\n",
    "    \n",
    "    # If positives are lesser than the negatives.\n",
    "    if len(pos) < len(neg):\n",
    "        # First, fill array alternatively till the point \n",
    "        # where positives and negatives are equal in number.\n",
    "        for i in range(len(pos)):\n",
    "            A[2*i] = pos[i]\n",
    "            A[2*i+1] = neg[i]\n",
    "        \n",
    "        # Fill the remaining negatives at the end of the array.\n",
    "        index = len(pos)*2\n",
    "        for i in range(len(neg)-len(pos)):\n",
    "            A[index] = neg[len(pos)+i]\n",
    "            index += 1\n",
    "    \n",
    "    # If negatives are lesser than the positives.\n",
    "    else:\n",
    "        # First, fill array alternatively till the point \n",
    "        # where positives and negatives are equal in number.\n",
    "        for i in range(len(neg)):\n",
    "            A[2*i] = pos[i]\n",
    "            A[2*i+1] = neg[i]\n",
    "        \n",
    "        # Fill the remaining positives at the end of the array.\n",
    "        index = len(neg)*2\n",
    "        for i in range(len(pos)-len(neg)):\n",
    "            A[index] = pos[len(neg)+i]\n",
    "            index += 1\n",
    "    \n",
    "    return A\n",
    "\n",
    "# Array initialization\n",
    "n = 6\n",
    "A = [1, 2, -4, -5, 3, 4]\n",
    "\n",
    "ans = RearrangebySign(A, n)\n",
    "\n",
    "for i in range(len(ans)):\n",
    "    print(ans[i], end=\" \")\n"
   ]
  },
  {
   "cell_type": "code",
   "execution_count": null,
   "id": "458ecabf",
   "metadata": {},
   "outputs": [
    {
     "name": "stdout",
     "output_type": "stream",
     "text": [
      "The next permutation is: [2 3 0 0 1 4 5 ]\n"
     ]
    }
   ],
   "source": [
    "def nextGreaterPermutation(arr):\n",
    "    n=len(arr)\n",
    "    ind=-1\n",
    "      # Step 1: Find the break point:\n",
    "    for i in range(n-2,-1,-1):\n",
    "        if arr[i]<arr[i+1]:\n",
    "            ind=i\n",
    "            break\n",
    "        # This loop goes from right to left starting at n-2 down to 0.\n",
    "# (So for array length 7, it starts at 5.)\n",
    "        # If break point does not exist:\n",
    "    if ind==-1:\n",
    "        arr.reverse()\n",
    "        return arr\n",
    "# If we never found such a break point, the array is completely descending, like [3,2,1].\n",
    "# So we reverse it to get the smallest permutation.    \n",
    "    for i in range(n-1,ind,-1):\n",
    "        if arr[i]>arr[ind]:\n",
    "            arr[i],arr[ind]=arr[ind],arr[i] \n",
    "            break\n",
    "    arr[ind+1:]=reversed(arr[ind+1:])  \n",
    "    return arr  \n",
    "if __name__ == \"__main__\":\n",
    "    A = [2, 1, 5, 4, 3, 0, 0]\n",
    "    ans = nextGreaterPermutation(A)\n",
    "\n",
    "    print(\"The next permutation is: [\", end=\"\")\n",
    "    for it in ans:\n",
    "        print(it, end=\" \")\n",
    "    print(\"]\")   \n",
    "    \n",
    "#     Now we look from the end of the array back to ind.\n",
    "\n",
    "#     We find the first element greater than A[ind].\n",
    "\n",
    "#     Swap A[i] and A[ind].\n",
    "\n",
    "# Why?\n",
    "\n",
    "#     Because we want to increase the number at ind to the next bigger number possible, but keep it as small as we can to get the next permutation.\n",
    "\n",
    "# Reverse the right half to make it smallest\n",
    "\n",
    "#     A[ind+1:] = reversed(A[ind+1:])\n",
    "\n",
    "#     After the swap, the part of the array after ind may still be in descending order.\n",
    "\n",
    "#     Reverse it to get the smallest possible order, ensuring we get the next immediate permutation.\n",
    "\n",
    "# Example:\n",
    "\n",
    "# Before reverse: 2 3 5 4 1 0 0\n",
    "# Reverse part after index 1 -> 2 3 0 0 1 4 5    "
   ]
  },
  {
   "cell_type": "code",
   "execution_count": null,
   "id": "4c56d5a5",
   "metadata": {},
   "outputs": [
    {
     "name": "stdout",
     "output_type": "stream",
     "text": [
      "22 12 6 \n"
     ]
    }
   ],
   "source": [
    "# Problem Statement: Given an array, print all the elements which are leaders.\n",
    "# A Leader is an element that is greater than all of the elements on its right side in the array.\n",
    "def printLeadersBruteForce(arr,n):\n",
    "    ans=[]\n",
    "    for i in range(n):\n",
    "        leader=True\n",
    "        # Initially assume that arr[i] is a leader.\n",
    "        for j in range(i+1,n):\n",
    "            if arr[j]>arr[i]:\n",
    "                leader=False\n",
    "                break\n",
    "# Starts from i+1 to n-1, which means all elements to the right of arr[i].\n",
    "# Checks if any of them are greater than arr[i].            \n",
    "        if leader:\n",
    "            ans.append(arr[i])\n",
    "# After finishing checking all elements to the right of arr[i],\n",
    "#     if leader is still True (meaning no larger element was found),\n",
    "#     add arr[i] to the ans list.            \n",
    "    return ans  \n",
    "if __name__ == '__main__':\n",
    "    # Array Initialization\n",
    "    n = 6\n",
    "    arr = [10, 22, 12, 3, 0, 6]\n",
    "\n",
    "    ans = printLeadersBruteForce(arr, n)\n",
    "\n",
    "    for i in range(len(ans)):\n",
    "        print(ans[i], end=\" \")\n",
    "\n",
    "    print()          \n",
    "        "
   ]
  },
  {
   "cell_type": "code",
   "execution_count": null,
   "id": "1edb1152",
   "metadata": {},
   "outputs": [],
   "source": [
    "def printLeaders(arr,n):\n",
    "    ans=[]\n",
    "    max_elem=arr[n-1]\n",
    "    ans.append(arr[n-1])\n",
    "    for i in range(n-2,-1,-1):\n",
    "        if arr[i]>max_elem:\n",
    "            ans.append(arr[i])\n",
    "            max_elem=arr[i]\n",
    "    \n",
    "    return ans  \n",
    "\n",
    "\n",
    "if __name__ == '__main__':\n",
    "    # Array Initialization\n",
    "    n = 6\n",
    "    arr = [10, 22, 12, 3, 0, 6]\n",
    "\n",
    "    ans = printLeaders(arr, n)\n",
    "\n",
    "    for i in range(len(ans)-1, -1, -1):\n",
    "        print(ans[i], end=\" \")\n",
    "\n",
    "    print()   \n",
    "    # Time Complexity: O(N)   "
   ]
  },
  {
   "cell_type": "code",
   "execution_count": null,
   "id": "86871b77",
   "metadata": {},
   "outputs": [
    {
     "name": "stdout",
     "output_type": "stream",
     "text": [
      "The longest consecutive sequence is 4\n"
     ]
    }
   ],
   "source": [
    "# You are given an array of ‘N’ integers.\n",
    "# You need to find the length of the longest sequence which contains the consecutive elements.\n",
    "def linearsearch(a,num):\n",
    "    n=len(a)\n",
    "    for i in range(n):\n",
    "        if a[i]==num:\n",
    "            return True\n",
    "    return False \n",
    "def longestSuccessiveElements(a):\n",
    "    n=len(a)\n",
    "    longest=1\n",
    "    for i in range(n):\n",
    "        x=a[i]\n",
    "        cnt=1\n",
    "        # Count consecutive elements starting from x\n",
    "        while linearsearch(a,x+1):\n",
    "            x+=1\n",
    "            cnt+=1\n",
    "        longest=max(longest,cnt)\n",
    "    return longest  \n",
    "a = [100, 200, 1, 2, 3, 4]\n",
    "ans = longestSuccessiveElements(a)\n",
    "print(\"The longest consecutive sequence is\", ans)         \n"
   ]
  },
  {
   "cell_type": "code",
   "execution_count": 15,
   "id": "99907fc3",
   "metadata": {},
   "outputs": [
    {
     "name": "stdout",
     "output_type": "stream",
     "text": [
      "Array: [100, 4, 200, 1, 3, 2]\n",
      "Longest consecutive sequence length: 4\n"
     ]
    }
   ],
   "source": [
    "def longest_consecutive_set(arr):\n",
    "    \"\"\"\n",
    "    Find longest consecutive sequence using Set\n",
    "    Time: O(n), Space: O(n)\n",
    "    \n",
    "    Algorithm:\n",
    "    1. Convert array to set for O(1) lookup\n",
    "    2. For each number, check if it's the start of a sequence\n",
    "    3. If it's a start, count consecutive elements\n",
    "    4. Keep track of maximum length\n",
    "    \"\"\"\n",
    "    if not arr :\n",
    "        return 0\n",
    "    num_set=set(arr)\n",
    "    longest=0\n",
    "    for num in num_set:\n",
    "        # Check if this number is the start of a sequence\n",
    "        # A number is start if (num-1) is not in the set\n",
    "        if num-1 not in num_set:\n",
    "            current_num=num\n",
    "            current_length=1\n",
    "         # Count consecutive numbers starting from this number\n",
    "        while current_num+1 in num_set:\n",
    "            current_num+=1\n",
    "            current_length+=1\n",
    "        longest=max(longest,current_length)    \n",
    "    return longest\n",
    "arr = [100, 4, 200, 1, 3, 2]\n",
    "result = longest_consecutive_set(arr)\n",
    "print(f\"Array: {arr}\")\n",
    "print(f\"Longest consecutive sequence length: {result}\")\n",
    "    \n",
    "                "
   ]
  },
  {
   "cell_type": "code",
   "execution_count": null,
   "id": "10c3f8ad",
   "metadata": {},
   "outputs": [
    {
     "name": "stdout",
     "output_type": "stream",
     "text": [
      "The Final matrix is:\n",
      "[[1, 0, 1], [0, 0, 0], [1, 0, 1]]\n"
     ]
    }
   ],
   "source": [
    "# Problem Statement: Given a matrix if an element in the matrix is 0 then you will have to set its entire column and row to 0 and then return the matrix.\n",
    "\n",
    "def markRow(matrix,n,m,i):\n",
    "    # set all non-zero elements as -1 in the row i:\n",
    "    for j in range(m):\n",
    "        if matrix[i][j]!=0:\n",
    "            matrix[i][j]=-1\n",
    "def markCol(matrix, n, m, j):\n",
    "    # set all non-zero elements as -1 in the col j:\n",
    "    for i in range(n):\n",
    "        if matrix[i][j] != 0:\n",
    "            matrix[i][j] = -1\n",
    "\n",
    "def zeroMatrix(matrix,n,m):\n",
    "    # Set -1 for rows and cols\n",
    "    # that contains 0. Don't mark any 0 as -1:\n",
    "    for i in range(n):\n",
    "        for j in range(m):\n",
    "            if matrix[i][j]==0:\n",
    "                markRow(matrix,n,m,i)                        \n",
    "                markCol(matrix,n,m,j)  \n",
    "    # Finally, mark all -1 as 0:\n",
    "    for i in range(n):\n",
    "        for j in range(m):\n",
    "            if matrix[i][j]==-1:\n",
    "                matrix[i][j]=0\n",
    "    \n",
    "    return matrix   \n",
    "if __name__ == \"__main__\":\n",
    "    matrix = [[1, 1, 1], [1, 0, 1], [1, 1, 1]]\n",
    "    n = len(matrix)\n",
    "    m = len(matrix[0])\n",
    "    ans = zeroMatrix(matrix, n, m)\n",
    "\n",
    "    print(\"The Final matrix is:\")\n",
    "    print(ans)\n",
    "    # for row in ans:\n",
    "    #     for ele in row:\n",
    "    #         print(ele, end=\" \")\n",
    "    #     print()\n",
    "    # Time Complexity: O((N*M)*(N + M)) + O(N*M), where N = no. of rows in the matrix and M = no. of columns in the matrix.\n",
    "\n",
    "                                           \n",
    "            "
   ]
  },
  {
   "cell_type": "code",
   "execution_count": null,
   "id": "1ff82740",
   "metadata": {},
   "outputs": [],
   "source": [
    "def zeroMatrix(matrix,n,m):\n",
    "    row=[0]*n\n",
    "    col=[0]*m\n",
    "    for i in range(n):\n",
    "        for j in range(m):\n",
    "            if matrix[i][j]==0:\n",
    "                row[i]=1# mark ith index of row wih 1:\n",
    "                col[j]=1  # mark jth index of col wih 1:\n",
    "    # Finally, mark all (i, j) as 0\n",
    "    # if row[i] or col[j] is marked with 1.\n",
    "    for i in range(n):\n",
    "        for j in range(m):\n",
    "            if row[i] or col[i]:\n",
    "                matrix[i][j]=0\n",
    "    return matrix                       "
   ]
  },
  {
   "cell_type": "code",
   "execution_count": null,
   "id": "bfed24b1",
   "metadata": {},
   "outputs": [
    {
     "name": "stdout",
     "output_type": "stream",
     "text": [
      "Rotated Image\n",
      "7 4 1 \n",
      "8 5 2 \n",
      "9 6 3 \n"
     ]
    }
   ],
   "source": [
    "# Problem Statement: Given a matrix, your task is to rotate the matrix 90 degrees clockwise.\n",
    "# Approach: Take another dummy matrix of n*n, and then take the first row of the\n",
    "# matrix and put it in the last column of the dummy matrix, \n",
    "# take the second row of the matrix, and put it in the second last column of the \n",
    "# matrix and so.\n",
    "\n",
    "def rotate(matrix):\n",
    "    n=len(matrix)\n",
    "#Stores n as the number of rows (or columns).\n",
    "# Works because it's a square matrix, so n x n.\n",
    "    rotated=[[0 for _ in range(n)] for _ in range(n)]\n",
    "    # Creates a new n x n matrix filled with zeros, named rotated.\n",
    "    for i in range(n):\n",
    "        for j in range(n):\n",
    "            rotated[j][n-i-1]=matrix[i][j]\n",
    "# If you rotate (i, j) by 90 degrees clockwise, it lands at (j, n-i-1).            \n",
    "    return rotated \n",
    "\n",
    "if __name__ == \"__main__\":\n",
    "    arr = [[1, 2, 3], [4, 5, 6], [7, 8, 9]]\n",
    "    rotated = rotate(arr)\n",
    "    print(\"Rotated Image\")\n",
    "    for i in range(len(rotated)):\n",
    "        for j in range(len(rotated[0])):\n",
    "            print(rotated[i][j], end=\" \")\n",
    "        print()\n",
    "# Time Complexity: O(N*N)       "
   ]
  },
  {
   "cell_type": "code",
   "execution_count": null,
   "id": "f59276b5",
   "metadata": {},
   "outputs": [
    {
     "name": "stdout",
     "output_type": "stream",
     "text": [
      "Rotated Image\n",
      "7 4 1 \n",
      "8 5 2 \n",
      "9 6 3 \n"
     ]
    }
   ],
   "source": [
    "# Step 1: Transpose the matrix. (transposing means changing columns to rows and rows to columns)\n",
    "\n",
    "# Step 2: Reverse each row of the matrix.\n",
    "\n",
    "\n",
    "def rotate(matrix):\n",
    "    n=len(matrix)\n",
    "    # transposing the matrix\n",
    "    for i in range(n):\n",
    "        for j in range(i):\n",
    "            matrix[i][j],matrix[j][i]=matrix[j][i],matrix[i][j]\n",
    "    for i in range(n):\n",
    "        matrix[i].reverse()    \n",
    "        \n",
    "if __name__ == \"__main__\":\n",
    "    arr = [[1, 2, 3], [4, 5, 6], [7, 8, 9]]\n",
    "    rotate(arr)\n",
    "    print(\"Rotated Image\")\n",
    "    for i in range(len(arr)):\n",
    "        for j in range(len(arr[0])):\n",
    "            print(arr[i][j], end=\" \")\n",
    "        print()  \n",
    "        \n",
    "# Time Complexity: O(N*N) + O(N*N)                  \n",
    "            "
   ]
  }
 ],
 "metadata": {
  "kernelspec": {
   "display_name": "Python 3",
   "language": "python",
   "name": "python3"
  },
  "language_info": {
   "codemirror_mode": {
    "name": "ipython",
    "version": 3
   },
   "file_extension": ".py",
   "mimetype": "text/x-python",
   "name": "python",
   "nbconvert_exporter": "python",
   "pygments_lexer": "ipython3",
   "version": "3.11.5"
  }
 },
 "nbformat": 4,
 "nbformat_minor": 5
}
