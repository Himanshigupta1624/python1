{
 "cells": [
  {
   "cell_type": "code",
   "execution_count": 2,
   "id": "c8b4f450",
   "metadata": {},
   "outputs": [
    {
     "name": "stdout",
     "output_type": "stream",
     "text": [
      "2 3 5 7 11 13 17 19 23 29 "
     ]
    }
   ],
   "source": [
    "def isprime(num):\n",
    "    for i in range(2,num):\n",
    "        if num%i==0:\n",
    "            return False\n",
    "    return True \n",
    "def prime_generator(n):\n",
    "    num=2\n",
    "    while n:\n",
    "        if isprime(num):\n",
    "            yield num\n",
    "            n-=1\n",
    "        num+=1\n",
    "x=int(input(\"Enter no. of prime numbers required\"))\n",
    "it=prime_generator(x)\n",
    "for e in it :\n",
    "    print(e,end=\" \")   "
   ]
  },
  {
   "cell_type": "code",
   "execution_count": 5,
   "id": "cc59519d",
   "metadata": {},
   "outputs": [
    {
     "name": "stdout",
     "output_type": "stream",
     "text": [
      "****\n",
      "****\n",
      "****\n",
      "****\n"
     ]
    }
   ],
   "source": [
    "def rows(n):\n",
    "    for i in range(1,n+1):\n",
    "        for j in range(1,n+1):\n",
    "            print(\"*\",end=\"\")\n",
    "        print()\n",
    "rows(4)            "
   ]
  },
  {
   "cell_type": "code",
   "execution_count": 7,
   "id": "aa0ee34b",
   "metadata": {},
   "outputs": [
    {
     "name": "stdout",
     "output_type": "stream",
     "text": [
      "*\n",
      "**\n",
      "***\n",
      "****\n",
      "*****\n",
      "******\n"
     ]
    }
   ],
   "source": [
    "def rows(n):\n",
    "    for i in range(1,n+1):\n",
    "        for j in range(i):\n",
    "            print(\"*\",end=\"\")\n",
    "        print()\n",
    "rows(6)            "
   ]
  },
  {
   "cell_type": "code",
   "execution_count": 2,
   "id": "77452f46",
   "metadata": {},
   "outputs": [
    {
     "name": "stdout",
     "output_type": "stream",
     "text": [
      "1 \n",
      "1 2 \n",
      "1 2 3 \n",
      "1 2 3 4 \n",
      "1 2 3 4 5 \n"
     ]
    }
   ],
   "source": [
    "def rows(n):\n",
    "    for i in range(1,n+1):\n",
    "        for j in range(1,i+1):\n",
    "            print(j,end=\" \")\n",
    "        print()\n",
    "rows(5)        "
   ]
  },
  {
   "cell_type": "code",
   "execution_count": 14,
   "id": "0e975655",
   "metadata": {},
   "outputs": [
    {
     "name": "stdout",
     "output_type": "stream",
     "text": [
      "1 \n",
      "2 2 \n",
      "3 3 3 \n",
      "4 4 4 4 \n",
      "5 5 5 5 5 \n"
     ]
    }
   ],
   "source": [
    "def rows(n):\n",
    "    for i in range(1,n+1):\n",
    "        for j in range(1,i+1):\n",
    "            print(i,end=\" \")\n",
    "        print()    \n",
    "rows(5)        "
   ]
  },
  {
   "cell_type": "code",
   "execution_count": 5,
   "id": "04665051",
   "metadata": {},
   "outputs": [
    {
     "name": "stdout",
     "output_type": "stream",
     "text": [
      "* * * * * \n",
      "* * * * \n",
      "* * * \n",
      "* * \n",
      "* \n",
      "\n",
      "* * * * * \n",
      "* * * * \n",
      "* * * \n",
      "* * \n",
      "* \n",
      "\n"
     ]
    }
   ],
   "source": [
    "def rows(n):\n",
    "    for i in range(1,n+1):\n",
    "        for j in range(n-i+1):\n",
    "            print(\"*\",end=\" \")\n",
    "        print()    \n",
    "rows(5)\n",
    "print()\n",
    "def rows(n):\n",
    "    for i in range(n+1):\n",
    "        for j in range(n-i):\n",
    "            print(\"*\",end=\" \")\n",
    "        print()    \n",
    "rows(5)"
   ]
  },
  {
   "cell_type": "code",
   "execution_count": 14,
   "id": "ef9ced33",
   "metadata": {},
   "outputs": [
    {
     "name": "stdout",
     "output_type": "stream",
     "text": [
      "1 2 3 4 5 6 \n",
      "1 2 3 4 5 \n",
      "1 2 3 4 \n",
      "1 2 3 \n",
      "1 2 \n",
      "1 \n"
     ]
    }
   ],
   "source": [
    "def rows(n):\n",
    "    for i in range(n):\n",
    "        for j in range(1,n-i+1):\n",
    "            print(j,end=\" \")\n",
    "        print()    \n",
    "rows(6)"
   ]
  },
  {
   "cell_type": "code",
   "execution_count": null,
   "id": "20348dd7",
   "metadata": {},
   "outputs": [],
   "source": []
  },
  {
   "cell_type": "code",
   "execution_count": 4,
   "id": "0493049a",
   "metadata": {},
   "outputs": [
    {
     "data": {
      "text/plain": [
       "True"
      ]
     },
     "execution_count": 4,
     "metadata": {},
     "output_type": "execute_result"
    }
   ],
   "source": [
    "def prime_no(n):\n",
    "    Flag=False\n",
    "    if n<2:\n",
    "        return Flag\n",
    "    else:\n",
    "        for i in range(2,n):\n",
    "            if n%i==0:\n",
    "                return Flag\n",
    "            else:\n",
    "                Flag=True\n",
    "                return Flag\n",
    "num=int(input(\"Enter a number:\"))\n",
    "prime_no(num)            "
   ]
  },
  {
   "cell_type": "code",
   "execution_count": 6,
   "id": "bfca126a",
   "metadata": {},
   "outputs": [
    {
     "name": "stdout",
     "output_type": "stream",
     "text": [
      "Average are  49.375 49.375\n"
     ]
    }
   ],
   "source": [
    "# Implementing variable length arguements in python\n",
    "def average(*t):\n",
    "    avg=sum(t)/len(t)\n",
    "    return avg\n",
    "result1=average(32,5,65,87,45,30,35,96)    \n",
    "result2=average(32,5,65,87,45,30,35,96)\n",
    "print(\"Average are \", result1,result2)    "
   ]
  },
  {
   "cell_type": "code",
   "execution_count": 1,
   "id": "453ea2ea",
   "metadata": {},
   "outputs": [
    {
     "name": "stdout",
     "output_type": "stream",
     "text": [
      "Average is: 41.17\n",
      "Average is: 15.00\n"
     ]
    }
   ],
   "source": [
    "def average_with_kwargs(**kwargs):\n",
    "    values=list(kwargs.values())\n",
    "    avg=sum(values)/len(values)\n",
    "    return avg\n",
    "result1 = average_with_kwargs(num1=32, num2=5, num3=65, num4=22, num5=87, num6=36)\n",
    "result2 = average_with_kwargs(value1=5, value2=10, value3=15, value4=20, value5=25)\n",
    "print(f'Average is: {result1:.2f}')\n",
    "print(f'Average is: {result2:.2f}')\n"
   ]
  },
  {
   "cell_type": "code",
   "execution_count": null,
   "id": "44b7d2ca",
   "metadata": {},
   "outputs": [
    {
     "name": "stdout",
     "output_type": "stream",
     "text": [
      "{'a': 5, 'b': 10, 'c': 15}\n",
      "{'a': 5}\n"
     ]
    }
   ],
   "source": [
    "# creating instance memeber variables in python\n",
    "class Test:\n",
    "    def __init__(self): #1st instance variable inside init function\n",
    "        self.a=5\n",
    "    def f1(self):\n",
    "        self.b=10 #2nd instance variable inside function f1\n",
    "t1=Test()\n",
    "t2=Test()\n",
    "t1.f1()\n",
    "t1.c=15 #3rd instance variable\n",
    "print(t1.__dict__)            \n",
    "print(t2.__dict__)            "
   ]
  },
  {
   "cell_type": "code",
   "execution_count": 3,
   "id": "b7f948be",
   "metadata": {},
   "outputs": [
    {
     "name": "stdout",
     "output_type": "stream",
     "text": [
      "10\n",
      "10\n"
     ]
    }
   ],
   "source": [
    "f=lambda a,b: a+b\n",
    "r=f(3,7)\n",
    "print(r)\n",
    "# or\n",
    "print((lambda a,b: a+b)(3,7))"
   ]
  },
  {
   "cell_type": "code",
   "execution_count": 4,
   "id": "edbe4772",
   "metadata": {},
   "outputs": [
    {
     "data": {
      "text/plain": [
       "120"
      ]
     },
     "execution_count": 4,
     "metadata": {},
     "output_type": "execute_result"
    }
   ],
   "source": [
    "# factorial usimg lambda\n",
    "f=lambda n:1 if n==0 else n*f(n-1)\n",
    "f(5)"
   ]
  },
  {
   "cell_type": "code",
   "execution_count": 6,
   "id": "172adf10",
   "metadata": {},
   "outputs": [
    {
     "name": "stdout",
     "output_type": "stream",
     "text": [
      "[2, 4, 6, 8, 10, 12, 14, 16, 18]\n",
      "[56, 96, 46, 36, 12]\n"
     ]
    }
   ],
   "source": [
    "l1=[2*e for e in range(1,10)]\n",
    "print(l1)\n",
    "list=[35,56,45,87,96,46,36,12,55]\n",
    "l2=[e for e in list if e%2==0]\n",
    "print(l2)"
   ]
  },
  {
   "cell_type": "code",
   "execution_count": 10,
   "id": "2c566f88",
   "metadata": {},
   "outputs": [
    {
     "name": "stdout",
     "output_type": "stream",
     "text": [
      "['What', 'is', 'that', 'thing?']\n",
      "['thing?', 'that', 'is', 'What']\n",
      "thing? that is What\n"
     ]
    }
   ],
   "source": [
    "s=\"What is that thing?\"\n",
    "s1=s.split(\" \")\n",
    "print(s1)\n",
    "s1=s1[::-1]\n",
    "print(s1)\n",
    "print(\" \".join(s1))"
   ]
  },
  {
   "cell_type": "code",
   "execution_count": null,
   "id": "315970a8",
   "metadata": {},
   "outputs": [
    {
     "name": "stdout",
     "output_type": "stream",
     "text": [
      "x=15 y=10\n",
      "15\n"
     ]
    }
   ],
   "source": [
    "x=5#global variable\n",
    "def f1():\n",
    "    global x\n",
    "    x=15 #global variable\n",
    "    y=10# local variable\n",
    "    print(\"x=%d y=%d\"%(x,y))\n",
    "f1()\n",
    "print(x)    "
   ]
  },
  {
   "cell_type": "code",
   "execution_count": 12,
   "id": "17b81a60",
   "metadata": {},
   "outputs": [
    {
     "name": "stdout",
     "output_type": "stream",
     "text": [
      "local x=10 global x=5\n"
     ]
    }
   ],
   "source": [
    "x=5\n",
    "def f1():\n",
    "    x=10\n",
    "    d=globals()\n",
    "    print(\"local x=%d global x=%d\"%(x,d['x']))\n",
    "f1()    "
   ]
  },
  {
   "cell_type": "code",
   "execution_count": 13,
   "id": "facf5726",
   "metadata": {},
   "outputs": [
    {
     "name": "stdout",
     "output_type": "stream",
     "text": [
      "<class 'int'>\n",
      "<class 'str'>\n",
      "5123\n",
      "128\n"
     ]
    }
   ],
   "source": [
    "x=5\n",
    "print(type(x))\n",
    "s1='123'\n",
    "print(type(s1))\n",
    "print(str(x) +s1)\n",
    "print(x+int(s1))"
   ]
  },
  {
   "cell_type": "code",
   "execution_count": null,
   "id": "f8a28053",
   "metadata": {},
   "outputs": [
    {
     "data": {
      "text/plain": [
       "4"
      ]
     },
     "execution_count": 3,
     "metadata": {},
     "output_type": "execute_result"
    }
   ],
   "source": [
    "def count_digit(n):\n",
    "    count=0\n",
    "    while(n>0):\n",
    "        count+=1\n",
    "        n=n//10 #use integer division\n",
    "    return count\n",
    "count_digit(7789)    "
   ]
  },
  {
   "cell_type": "code",
   "execution_count": null,
   "id": "845659f9",
   "metadata": {},
   "outputs": [
    {
     "data": {
      "text/plain": [
       "'25'"
      ]
     },
     "execution_count": 6,
     "metadata": {},
     "output_type": "execute_result"
    }
   ],
   "source": [
    "def reverseNumber(n):\n",
    "        reverse_no=str(n[::-1])\n",
    "        return reverse_no\n",
    "reverseNumber(\"52\")    "
   ]
  },
  {
   "cell_type": "code",
   "execution_count": 11,
   "id": "91ebdca3",
   "metadata": {},
   "outputs": [
    {
     "data": {
      "text/plain": [
       "52"
      ]
     },
     "execution_count": 11,
     "metadata": {},
     "output_type": "execute_result"
    }
   ],
   "source": [
    "def reverseNumber(n):\n",
    "   revnum=0\n",
    "   while(n>0):\n",
    "       lastdigit=n%10\n",
    "       revnum=(revnum*10)+ lastdigit\n",
    "       n=n//10\n",
    "   return revnum   \n",
    "reverseNumber(25)"
   ]
  },
  {
   "cell_type": "code",
   "execution_count": 13,
   "id": "c6a08ebc",
   "metadata": {},
   "outputs": [
    {
     "data": {
      "text/plain": [
       "True"
      ]
     },
     "execution_count": 13,
     "metadata": {},
     "output_type": "execute_result"
    }
   ],
   "source": [
    "def pallindrome(n):\n",
    "   revnum=0\n",
    "   duplicate=n\n",
    "   while(n>0):\n",
    "       lastdigit=n%10\n",
    "       revnum=(revnum*10)+ lastdigit\n",
    "       n=n//10\n",
    "   if duplicate==revnum:\n",
    "       return True\n",
    "   else:\n",
    "       False\n",
    "pallindrome(7227)\n",
    "  "
   ]
  },
  {
   "cell_type": "code",
   "execution_count": null,
   "id": "5d537864",
   "metadata": {},
   "outputs": [],
   "source": [
    "      \n",
    "   "
   ]
  },
  {
   "cell_type": "code",
   "execution_count": null,
   "id": "709fe13a",
   "metadata": {},
   "outputs": [
    {
     "name": "stdout",
     "output_type": "stream",
     "text": [
      "True\n",
      "True\n",
      "False\n"
     ]
    }
   ],
   "source": [
    "def armstrong(n):\n",
    "    # Store original number\n",
    "    duplicate = n\n",
    "    \n",
    "    # Count digits\n",
    "    num_digits = len(str(n))\n",
    "    \n",
    "    # Calculate sum of digits raised to power of number of digits\n",
    "    sum = 0\n",
    "    temp = n\n",
    "    while temp > 0:\n",
    "        digit = temp % 10\n",
    "        sum += digit ** num_digits\n",
    "        temp //= 10\n",
    "    \n",
    "    # Check if sum equals original number\n",
    "    if sum == duplicate:\n",
    "        return True\n",
    "    else:\n",
    "        return False\n",
    "\n",
    "# Test with Armstrong numbers\n",
    "print(armstrong(153))    # True (1^3 + 5^3 + 3^3 = 153)\n",
    "print(armstrong(1634))   # True (1^4 + 6^4 + 3^4 + 4^4 = 1634)\n",
    "print(armstrong(1234))   # False"
   ]
  },
  {
   "cell_type": "code",
   "execution_count": null,
   "id": "c9a5cc91",
   "metadata": {},
   "outputs": [
    {
     "name": "stdout",
     "output_type": "stream",
     "text": [
      "[1, 2, 3, 4, 6, 9, 12, 18, 36]\n"
     ]
    }
   ],
   "source": [
    "def find_divisors(n):\n",
    "    diviors=set()\n",
    "    for i in range(1,int(n**0.5)+1):\n",
    "        if n%i==0:\n",
    "            diviors.add(i)\n",
    "            diviors.add(n//i)\n",
    "    return sorted(diviors)\n",
    "print(find_divisors(36))\n",
    "# Efficient: Only iterates up to √n.\n",
    "\n",
    "# Uses set() to avoid duplicates automatically.\n",
    "\n",
    "# Returns a sorted list → useful in other functions or logic.           "
   ]
  },
  {
   "cell_type": "code",
   "execution_count": 3,
   "id": "601594df",
   "metadata": {},
   "outputs": [
    {
     "name": "stdout",
     "output_type": "stream",
     "text": [
      "[1, 2, 3, 4, 6, 9, 12, 18, 36]\n"
     ]
    }
   ],
   "source": [
    "def get_all_divisors(n):\n",
    "    divisors = []\n",
    "    for i in range(1, n + 1):\n",
    "        if n % i == 0:\n",
    "            divisors.append(i)\n",
    "    return divisors\n",
    "print(get_all_divisors(36)  )          "
   ]
  },
  {
   "cell_type": "code",
   "execution_count": 7,
   "id": "715ab9e9",
   "metadata": {},
   "outputs": [
    {
     "data": {
      "text/plain": [
       "False"
      ]
     },
     "execution_count": 7,
     "metadata": {},
     "output_type": "execute_result"
    }
   ],
   "source": [
    "def check_prime(n):\n",
    "    if n<=1:\n",
    "        return False\n",
    "    for i in range(2,n):\n",
    "        if n%i==0:\n",
    "            return False\n",
    "    return True      \n",
    "check_prime(36)             "
   ]
  },
  {
   "cell_type": "code",
   "execution_count": null,
   "id": "a5f52d0a",
   "metadata": {},
   "outputs": [
    {
     "name": "stdout",
     "output_type": "stream",
     "text": [
      "True\n"
     ]
    }
   ],
   "source": [
    "def is_prime_optimized(n):\n",
    "    if n<=1:\n",
    "        return False\n",
    "    if n==2:\n",
    "        return True\n",
    "    if n % 2==0:\n",
    "        return False\n",
    "    for i in range(3,int(n**0.5)+1,2):\n",
    "        if n%i==0:\n",
    "            return False\n",
    "    return True\n",
    "print(is_prime_optimized(11))    \n",
    "# tc is o(sqrt of n)"
   ]
  },
  {
   "cell_type": "code",
   "execution_count": null,
   "id": "b70f375a",
   "metadata": {},
   "outputs": [
    {
     "name": "stdout",
     "output_type": "stream",
     "text": [
      "2\n"
     ]
    }
   ],
   "source": [
    "def gcd(n1,n2):\n",
    "    if n2==0:\n",
    "        return n1\n",
    "    return gcd(n2,n1%n2)\n",
    "print(gcd(6,4))\n",
    "# euclidian algo recursive\n",
    "    "
   ]
  },
  {
   "cell_type": "code",
   "execution_count": null,
   "id": "5f2c3eef",
   "metadata": {},
   "outputs": [
    {
     "name": "stdout",
     "output_type": "stream",
     "text": [
      "6\n",
      "25\n",
      "1\n"
     ]
    }
   ],
   "source": [
    "def find_gcd(n1, n2):\n",
    "    while n2 != 0:\n",
    "        n1, n2 = n2, n1 % n2\n",
    "    return n1\n",
    "print(find_gcd(48, 18))  # Output: 6\n",
    "print(find_gcd(100, 25)) # Output: 25\n",
    "print(find_gcd(7, 13))   # Output: 1 (co-prime)\n",
    "# euclidian algo\n",
    "\n"
   ]
  },
  {
   "cell_type": "code",
   "execution_count": null,
   "id": "f8603041",
   "metadata": {},
   "outputs": [
    {
     "name": "stdout",
     "output_type": "stream",
     "text": [
      "Before hello function\n",
      "Hello !\n",
      "thanks\n",
      "Before hello function\n",
      "4\n",
      "thanks\n"
     ]
    }
   ],
   "source": [
    "def welcome(fx):\n",
    "    def mfx(*t,**d):\n",
    "        print(\"Before hello function\")\n",
    "        fx(*t,**d) #args to take arguements as tuple , **kwargs to take arguement \n",
    "        print(\"thanks\")\n",
    "    return mfx\n",
    "@welcome #decorator function without arguements\n",
    "def hello():\n",
    "    print(\"Hello!\")\n",
    "\n",
    "@welcome #decorator function with arguements\n",
    "def add(a,b):\n",
    "    print(a+b)\n",
    "\n",
    "hello()\n",
    "add(1,3)                "
   ]
  },
  {
   "cell_type": "code",
   "execution_count": 2,
   "id": "f6a5022d",
   "metadata": {},
   "outputs": [
    {
     "data": {
      "text/plain": [
       "900"
      ]
     },
     "execution_count": 2,
     "metadata": {},
     "output_type": "execute_result"
    }
   ],
   "source": [
    "#class decorator\n",
    "class Calculate:\n",
    "    \n",
    "    def __init__(self,func, *args, **kwargs):\n",
    "        self.function=func\n",
    "    def __call__(self, *args, **kwds):\n",
    "        result=self.function(*args,**kwds)    \n",
    "        return result**2\n",
    "\n",
    "@Calculate\n",
    "def add(a,b):\n",
    "    return a+b\n",
    "add(10,20)    \n",
    "    "
   ]
  },
  {
   "cell_type": "code",
   "execution_count": 9,
   "id": "25a20d72",
   "metadata": {},
   "outputs": [
    {
     "name": "stdout",
     "output_type": "stream",
     "text": [
      "pass\n",
      "Distinction\n",
      "pass\n",
      "pass\n",
      "pass\n",
      "Distinction\n",
      "pass\n",
      "results: ['pass', 'pass', 'pass', 'pass', 'pass']\n"
     ]
    }
   ],
   "source": [
    "def decor_result(result_function):\n",
    "    def distinction(marks):\n",
    "        results=[] #List to store results for each element\n",
    "        for m in marks:\n",
    "            if m>=75:\n",
    "                print(\"Distinction\")\n",
    "            results.append(result_function([m]))  \n",
    "        return results\n",
    "    return distinction    \n",
    "\n",
    "@decor_result\n",
    "def result(marks):\n",
    "    for m in marks:\n",
    "        if m>=33:\n",
    "            pass\n",
    "        else:\n",
    "            print(\"Fail\")\n",
    "            return \"fail\"  \n",
    "    else:\n",
    "        print(\"pass\")    \n",
    "        return \"pass\"\n",
    "results=result([45,78,34,66,90])\n",
    "print(\"results:\",results)    \n",
    "        "
   ]
  },
  {
   "cell_type": "code",
   "execution_count": null,
   "id": "42aad392",
   "metadata": {},
   "outputs": [],
   "source": [
    "l1=[23,65,22,86,89]\n",
    "it=iter(l1)\n",
    "while True:\n",
    "    try:\n",
    "        print(next(it))\n",
    "    except StopIteration:\n",
    "        break    "
   ]
  },
  {
   "cell_type": "code",
   "execution_count": 10,
   "id": "9b6ef618",
   "metadata": {},
   "outputs": [
    {
     "name": "stdout",
     "output_type": "stream",
     "text": [
      "[2, 4, 6, 8, 10, 12, 14, 16, 18, 20]\n"
     ]
    }
   ],
   "source": [
    "def evenNum(n):\n",
    "    i=1\n",
    "    while n:\n",
    "        yield 2*i\n",
    "        i+=1\n",
    "        n-=1\n",
    "it=evenNum(10)\n",
    "even_list=[]\n",
    "while True:\n",
    "    try:\n",
    "        even_list.append(next(it))\n",
    "    except StopIteration:\n",
    "        break\n",
    "print(even_list)\n",
    "                "
   ]
  },
  {
   "cell_type": "code",
   "execution_count": 12,
   "id": "daf1ed88",
   "metadata": {},
   "outputs": [
    {
     "name": "stdout",
     "output_type": "stream",
     "text": [
      "Hello,Abhutosh!\n",
      "Hi,Bob!\n"
     ]
    }
   ],
   "source": [
    "def greet(name,greeting=\"Hello\"):\n",
    "    return f\"{greeting},{name}!\"\n",
    "print(greet(\"Abhutosh\"))\n",
    "print(greet(\"Bob\",\"Hi\"))"
   ]
  },
  {
   "cell_type": "code",
   "execution_count": 13,
   "id": "65077fa7",
   "metadata": {},
   "outputs": [
    {
     "name": "stdout",
     "output_type": "stream",
     "text": [
      "4\n",
      "15\n"
     ]
    }
   ],
   "source": [
    "# using variable args\n",
    "def add(*t):\n",
    "    return sum(t)\n",
    "print(add(1,3))\n",
    "print(add(1,3,5,6))\n"
   ]
  },
  {
   "cell_type": "code",
   "execution_count": 14,
   "id": "36cda430",
   "metadata": {},
   "outputs": [
    {
     "name": "stdout",
     "output_type": "stream",
     "text": [
      "Processing an integer: 10\n",
      "Processing a string: hello\n"
     ]
    }
   ],
   "source": [
    "from functools import singledispatch\n",
    "\n",
    "@singledispatch\n",
    "def process(value):\n",
    "    raise NotImplementedError(\"Unsupported type\")\n",
    "\n",
    "@process.register(int)\n",
    "def _(value):\n",
    "    return f\"Processing an integer: {value}\"\n",
    "\n",
    "@process.register(str)\n",
    "def _(value):\n",
    "    return f\"Processing a string: {value}\"\n",
    "\n",
    "print(process(10))\n",
    "print(process(\"hello\"))"
   ]
  },
  {
   "cell_type": "code",
   "execution_count": 15,
   "id": "cda86b82",
   "metadata": {},
   "outputs": [
    {
     "name": "stdout",
     "output_type": "stream",
     "text": [
      "6\n",
      "120\n"
     ]
    }
   ],
   "source": [
    "class Math:\n",
    "    @staticmethod\n",
    "    def multiply(a,b):\n",
    "        return a*b\n",
    "    @staticmethod\n",
    "    def mutiply(a,b,c):\n",
    "        return a*b*c\n",
    "\n",
    "class Math:\n",
    "    @staticmethod\n",
    "    def multiply(*t):\n",
    "        result=1\n",
    "        for num in t:\n",
    "            result*=num    \n",
    "        return result\n",
    "\n",
    "print(Math.multiply(2,3))        \n",
    "print(Math.multiply(2,3,4,5))        "
   ]
  },
  {
   "cell_type": "code",
   "execution_count": null,
   "id": "0d0dae10",
   "metadata": {},
   "outputs": [],
   "source": []
  }
 ],
 "metadata": {
  "kernelspec": {
   "display_name": ".venv",
   "language": "python",
   "name": "python3"
  },
  "language_info": {
   "codemirror_mode": {
    "name": "ipython",
    "version": 3
   },
   "file_extension": ".py",
   "mimetype": "text/x-python",
   "name": "python",
   "nbconvert_exporter": "python",
   "pygments_lexer": "ipython3",
   "version": "3.11.5"
  }
 },
 "nbformat": 4,
 "nbformat_minor": 5
}
