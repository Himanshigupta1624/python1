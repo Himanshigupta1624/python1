{
 "cells": [
  {
   "cell_type": "code",
   "execution_count": 2,
   "id": "c8b4f450",
   "metadata": {},
   "outputs": [
    {
     "name": "stdout",
     "output_type": "stream",
     "text": [
      "2 3 5 7 11 13 17 19 23 29 "
     ]
    }
   ],
   "source": [
    "def isprime(num):\n",
    "    for i in range(2,num):\n",
    "        if num%i==0:\n",
    "            return False\n",
    "    return True \n",
    "def prime_generator(n):\n",
    "    num=2\n",
    "    while n:\n",
    "        if isprime(num):\n",
    "            yield num\n",
    "            n-=1\n",
    "        num+=1\n",
    "x=int(input(\"Enter no. of prime numbers required\"))\n",
    "it=prime_generator(x)\n",
    "for e in it :\n",
    "    print(e,end=\" \")   "
   ]
  },
  {
   "cell_type": "code",
   "execution_count": 4,
   "id": "0493049a",
   "metadata": {},
   "outputs": [
    {
     "data": {
      "text/plain": [
       "True"
      ]
     },
     "execution_count": 4,
     "metadata": {},
     "output_type": "execute_result"
    }
   ],
   "source": [
    "def prime_no(n):\n",
    "    Flag=False\n",
    "    if n<2:\n",
    "        return Flag\n",
    "    else:\n",
    "        for i in range(2,n):\n",
    "            if n%i==0:\n",
    "                return Flag\n",
    "            else:\n",
    "                Flag=True\n",
    "                return Flag\n",
    "num=int(input(\"Enter a number:\"))\n",
    "prime_no(num)            "
   ]
  },
  {
   "cell_type": "code",
   "execution_count": 6,
   "id": "bfca126a",
   "metadata": {},
   "outputs": [
    {
     "name": "stdout",
     "output_type": "stream",
     "text": [
      "Average are  49.375 49.375\n"
     ]
    }
   ],
   "source": [
    "# Implementing variable length arguements in python\n",
    "def average(*t):\n",
    "    avg=sum(t)/len(t)\n",
    "    return avg\n",
    "result1=average(32,5,65,87,45,30,35,96)    \n",
    "result2=average(32,5,65,87,45,30,35,96)\n",
    "print(\"Average are \", result1,result2)    "
   ]
  },
  {
   "cell_type": "code",
   "execution_count": null,
   "id": "453ea2ea",
   "metadata": {},
   "outputs": [],
   "source": [
    "def average_with_kwargs(**kwargs):\n",
    "    values=list(kwargs.values())\n",
    "    avg=sum(values)/len(values)\n",
    "    return avg"
   ]
  }
 ],
 "metadata": {
  "kernelspec": {
   "display_name": ".venv",
   "language": "python",
   "name": "python3"
  },
  "language_info": {
   "name": "python",
   "version": "3.11.5"
  }
 },
 "nbformat": 4,
 "nbformat_minor": 5
}
